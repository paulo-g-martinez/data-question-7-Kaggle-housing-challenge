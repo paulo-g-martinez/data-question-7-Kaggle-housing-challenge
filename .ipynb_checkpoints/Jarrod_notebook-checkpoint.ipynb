{
 "cells": [
  {
   "cell_type": "code",
   "execution_count": 1,
   "metadata": {
    "_cell_guid": "675a04cd-45bc-4d1e-baa0-e2625b208536",
    "_uuid": "eb9526c07c01b8f4c3c2c8eb76056c93d1362e68",
    "collapsed": true
   },
   "outputs": [],
   "source": [
    "import pandas as pd\n",
    "import numpy as np\n",
    "import matplotlib.pyplot as plt \n",
    "import seaborn as sns\n",
    "import re\n",
    "from sklearn.model_selection import train_test_split, cross_val_score, GridSearchCV\n",
    "from sklearn.pipeline import Pipeline, FeatureUnion\n",
    "from sklearn.preprocessing import RobustScaler, FunctionTransformer, Imputer\n",
    "from sklearn.metrics import mean_squared_error"
   ]
  },
  {
   "cell_type": "code",
   "execution_count": 2,
   "metadata": {
    "_cell_guid": "d44a559d-f63e-4885-9214-73dfb752c2f2",
    "_uuid": "220ae59a300be4892972586c0ce93f8d3b324e15",
    "collapsed": true
   },
   "outputs": [],
   "source": [
    "from scipy.stats import skew, kurtosis"
   ]
  },
  {
   "cell_type": "code",
   "execution_count": 3,
   "metadata": {
    "_cell_guid": "cfa0143c-7962-463c-a4c1-ec90bcd28775",
    "_uuid": "64776e385305d572267eb8464be25fa5024093d4",
    "collapsed": true
   },
   "outputs": [],
   "source": [
    "from sklearn.linear_model import Ridge, Lasso, ElasticNet, BayesianRidge, LinearRegression\n",
    "from sklearn.linear_model import RidgeCV, LassoCV, ElasticNetCV"
   ]
  },
  {
   "cell_type": "code",
   "execution_count": 4,
   "metadata": {
    "_cell_guid": "dc1f32a1-0355-4c97-b3f2-9c6c6a344333",
    "_uuid": "a1a33ba35937a50b7ad264039d3a4383fc5023d9",
    "collapsed": true
   },
   "outputs": [],
   "source": [
    "read_df = pd.read_csv('data/train.csv')\n",
    "test_data = pd.read_csv('data/test.csv')"
   ]
  },
  {
   "cell_type": "markdown",
   "metadata": {
    "_cell_guid": "59f1ad97-3f94-4426-9028-7bf2f07744a5",
    "_uuid": "92ddcde429337d840922911a77d754e5490c206b"
   },
   "source": [
    "## EDA"
   ]
  },
  {
   "cell_type": "markdown",
   "metadata": {
    "_cell_guid": "c3eca4a8-364d-4487-bff2-fbd8160b906d",
    "_uuid": "8c7e988996cd567fb14bdb3dccf7c98e95e1562f"
   },
   "source": [
    "#### Remove outliers"
   ]
  },
  {
   "cell_type": "code",
   "execution_count": 5,
   "metadata": {
    "_cell_guid": "91313ca3-ecf8-468a-b745-47851063236a",
    "_uuid": "aeda1af198cfd7dd398091b7b7c8c5a0759fa595",
    "scrolled": false
   },
   "outputs": [
    {
     "data": {
      "text/html": [
       "<div>\n",
       "<style>\n",
       "    .dataframe thead tr:only-child th {\n",
       "        text-align: right;\n",
       "    }\n",
       "\n",
       "    .dataframe thead th {\n",
       "        text-align: left;\n",
       "    }\n",
       "\n",
       "    .dataframe tbody tr th {\n",
       "        vertical-align: top;\n",
       "    }\n",
       "</style>\n",
       "<table border=\"1\" class=\"dataframe\">\n",
       "  <thead>\n",
       "    <tr style=\"text-align: right;\">\n",
       "      <th></th>\n",
       "      <th>SalePrice</th>\n",
       "      <th>GrLivArea</th>\n",
       "      <th>OverallQual</th>\n",
       "    </tr>\n",
       "  </thead>\n",
       "  <tbody>\n",
       "    <tr>\n",
       "      <th>1298</th>\n",
       "      <td>160000</td>\n",
       "      <td>5642</td>\n",
       "      <td>10</td>\n",
       "    </tr>\n",
       "    <tr>\n",
       "      <th>523</th>\n",
       "      <td>184750</td>\n",
       "      <td>4676</td>\n",
       "      <td>10</td>\n",
       "    </tr>\n",
       "    <tr>\n",
       "      <th>1182</th>\n",
       "      <td>745000</td>\n",
       "      <td>4476</td>\n",
       "      <td>10</td>\n",
       "    </tr>\n",
       "  </tbody>\n",
       "</table>\n",
       "</div>"
      ],
      "text/plain": [
       "      SalePrice  GrLivArea  OverallQual\n",
       "1298     160000       5642           10\n",
       "523      184750       4676           10\n",
       "1182     745000       4476           10"
      ]
     },
     "execution_count": 5,
     "metadata": {},
     "output_type": "execute_result"
    }
   ],
   "source": [
    "read_df[['SalePrice', 'GrLivArea', 'OverallQual']].sort_values('GrLivArea', ascending=False).head(3)"
   ]
  },
  {
   "cell_type": "code",
   "execution_count": null,
   "metadata": {
    "_cell_guid": "4fb2f63d-d6f3-4672-879d-997691ab7758",
    "_uuid": "afd476b557ad118d57441babd6e18a6db9d87b5d",
    "collapsed": true
   },
   "outputs": [],
   "source": [
    "read_df.drop([1298, 523], inplace=True)"
   ]
  },
  {
   "cell_type": "code",
   "execution_count": null,
   "metadata": {
    "_cell_guid": "70ea74bb-eb1b-4d24-b31b-3b29b80c6899",
    "_uuid": "ec933a56dcc0d18187ce65fb6b36c2e2d31dc091",
    "collapsed": true
   },
   "outputs": [],
   "source": [
    "read_df.groupby(['Neighborhood'])[['SalePrice']].agg(['count','median','mean', 'min', 'max']).sort_values(\n",
    "    ('SalePrice','median'), ascending=False)"
   ]
  },
  {
   "cell_type": "code",
   "execution_count": null,
   "metadata": {
    "_cell_guid": "b4ddd553-6d10-477c-b507-7360145b90de",
    "_uuid": "75dba3d42b928abc998fd5dcf0b9cae168238234",
    "collapsed": true
   },
   "outputs": [],
   "source": [
    "read_df.groupby(['Neighborhood', 'MSZoning',  'MSSubClass'])[['SalePrice']].agg(['count','median','mean', 'min', 'max']).sort_values(\n",
    "    ('SalePrice','median'), ascending=False)"
   ]
  },
  {
   "cell_type": "markdown",
   "metadata": {
    "_cell_guid": "9a12b151-db09-4395-a221-f55ef7df0676",
    "_uuid": "942c473a1031472f7e96cd7cbbe1cbe0459d3d89"
   },
   "source": [
    "### Looking for Interactions\n",
    "Look for variables that have different slopes for different levels of the variable. See the neighborhood example below - compare 'Crawford' to 'NoRidge' - the slopes are different. "
   ]
  },
  {
   "cell_type": "code",
   "execution_count": null,
   "metadata": {
    "_cell_guid": "1ba93a46-a937-44c1-ba0c-f1e31df3bd9f",
    "_uuid": "aea81767132e1be198674a8a8f8756ee8ddce2ab",
    "collapsed": true
   },
   "outputs": [],
   "source": [
    "g = sns.lmplot(x=\"GrLivArea\", y=\"SalePrice\", col=\"Neighborhood\",\n",
    "           sharex = True, sharey = True, logx=False, data=read_df, \n",
    "          col_wrap=2)\n",
    "g.set(xlim=(500, 4800), ylim=(10000, 800000))\n",
    "plt.show()"
   ]
  },
  {
   "cell_type": "code",
   "execution_count": null,
   "metadata": {
    "_cell_guid": "3e118ce5-216d-4a52-885f-4f76a2e64670",
    "_uuid": "719b147741211299e7b42aec482d3c4c78dc3f7c",
    "collapsed": true
   },
   "outputs": [],
   "source": [
    "g = sns.lmplot(x=\"GrLivArea\", y=\"SalePrice\", col=\"OverallQual\",\n",
    "           sharex = True, sharey = True, logx=False, data=read_df, \n",
    "          col_wrap=2)\n",
    "g.set(xlim=(500, 4800), ylim=(10000, 800000))\n",
    "plt.show()\n"
   ]
  },
  {
   "cell_type": "code",
   "execution_count": null,
   "metadata": {
    "_cell_guid": "89c478d6-ebf0-4758-a215-a04a837d8d2c",
    "_uuid": "b3f6ae3f7291ed9673e2cd27c85d69dcd1eb6132",
    "collapsed": true
   },
   "outputs": [],
   "source": [
    "g = sns.lmplot(x=\"GrLivArea\", y=\"SalePrice\", col=\"Foundation\",\n",
    "           sharex = True, sharey = True, logx=False, data=read_df, \n",
    "          col_wrap=2);\n",
    "g.set(xlim=(500, 4800), ylim=(10000, 800000))\n",
    "plt.show()\n"
   ]
  },
  {
   "cell_type": "markdown",
   "metadata": {
    "_cell_guid": "bdde3566-e4ff-4410-841b-eabffbfb9e51",
    "_uuid": "451c4d33f70ad55ec68bbdcea53ac73b1fb9fc2b"
   },
   "source": [
    "### Add new features to read_df and test_data"
   ]
  },
  {
   "cell_type": "code",
   "execution_count": null,
   "metadata": {
    "_cell_guid": "476b7298-7252-4269-83ee-07959e1f35ff",
    "_uuid": "ec0e34b3aa780bd472a85d48c9486f1c1c0c6a99",
    "collapsed": true
   },
   "outputs": [],
   "source": [
    "read_df['Age'] = np.max(read_df[['YrSold', 'YearRemodAdd']], axis = 1) - read_df['YearRemodAdd'] + 1\n",
    "test_data['Age'] = np.max(read_df[['YrSold', 'YearRemodAdd']], axis = 1) - test_data['YearRemodAdd'] + 1"
   ]
  },
  {
   "cell_type": "code",
   "execution_count": null,
   "metadata": {
    "_cell_guid": "8ed25d54-d6f0-466f-a0e8-c6a10ac079d9",
    "_uuid": "61f15d658d1eabc8b2172f9f2dd487c86354b149",
    "collapsed": true
   },
   "outputs": [],
   "source": [
    "#%matplotlib inline"
   ]
  },
  {
   "cell_type": "code",
   "execution_count": null,
   "metadata": {
    "_cell_guid": "23937f4a-0704-4e9c-bcd5-447b4faaf3fd",
    "_uuid": "46186012c6e7cbb4eebbb3e9ebeb61b1c3024061",
    "collapsed": true
   },
   "outputs": [],
   "source": [
    "plt.figure(figsize=(15,8))\n",
    "sns.boxplot(read_df.Age, read_df.SalePrice)\n",
    "plt.show()"
   ]
  },
  {
   "cell_type": "markdown",
   "metadata": {
    "_cell_guid": "256a5270-3188-4950-9aba-72aaf68a7d90",
    "_uuid": "c3be1463b19d1582e60d1677f0c63d82c7225057"
   },
   "source": [
    "#### Identify columns, assign to lists so that they can be processed separetely when needed"
   ]
  },
  {
   "cell_type": "code",
   "execution_count": null,
   "metadata": {
    "_cell_guid": "ee292e1e-876c-4a9c-a818-a04e4a0ff72e",
    "_uuid": "a0b64ed7a5be1ea07f22e6b5c122ddd45ad01725",
    "collapsed": true
   },
   "outputs": [],
   "source": [
    "to_string_cols = ['MSSubClass','GarageYrBlt', 'YearBuilt', 'YearRemodAdd', \n",
    "              'YrSold', 'MoSold' ]\n",
    "read_df[to_string_cols] = read_df[to_string_cols].astype('str')\n",
    "test_data[to_string_cols] = test_data[to_string_cols].astype('str')\n",
    "\n",
    "numeric_cols = read_df.dtypes[(read_df.dtypes == 'int64') | (read_df.dtypes == 'float64')].index.tolist()\n",
    "exclude_numeric_cols = ['Id', 'SalePrice']\n",
    "numeric_cols = [x for x in numeric_cols if x not in exclude_numeric_cols]\n",
    "\n",
    "cat_cols = read_df.dtypes[read_df.dtypes =='object'].index.tolist()\n",
    "\n",
    "exclude_cat_cols = ['Alley', 'Condition2']\n",
    "\n",
    "\n",
    "cat_cols = [x for x in cat_cols if x not in exclude_cat_cols]\n",
    "area_cols = [x for x in numeric_cols if re.search(r'Area|SF|Porch', x)]"
   ]
  },
  {
   "cell_type": "markdown",
   "metadata": {
    "_cell_guid": "f6e61085-bf34-45e7-a5e8-c2b4a3e65378",
    "_uuid": "f1c63737a8383fbb04563b1733109cd4ca6ab88c"
   },
   "source": [
    "#### Give datasets common categories for categorical columns"
   ]
  },
  {
   "cell_type": "code",
   "execution_count": null,
   "metadata": {
    "_cell_guid": "cedd8537-847f-4edf-abda-32c784375d21",
    "_uuid": "0dd42313e9f0fe27d5f4f9e702b50b35831bd37b",
    "collapsed": true
   },
   "outputs": [],
   "source": [
    "def set_combined_categories(df1, df2):\n",
    "    df = df1.copy()\n",
    "    try: \n",
    "        cols = df1.columns\n",
    "    except:\n",
    "        cols = df1.name\n",
    "    for col in cols:\n",
    "        col_categories = np.union1d(df1[col].astype('category').cat.categories, \n",
    "                                    df2[col].astype('category').cat.categories)\n",
    "        df[col] = df1[col].astype('category').cat.set_categories(col_categories)\n",
    "    return df"
   ]
  },
  {
   "cell_type": "code",
   "execution_count": null,
   "metadata": {
    "_cell_guid": "993c0f92-d0e8-432d-b844-e9b3f2931da4",
    "_uuid": "3cc8084d4fcca50e653ea19b1d878468213ba227",
    "collapsed": true
   },
   "outputs": [],
   "source": [
    "read_df[cat_cols] = set_combined_categories(read_df[cat_cols], test_data)\n",
    "test_data[cat_cols] = set_combined_categories(test_data[cat_cols], read_df)"
   ]
  },
  {
   "cell_type": "markdown",
   "metadata": {
    "_cell_guid": "4e163cde-5f89-412a-a507-e1ac428a7658",
    "_uuid": "c4e21336834e1b89befcddf8717883e43e3a1dfe"
   },
   "source": [
    "Remove unused categories from training data so that they don't become dummy-coded columns"
   ]
  },
  {
   "cell_type": "code",
   "execution_count": null,
   "metadata": {
    "_cell_guid": "64530c1f-a33d-49e8-ba66-e9d8525270bd",
    "_uuid": "59bfca7f1d6428e302981b98d2cc1078f73673e5",
    "collapsed": true
   },
   "outputs": [],
   "source": [
    "for col in cat_cols: \n",
    "    read_df[col].cat.remove_unused_categories(inplace=True)"
   ]
  },
  {
   "cell_type": "markdown",
   "metadata": {
    "_cell_guid": "d6fd5935-c39f-446f-8b7f-c0a26e6f12b4",
    "_uuid": "fa37ea2ba59f83fd5c990906c608f847fc758ad2"
   },
   "source": [
    "Fill NAs for numerics and a couple categoricals"
   ]
  },
  {
   "cell_type": "code",
   "execution_count": null,
   "metadata": {
    "_cell_guid": "cb7f9845-0cb0-42f8-8834-45f31228db47",
    "_uuid": "d0329e69f5301fac7b42381aa1a53ff31a2cba98",
    "collapsed": true
   },
   "outputs": [],
   "source": [
    "def fix_nas(df):\n",
    "    fill_with_zero = ['MasVnrArea', 'LotFrontage']\n",
    "    test_fill_with_zero = ['BsmtFullBath', 'BsmtHalfBath', 'TotalBsmtSF', 'BsmtFinSF1',\n",
    "                'GarageCars', 'BsmtUnfSF', 'BsmtFinSF2', 'GarageArea' ]\n",
    "    fill_na_cols = fill_with_zero + test_fill_with_zero\n",
    "    df[fill_na_cols] =  df[fill_na_cols].fillna(0)\n",
    "    df.loc[df.Electrical.isna(), 'Electrical'] = 'SBrkr'\n",
    "    df.loc[df.MasVnrType.isna(), 'MasVnrType'] = 'None'\n",
    "    return df\n"
   ]
  },
  {
   "cell_type": "code",
   "execution_count": null,
   "metadata": {
    "_cell_guid": "26d98611-6308-42db-bc5c-27864b05cfaf",
    "_uuid": "3ccecf41db45ac521a0986cab9c5aa7f716e2227",
    "collapsed": true
   },
   "outputs": [],
   "source": [
    "read_df = fix_nas(read_df)\n",
    "test_data = fix_nas(test_data)"
   ]
  },
  {
   "cell_type": "markdown",
   "metadata": {
    "_cell_guid": "60d587ec-0c3c-48ce-88c5-bc8e76fec94e",
    "_uuid": "e4f2c5805b9d761e08c9260fc6ddda11ae833b7f"
   },
   "source": [
    "#### Categoricals with missing values (currently left as is)"
   ]
  },
  {
   "cell_type": "code",
   "execution_count": null,
   "metadata": {
    "_cell_guid": "0e04530c-371f-4d3c-bbcd-1fa7b4ab5960",
    "_uuid": "5319456f91dea1ae3055c726beb1f4bde3f5867a",
    "collapsed": true
   },
   "outputs": [],
   "source": [
    "test_data[cat_cols].isnull().sum().to_frame('Test Nulls').sort_values(\n",
    "    'Test Nulls', ascending=False).head(20).join(\n",
    "(read_df[cat_cols].isnull().sum().to_frame('Train Nulls').sort_values(\n",
    "    'Train Nulls', ascending=False).head(13)), how='outer').fillna(0)"
   ]
  },
  {
   "cell_type": "markdown",
   "metadata": {
    "_cell_guid": "f4a13f8b-07c9-4298-8f55-8305e6352641",
    "_uuid": "f3437790beca53498d31e35cf79ee3630e8adf97"
   },
   "source": [
    "Check for numeric nulls in both data sets"
   ]
  },
  {
   "cell_type": "code",
   "execution_count": null,
   "metadata": {
    "_cell_guid": "3b6a9386-8e4d-45e2-8692-cf3ee3f609b3",
    "_uuid": "45143d25da5109bad6662bdb928a3e7bd3e92233",
    "collapsed": true,
    "scrolled": true
   },
   "outputs": [],
   "source": [
    "print(np.sum(read_df[numeric_cols].any().isna()))\n",
    "print(np.sum(test_data[numeric_cols].any().isna()))"
   ]
  },
  {
   "cell_type": "markdown",
   "metadata": {
    "_cell_guid": "9db6826e-e123-466c-9229-eacdba5857cb",
    "_uuid": "24ae9b0a156655a5d71d1dd45013495e663a9b9f"
   },
   "source": [
    "#### Varialbes to hold lists of columns to use"
   ]
  },
  {
   "cell_type": "code",
   "execution_count": null,
   "metadata": {
    "_cell_guid": "4ddcc2e7-87df-42d6-856e-1b625c98daf1",
    "_uuid": "4f170b62446fd5177599193f7c68015f590ab316",
    "collapsed": true
   },
   "outputs": [],
   "source": [
    "continuous_vars = [x for x in numeric_cols if x not in area_cols]\n",
    "area_vars = area_cols"
   ]
  },
  {
   "cell_type": "markdown",
   "metadata": {
    "_cell_guid": "d437cde7-8105-4d3d-9d80-46dfee567ae9",
    "_uuid": "f1e71ac85a82d9ceb077c07fc2fe6ba1d90c5f45"
   },
   "source": [
    "#### Pairs of variables from which to calculate interaction variables"
   ]
  },
  {
   "cell_type": "code",
   "execution_count": null,
   "metadata": {
    "_cell_guid": "8fabfd81-92fc-46d4-80c8-282b53819cf8",
    "_uuid": "dae562123ec9e618d329eaa655d054d2d546f85c",
    "collapsed": true
   },
   "outputs": [],
   "source": [
    "int_pairs = [('GrLivArea', 'Neighborhood'), \n",
    "             ('GrLivArea', 'Functional'), \n",
    "             ('GrLivArea', 'OverallQual')]"
   ]
  },
  {
   "cell_type": "markdown",
   "metadata": {
    "_cell_guid": "0fe9b335-74ff-4680-b6b6-b9f8eb0b6a78",
    "_uuid": "9160305f3871ff7b7702a809bcfc269b7b1c3c31"
   },
   "source": [
    "#### Functions to use outside of pipeline"
   ]
  },
  {
   "cell_type": "code",
   "execution_count": null,
   "metadata": {
    "_cell_guid": "cce15333-0b72-4eea-b167-55a5b8592086",
    "_uuid": "368767c698850166c4dabe43ed9a4833411091b1",
    "collapsed": true
   },
   "outputs": [],
   "source": [
    "# Define the lambda function: categorize_label\n",
    "categorize_label = lambda x: x.astype('category')\n",
    "get_X_area = lambda x:x[area_vars]\n",
    "get_X_cont = lambda x:x[continuous_vars]\n",
    "get_X_cat = lambda x: pd.get_dummies(x[cat_cols]).apply(categorize_label)\n",
    "\n",
    "get_X = lambda x: get_X_cont(x).join(get_X_area(x)).join(get_X_cat(x))"
   ]
  },
  {
   "cell_type": "markdown",
   "metadata": {
    "_cell_guid": "fb70fb06-ffbe-437b-9930-5708a68b35a9",
    "_uuid": "bb0a1b6e2562abb86634c6530c4c71dbc8d3c05d"
   },
   "source": [
    "#### Create X from entire training set, X_submit from test data"
   ]
  },
  {
   "cell_type": "code",
   "execution_count": null,
   "metadata": {
    "_cell_guid": "dc4a9135-aca4-4ecf-94b4-b31cc85c5e32",
    "_uuid": "553e6e2b0b5d1622d15339196e2c75edc6338671",
    "collapsed": true
   },
   "outputs": [],
   "source": [
    "X = get_X(read_df)\n",
    "X_submit = get_X(test_data)"
   ]
  },
  {
   "cell_type": "markdown",
   "metadata": {
    "_cell_guid": "1f08a549-55d9-4b18-902b-b662f606bdb3",
    "_uuid": "975eb30880e6ec9026e98d39a72fdc298055b9e1"
   },
   "source": [
    "The test data has more columns because it has some levels of categorical variables that aren't present in the train dataset (see below)"
   ]
  },
  {
   "cell_type": "code",
   "execution_count": null,
   "metadata": {
    "_cell_guid": "708d74c2-60d8-4504-b2b5-8b727013497e",
    "_uuid": "d491347b05d7b65f7e5d7626bdd1b70a639f6d31",
    "collapsed": true,
    "scrolled": false
   },
   "outputs": [],
   "source": [
    "print(X.shape)\n",
    "print(X_submit.shape)"
   ]
  },
  {
   "cell_type": "code",
   "execution_count": null,
   "metadata": {
    "_cell_guid": "30594043-263c-4a41-9c56-265d91ff3755",
    "_uuid": "b080b42b5ae6fc7f6a99d3e26a63951bb348f808",
    "collapsed": true,
    "scrolled": false
   },
   "outputs": [],
   "source": [
    "[col for col in X_submit.columns if col not in X.columns]"
   ]
  },
  {
   "cell_type": "markdown",
   "metadata": {
    "_cell_guid": "c8c68410-6ced-4f56-92c7-2b92250b1b50",
    "_uuid": "e6f36c40d15f7cbe3dc7b271d757969067de4f35"
   },
   "source": [
    "Now that dummy variables have been created, we can define cat_vars."
   ]
  },
  {
   "cell_type": "code",
   "execution_count": null,
   "metadata": {
    "_cell_guid": "2af6b227-1b04-474d-8f49-8dcdef8e2af2",
    "_uuid": "bc0e8dcf13d30b01ea87fd3dea131dff78e57787",
    "collapsed": true
   },
   "outputs": [],
   "source": [
    "cat_vars = [x for x in X.columns if x not in area_vars + continuous_vars]"
   ]
  },
  {
   "cell_type": "markdown",
   "metadata": {
    "_cell_guid": "b779e532-c7c2-4fcb-a67d-71ca26094e33",
    "_uuid": "528c5df6d011d43c4028599ce96fbbcc5a7ce662"
   },
   "source": [
    "#### Assign y"
   ]
  },
  {
   "cell_type": "code",
   "execution_count": null,
   "metadata": {
    "_cell_guid": "12ad1206-f8a4-4db0-8d88-13564500779c",
    "_uuid": "5a03e56268b02494612d1a2841c8b5793b626b16",
    "collapsed": true
   },
   "outputs": [],
   "source": [
    "y = read_df['SalePrice']\n",
    "y_log = read_df['SalePrice'].apply(np.log)"
   ]
  },
  {
   "cell_type": "markdown",
   "metadata": {
    "_cell_guid": "1f599882-23df-4282-9603-1a01ea0721b3",
    "_uuid": "1bef8d490446e7af9b1321bd6727678c770592b9"
   },
   "source": [
    "#### Functions to turn object columns into categories and then select/transform variables in pipeline"
   ]
  },
  {
   "cell_type": "code",
   "execution_count": null,
   "metadata": {
    "_cell_guid": "61cb6cf1-c931-4941-88f3-e8a0ffc8fedf",
    "_uuid": "542f2ed5e776122d0512b9844fcbf27577e8af08",
    "collapsed": true
   },
   "outputs": [],
   "source": [
    "def get_categorical_datagorical_data_func(x):\n",
    "    df = x[cat_vars]\n",
    "    return df\n",
    "def get_continuous_data_func(x):\n",
    "    df = x[continuous_vars]\n",
    "    return df\n",
    "def get_area_data_func(x):\n",
    "    df = x[area_vars]\n",
    "    return df\n",
    "def log_scaler_func(x):\n",
    "    scaled = np.log1p(x)\n",
    "    return scaled "
   ]
  },
  {
   "cell_type": "code",
   "execution_count": null,
   "metadata": {
    "_cell_guid": "396bc591-2655-4d53-b0b1-a164eb44686b",
    "_uuid": "d09f70f61d56e7fe07fbb881acea0b8c04c175eb",
    "collapsed": true
   },
   "outputs": [],
   "source": [
    "def get_interaction_vars_func(x, col_pairs=int_pairs):\n",
    "    base_cols = []\n",
    "    # Create list of columns from tuples\n",
    "    [base_cols.extend(list(tup)) for tup in col_pairs]\n",
    "    # Get list of unique columns used to generate interaction variables\n",
    "    base_cols = list(set(base_cols))\n",
    "    x_cols = x.columns\n",
    "    df = x.copy()\n",
    "    for pair in col_pairs:\n",
    "        scaler_0 = lambda x: x \n",
    "        scaler_1 = lambda x: x \n",
    "        if pair[0] in area_vars:\n",
    "            scaler_0 = lambda x: np.log1p(x)\n",
    "        if pair[1] in area_vars:\n",
    "            scaler_1 = lambda x: np.log1p(x)\n",
    "        vals_0 = lambda x: x\n",
    "        vals_1 = lambda x: x\n",
    "        if pair[0] in cat_cols:\n",
    "            vals_0 = lambda x: x.astype('int')\n",
    "        if pair[1] in cat_cols:\n",
    "            vals_1 = lambda x: x.astype('float')\n",
    "        cols_first = x_cols[x_cols.str.startswith(pair[0])]\n",
    "        cols_second = x_cols[x_cols.str.startswith(pair[1])]\n",
    "        for col_first in cols_first:\n",
    "            for col_second in cols_second:\n",
    "                col_name = col_first + '_by_' + col_second\n",
    "                df[col_name] = scaler_0(vals_0(x[col_first])) * scaler_1(vals_1(x[col_second]))\n",
    "    keep_cols = [col for col in df.columns if col not in x_cols]\n",
    "    df = df[keep_cols]\n",
    "    return df   "
   ]
  },
  {
   "cell_type": "markdown",
   "metadata": {
    "_cell_guid": "1d40ad60-ca85-4507-9752-8b37a49243e8",
    "_uuid": "f47357d205eb51d711df88c6b8c3bc80d0b88df4"
   },
   "source": [
    "Test `get_interaction_vars_func` (scroll right in results)"
   ]
  },
  {
   "cell_type": "code",
   "execution_count": null,
   "metadata": {
    "_cell_guid": "7d2ec374-b411-4756-b9c8-79263a75b7f8",
    "_uuid": "ad36e42f71ee859cbd905bc6cd4a1b4a896d9c8c",
    "collapsed": true,
    "scrolled": false
   },
   "outputs": [],
   "source": [
    "get_interaction_vars_func(X.head())"
   ]
  },
  {
   "cell_type": "markdown",
   "metadata": {
    "_cell_guid": "a5155fdd-ab1d-4104-bc81-d61158705299",
    "_uuid": "81bbb923bda546c40f4f074d618d513c69c42cd9"
   },
   "source": [
    "#### Create transformer functions that can be used in pipelines. "
   ]
  },
  {
   "cell_type": "code",
   "execution_count": null,
   "metadata": {
    "_cell_guid": "e8fe706e-816f-442a-a1fe-ea7e7ce62f14",
    "_uuid": "eb630b08a17cbb3f060d25327d8b5083159bc116",
    "collapsed": true
   },
   "outputs": [],
   "source": [
    "# Create transformer functions that can be used in pipelines. \n",
    "get_categorical_data = FunctionTransformer(get_categorical_datagorical_data_func, validate=False)\n",
    "get_continuous_data = FunctionTransformer(get_continuous_data_func, validate=False)\n",
    "get_area_data = FunctionTransformer(get_area_data_func, validate=False)\n",
    "get_interction_features = FunctionTransformer(get_interaction_vars_func, validate=False)\n",
    "\n",
    "# Custom scaler for area columns; uses log(x + 1)\n",
    "log_scaler = FunctionTransformer(log_scaler_func, validate=False)"
   ]
  },
  {
   "cell_type": "markdown",
   "metadata": {
    "_cell_guid": "c1db35bb-58cc-4ed5-8f9f-01e29f534819",
    "_uuid": "f8785e1aba87c308415fc6d34e642e1a85dbc07c"
   },
   "source": [
    "#### Make pipelines for each type of feature. \n",
    "Each feature type needs different treatment. Some just need to be selected, some need to be log scaled (area features), and some need to be created in the pipeline (interaction variables)."
   ]
  },
  {
   "cell_type": "code",
   "execution_count": null,
   "metadata": {
    "_cell_guid": "ff95c732-1754-43e2-a384-3f9c045ca808",
    "_uuid": "dfe0a7484b0433272a0313c22b6e6de5eb6035ae",
    "collapsed": true
   },
   "outputs": [],
   "source": [
    "categorical = Pipeline([\n",
    "        ('selector', get_categorical_data)\n",
    "    ])\n",
    "coninuous = Pipeline([\n",
    "        ('selector', get_continuous_data),\n",
    "        ('imputer', Imputer())\n",
    "    ])\n",
    "area = Pipeline([\n",
    "        ('selector', get_area_data), \n",
    "        ('log_scaler', log_scaler)\n",
    "    ])\n",
    "interact = Pipeline([\n",
    "        ('selector', get_interction_features)\n",
    "    ])\n",
    "\n",
    "feats = FeatureUnion([('categorical', categorical), \n",
    "                      ('coninuous', coninuous), \n",
    "                      ('area', area), \n",
    "                      ('interact', interact)])\n",
    "\n",
    "#Turn the FeatureUnion into a pipeline\n",
    "feats_pipe = Pipeline([('feats', feats), \n",
    "                      ('robust_scaler', RobustScaler())])\n",
    "feats_pipe.fit_transform(X)"
   ]
  },
  {
   "cell_type": "markdown",
   "metadata": {
    "_cell_guid": "86a44a4e-93f9-4c19-9b25-9731f797dfcd",
    "_uuid": "02282ef50d7266438a5db4b1317de3a3faa80bf9"
   },
   "source": [
    "Function to cross-validate models"
   ]
  },
  {
   "cell_type": "code",
   "execution_count": null,
   "metadata": {
    "_cell_guid": "585899b0-48d2-49c0-8245-fa62c80ec734",
    "_uuid": "8ef17d112adabdd495e0292bb82c1c483f2db572",
    "collapsed": true
   },
   "outputs": [],
   "source": [
    "def cv_rmse(model, X, y, cv=5, scoring='neg_mean_squared_error'):\n",
    "    cv_dict = {}\n",
    "    cvs = np.sqrt(-cross_val_score(model, X, y, cv=cv, scoring='neg_mean_squared_error'))\n",
    "    cv_dict['cv_mean'] = np.mean(cvs)\n",
    "    cv_dict['cvs'] = cvs\n",
    "    return cv_dict"
   ]
  },
  {
   "cell_type": "markdown",
   "metadata": {
    "_cell_guid": "2c2f2b5f-bc01-49a1-b0ff-681fee485ccf",
    "_uuid": "b29924f0f65f1c173e63ec20d11c4df7976bb321"
   },
   "source": [
    "Create a dictionary to store the best parameters found from each model"
   ]
  },
  {
   "cell_type": "code",
   "execution_count": null,
   "metadata": {
    "_cell_guid": "d7ec7d8c-47bc-45cf-98c6-c1e17522059e",
    "_uuid": "1c9f51708a46e9b8c8f1488f73531d60cef353d1",
    "collapsed": true
   },
   "outputs": [],
   "source": [
    "model_params_dict = {}\n",
    "model_cvs = {}"
   ]
  },
  {
   "cell_type": "markdown",
   "metadata": {
    "_cell_guid": "07c0b449-3c51-43d0-bddc-afd2adb90647",
    "_uuid": "a5cd48bf8655324684ed5a01240fb478e22e8c1a"
   },
   "source": [
    "Model pipelines (treat like model objects)"
   ]
  },
  {
   "cell_type": "code",
   "execution_count": null,
   "metadata": {
    "_cell_guid": "8a946c25-3337-42d4-b46b-3bcb228de45f",
    "_uuid": "8f715d6d4d61a9e55fda705851e12154a60e02f0",
    "collapsed": true
   },
   "outputs": [],
   "source": [
    "# Elastic Net\n",
    "en_pl = Pipeline([\n",
    "    ('features', feats_pipe), \n",
    "    ('en', ElasticNet(max_iter=10000))\n",
    "])\n",
    "\n",
    "# Lasso Regression \n",
    "lasso_pl = Pipeline([\n",
    "    ('features', feats_pipe), \n",
    "    ('lasso', Lasso(max_iter=15000))\n",
    "])\n",
    "\n",
    "\n",
    "# Ridge Regression \n",
    "ridge_pl = Pipeline([\n",
    "    ('features', feats_pipe), \n",
    "    ('ridge', Ridge(max_iter=15000))\n",
    "])"
   ]
  },
  {
   "cell_type": "markdown",
   "metadata": {
    "_cell_guid": "06cca9f7-519d-4dba-8f2e-49ad39cc6261",
    "_uuid": "393a4edc14ada51630df5c523a7bd24499735e38"
   },
   "source": [
    "### Elastic Net Regression\n",
    " - best params: `{'en__alpha': 0.001, 'en__l1_ratio': 0.75, 'en__Normalize' : False}`\n",
    " - best CV score: 0.1112624583938123\n",
    "     - best submission score: `0.12289`"
   ]
  },
  {
   "cell_type": "code",
   "execution_count": null,
   "metadata": {
    "_cell_guid": "bd6fb5dc-8dbf-4b6c-8bac-e85d01517653",
    "_uuid": "345d7a243c5cf27ab5d9d81945370347a0410980",
    "collapsed": true,
    "scrolled": true
   },
   "outputs": [],
   "source": [
    "l1_space = [ .5, .75, .90, .95, .98, .99]\n",
    "en_params = {'en__l1_ratio': l1_space, \n",
    "            'en__alpha': [0.003, 0.002, 0.001, 0.0005, 0.0003], \n",
    "            'features__robust_scaler' : [None, RobustScaler(with_centering=False)]}\n",
    "en_gs = GridSearchCV(en_pl, en_params, cv = 3)\n",
    "en_gs.fit(X, y_log)"
   ]
  },
  {
   "cell_type": "code",
   "execution_count": null,
   "metadata": {
    "_cell_guid": "29e29307-6bac-468c-81a2-fe1d8a6aa70e",
    "_uuid": "c2d6b8f479fe5a55478a65b1399b31c8b0c4e7dc",
    "collapsed": true,
    "scrolled": true
   },
   "outputs": [],
   "source": [
    "# Best hyperparameter settings, which were found by the GridSearchCV - want to keep this:\n",
    "model_params_dict['en'] = en_gs.best_params_\n",
    "en_gs.best_params_"
   ]
  },
  {
   "cell_type": "markdown",
   "metadata": {
    "_cell_guid": "af11990b-241b-4531-b154-9350248f267a",
    "_uuid": "3db40be9ded5bbd326f278cfe202cc15e6e204bc"
   },
   "source": [
    "Set the model params using the dictionary. The `**` unpacks the dictionary into the key-value pairs - essentially, it removes the curly braces."
   ]
  },
  {
   "cell_type": "code",
   "execution_count": null,
   "metadata": {
    "_cell_guid": "36d72d10-70c3-438d-b298-8c3a91b594be",
    "_uuid": "e17f191a599aa6c3729e4d6e8e85e6690b0293c1",
    "collapsed": true
   },
   "outputs": [],
   "source": [
    "en_pl.set_params(**model_params_dict['en'])\n",
    "en_pl.fit(X, y_log)"
   ]
  },
  {
   "cell_type": "code",
   "execution_count": null,
   "metadata": {
    "_cell_guid": "e639d5e2-18c5-4063-846a-ec5e1150cca1",
    "_uuid": "7f12784855bb9f22022469e454277dcdb5cfbbcf",
    "collapsed": true
   },
   "outputs": [],
   "source": [
    "from pprint import pprint"
   ]
  },
  {
   "cell_type": "markdown",
   "metadata": {
    "_cell_guid": "631027ff-8b49-4e85-a2af-b217cfc75c14",
    "_uuid": "8b5feba08fa9d429717c33d9470da41bddee73ec"
   },
   "source": [
    "Get and print model cross validation scores:"
   ]
  },
  {
   "cell_type": "code",
   "execution_count": null,
   "metadata": {
    "_cell_guid": "45e4f6ed-19c1-4e21-86b3-2ce7c017252d",
    "_uuid": "6e0ef0697502f189366098db165127291305fba1",
    "collapsed": true
   },
   "outputs": [],
   "source": [
    "model_cvs['en'] = cv_rmse(en_pl, X, y_log)\n",
    "pprint(model_cvs['en'])"
   ]
  },
  {
   "cell_type": "markdown",
   "metadata": {
    "_cell_guid": "05d2915a-36e1-4cc2-b1f5-9e9cc3dd993f",
    "_uuid": "f98857333abf3b05c44fa930b3915911f5c4aa3f"
   },
   "source": [
    "### Lasso Regression\n",
    " - Best hyperparameters: `{'lasso__alpha': 0.001}`\n",
    " - Best CV score: `0.11163718018313713`\n",
    " - Maybe from Lasso, outliers excluded: `0.12017615301776012`\n",
    " - CV with outliers included and `RobustScaler()`: `0.12490777027682327`\n",
    " - CV with outliers EXCLUDED : `0.11225806314356161`\n",
    " - CV with outliers EXCLUDED and `RobustScaler()`: `0.1116387850305959`"
   ]
  },
  {
   "cell_type": "code",
   "execution_count": null,
   "metadata": {
    "_cell_guid": "b0098485-0db7-4e11-b889-16ac14566c15",
    "_uuid": "14b477a5f6d9ca3d7886fb4d5676dcafcfd4db81",
    "collapsed": true
   },
   "outputs": [],
   "source": [
    "lasso_params = {'lasso__alpha': [.001, .0005, .0004, .0003, .0002, .0001], \n",
    "               'features__robust_scaler' : [None, RobustScaler(with_centering=False)]}\n",
    "lasso_gs = GridSearchCV(lasso_pl, lasso_params, cv = 3, scoring='neg_mean_squared_error')\n",
    "lasso_gs.fit(X, y_log)"
   ]
  },
  {
   "cell_type": "code",
   "execution_count": null,
   "metadata": {
    "_cell_guid": "36ef96e9-affc-445f-9a29-4cf8a831dc56",
    "_uuid": "85c56d583a8d6040f3eef33538f773bbe6e8554b",
    "collapsed": true
   },
   "outputs": [],
   "source": [
    "pd.DataFrame(lasso_gs.cv_results_)"
   ]
  },
  {
   "cell_type": "code",
   "execution_count": null,
   "metadata": {
    "_cell_guid": "312fb5e0-1072-4c31-8f23-6a6f10ede476",
    "_uuid": "635b7a012ae75dea504f36659a33c77993eda49b",
    "collapsed": true,
    "scrolled": true
   },
   "outputs": [],
   "source": [
    "# Best hyperparameter settings, which were found by the GridSearchCV - want to keep this:\n",
    "model_params_dict['lasso'] = lasso_gs.best_params_\n",
    "lasso_gs.best_params_"
   ]
  },
  {
   "cell_type": "code",
   "execution_count": null,
   "metadata": {
    "_cell_guid": "035b6c12-6f6a-429c-a1fd-d5f020e84bf0",
    "_uuid": "5aab65c08523793be7196ffdb938f186c98c6cac",
    "collapsed": true,
    "scrolled": true
   },
   "outputs": [],
   "source": [
    "lasso_pl.set_params(**model_params_dict['lasso'])\n",
    "lasso_pl.fit(X, y_log)"
   ]
  },
  {
   "cell_type": "code",
   "execution_count": null,
   "metadata": {
    "_cell_guid": "55808ebf-b119-45a0-b709-5108f8d8e5e1",
    "_uuid": "d0f1d61f76fbae9884ff5ee3cb4ed353c2490014",
    "collapsed": true,
    "scrolled": false
   },
   "outputs": [],
   "source": [
    "model_cvs['lasso'] = cv_rmse(lasso_pl, X, y_log)\n",
    "pprint(model_cvs['lasso'])"
   ]
  },
  {
   "cell_type": "markdown",
   "metadata": {
    "_cell_guid": "a640125d-d36d-4b64-ab33-6c8e6b5e6b19",
    "_uuid": "5e5bf0e3ba02866a18ba25c505bffb2a59fbed1e"
   },
   "source": [
    "### Ridge Regression\n",
    " - Best hyperparameters: `{'ridge__alpha': 50}`\n",
    " - Best CV score: `0.11364010845042886`"
   ]
  },
  {
   "cell_type": "code",
   "execution_count": null,
   "metadata": {
    "_cell_guid": "32d009ef-88d1-4837-9c78-812b193b56a5",
    "_uuid": "c75d927d5f42897a711949965402ac886d3f8087",
    "collapsed": true
   },
   "outputs": [],
   "source": [
    "ridge_params = {'ridge__alpha': [10, 30, 50, 75, 80, 95, 130], \n",
    "               'features__robust_scaler' : [None, RobustScaler(with_centering=False)]}\n",
    "ridge_gs = GridSearchCV(ridge_pl, ridge_params, cv = 3, scoring='neg_mean_squared_error')\n",
    "ridge_gs.fit(X, y_log)"
   ]
  },
  {
   "cell_type": "code",
   "execution_count": null,
   "metadata": {
    "_cell_guid": "f7ecad33-c6d4-4045-828b-593fde8f5d22",
    "_uuid": "407a95a1ae6e34923cb92338be84e9a01af7139a",
    "collapsed": true
   },
   "outputs": [],
   "source": [
    "pd.DataFrame(ridge_gs.cv_results_)"
   ]
  },
  {
   "cell_type": "code",
   "execution_count": null,
   "metadata": {
    "_cell_guid": "570f8e80-84a2-4053-be60-87b047bd1dd2",
    "_uuid": "b7c0d6bf4935531edf8f26feb803dd0f356dfdcb",
    "collapsed": true,
    "scrolled": true
   },
   "outputs": [],
   "source": [
    "# Best hyperparameter settings, which were found by the GridSearchCV - want to keep this:\n",
    "model_params_dict['ridge'] = ridge_gs.best_params_\n",
    "ridge_gs.best_params_"
   ]
  },
  {
   "cell_type": "code",
   "execution_count": null,
   "metadata": {
    "_cell_guid": "91636b8b-3460-4084-a9be-5a89c6330fca",
    "_uuid": "ef2caf95828e60f8577e7ae6f9aed42c69723d0e",
    "collapsed": true,
    "scrolled": true
   },
   "outputs": [],
   "source": [
    "ridge_pl.set_params(**model_params_dict['ridge'])\n",
    "ridge_pl.fit(X, y_log)"
   ]
  },
  {
   "cell_type": "code",
   "execution_count": null,
   "metadata": {
    "_cell_guid": "c70a4a46-57a4-49f3-9dfa-77bde7aa7092",
    "_uuid": "d93cd22c8ace611b0467ebba57d4144426b19bde",
    "collapsed": true,
    "scrolled": true
   },
   "outputs": [],
   "source": [
    "model_cvs['ridge'] = cv_rmse(ridge_pl, X, y_log)\n",
    "pprint(model_cvs['ridge'])"
   ]
  },
  {
   "cell_type": "markdown",
   "metadata": {
    "_cell_guid": "04105a69-9e7e-46c4-bbc9-e905d1d9c2e9",
    "_uuid": "2177412a6e80990536a8d021ab89e186cefdac00"
   },
   "source": [
    "## Prepare data for submission"
   ]
  },
  {
   "cell_type": "markdown",
   "metadata": {
    "_cell_guid": "96cccdc0-0108-4da8-81b8-1002e00f6893",
    "_uuid": "d5bdae2151bd242b58846ba41f9ee8c80b6cfcb7"
   },
   "source": [
    "#### Remove unused columns from Test Features (X_submit)"
   ]
  },
  {
   "cell_type": "code",
   "execution_count": null,
   "metadata": {
    "_cell_guid": "a0f4e512-4f95-4fa4-aa45-51a924c42138",
    "_uuid": "faecec99920fa86bc3db67012d37c13d6dcc47cb",
    "collapsed": true
   },
   "outputs": [],
   "source": [
    "X_submit = X_submit[X.columns]"
   ]
  },
  {
   "cell_type": "markdown",
   "metadata": {
    "_cell_guid": "a4c8dc5d-a99f-4b36-bfcb-21ef85d56ab4",
    "_uuid": "8232139d501b568d21c53ef81ed648a2cc60f64d"
   },
   "source": [
    "Check for any other NAs in test data. Hide cell output by pressing 'o' when the cell is highlighted in blue. "
   ]
  },
  {
   "cell_type": "code",
   "execution_count": null,
   "metadata": {
    "_cell_guid": "f8d09653-2768-4835-a771-28a8393fd80a",
    "_uuid": "99966b00fe444ccf9ad347fde71bcc245e4ac244",
    "collapsed": true
   },
   "outputs": [],
   "source": [
    "np.sum(X_submit.any().isna())"
   ]
  },
  {
   "cell_type": "code",
   "execution_count": null,
   "metadata": {
    "_cell_guid": "d6465229-1bf9-4b86-b2cd-d6596b4c52f6",
    "_uuid": "b44343621705c0a85d0c14b1e4a4fcfe61afda41",
    "collapsed": true
   },
   "outputs": [],
   "source": [
    "# See which columns have NAs if the above output is greather than 0\n",
    "#X_submit.isna().sum().to_frame('na_sum').sort_values('na_sum', ascending=False)"
   ]
  },
  {
   "cell_type": "code",
   "execution_count": null,
   "metadata": {
    "_cell_guid": "828dd013-acbf-4977-85d8-ba2f199ee506",
    "_uuid": "166ff26b41fa25b74d9199ef80c34ff233d1e393",
    "collapsed": true
   },
   "outputs": [],
   "source": [
    "ridge_test_preds = np.exp(ridge_pl.predict(X_submit))\n",
    "lasso_test_preds = np.exp(lasso_pl.predict(X_submit))\n",
    "en_test_preds = np.exp(en_pl.predict(X_submit))\n",
    "submission_df = pd.DataFrame(data ={'Id' : test_data.Id, 'SalePrice': en_test_preds}).set_index('Id')"
   ]
  },
  {
   "cell_type": "code",
   "execution_count": null,
   "metadata": {
    "_cell_guid": "e7a434b9-27a7-4de4-93aa-ee1b2d4ed91d",
    "_uuid": "3dfccdf8f1a6057ef986afb3876465e4b3fe2a39",
    "collapsed": true
   },
   "outputs": [],
   "source": [
    "submission_df.head()"
   ]
  },
  {
   "cell_type": "code",
   "execution_count": null,
   "metadata": {
    "_cell_guid": "25aab812-7079-49cc-adba-a2ea802e527b",
    "_uuid": "1ef2b9cf114eb0fec6650433fbfc2a98bc21ceaa",
    "collapsed": true
   },
   "outputs": [],
   "source": [
    "submission_df.to_csv('en_inter_rscale_wo_outliers.csv')"
   ]
  }
 ],
 "metadata": {
  "kernelspec": {
   "display_name": "Python 3",
   "language": "python",
   "name": "python3"
  },
  "language_info": {
   "codemirror_mode": {
    "name": "ipython",
    "version": 3
   },
   "file_extension": ".py",
   "mimetype": "text/x-python",
   "name": "python",
   "nbconvert_exporter": "python",
   "pygments_lexer": "ipython3",
   "version": "3.6.2"
  }
 },
 "nbformat": 4,
 "nbformat_minor": 1
}
