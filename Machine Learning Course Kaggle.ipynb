{
 "cells": [
  {
   "cell_type": "markdown",
   "metadata": {},
   "source": [
    "# Introduction\n",
    "We'll start with an overview of how machine learning models work and how they are used. This may feel basic if you've done statistical modeling or machine learning before. Don't worry, we will progress to building powerful models soon.\n",
    "\n",
    "The course will have you build models for the following scenario:\n",
    "\n",
    "Your cousin has made millions of dollars speculating on real estate. He's offered to become business partners with you because of your interest in data science. He'll supply the money, and you'll supply models that predict how much various houses are worth.\n",
    "\n",
    "You ask your cousin how he's predicted real estate values in the past. and he says it is just intuition. But more questioning reveals that he's identified price patterns from houses he has seen in the past, and he uses those patterns to make predictions for new houses he is considering.\n",
    "\n",
    "Machine learning works the same way. We'll start with a model called the Decision Tree. There are fancier models that give more accurate predictions. But decision trees are easy to understand, and they are the basic building block for some of the best models in data science.\n",
    "\n",
    "For simplicity, we'll start with the simplest possible decision tree.\n",
    "\n",
    "![](http://i.imgur.com/7tsb5b1.png)\n",
    "\n",
    "It divides houses into only two categories. You predict the price of a new house by finding out which category it's in, and the prediction is the historical average price from that category.\n",
    "\n",
    "This captures the relationship between house size and price. We use data to decide how to break the houses into two groups, and then again to determine the predicted price in each group. This step of capturing patterns from data is called **fitting** or **training** the model. The data used to **fit** the model is called the **training data**.\n",
    "\n",
    "The details of how the model is fit (e.g. how to split up the data) is complex enough that we will save it for later. After the model has been fit, you can apply it to new data to **predict** prices of additional homes.\n",
    "\n",
    "# Example\n",
    "Assuming your decision tree works in a sensible way, which of the two trees shown here do you think you might get from fitting this especially simple decision tree?\n",
    "\n",
    "![First Decision Trees](http://i.imgur.com/prAjgku.png)\n",
    "\n",
    "# Improving the Decision Tree\n",
    "The decision tree on the left (Decision Tree 1) probably makes more sense, because it captures the reality that houses with more bedrooms tend to sell at higher prices than houses with fewer bedrooms. The biggest shortcoming of this model is that it doesn't capture most factors affecting home price, like number of bathrooms, lot size, location, etc.\n",
    "\n",
    "You can capture more factors using a tree that has more \"splits.\" These are called \"deeper\" trees. A decision tree that also considers the total size of each house's lot might look like this:\n",
    "\n",
    "![Depth 2 Tree](http://i.imgur.com/R3ywQsR.png)\n",
    "\n",
    "You predict the price of any house by tracing through the decision tree, always picking the path corresponding to that house's characteristics. The predicted price for the house is at the bottom of the tree. The point at the bottom where we make a prediction is called a leaf.\n",
    "\n",
    "The splits and values at the leaves will be determined by the data, so it's time for you to check out the data you will be working with."
   ]
  },
  {
   "cell_type": "code",
   "execution_count": 1,
   "metadata": {
    "collapsed": true
   },
   "outputs": [],
   "source": [
    "import pandas as pd\n",
    "\n",
    "main_file_path = 'data/train.csv' #path to the Iowa data from the kaggle website"
   ]
  },
  {
   "cell_type": "code",
   "execution_count": 2,
   "metadata": {},
   "outputs": [
    {
     "data": {
      "text/html": [
       "<div>\n",
       "<style>\n",
       "    .dataframe thead tr:only-child th {\n",
       "        text-align: right;\n",
       "    }\n",
       "\n",
       "    .dataframe thead th {\n",
       "        text-align: left;\n",
       "    }\n",
       "\n",
       "    .dataframe tbody tr th {\n",
       "        vertical-align: top;\n",
       "    }\n",
       "</style>\n",
       "<table border=\"1\" class=\"dataframe\">\n",
       "  <thead>\n",
       "    <tr style=\"text-align: right;\">\n",
       "      <th></th>\n",
       "      <th>Id</th>\n",
       "      <th>MSSubClass</th>\n",
       "      <th>LotFrontage</th>\n",
       "      <th>LotArea</th>\n",
       "      <th>OverallQual</th>\n",
       "      <th>OverallCond</th>\n",
       "      <th>YearBuilt</th>\n",
       "      <th>YearRemodAdd</th>\n",
       "      <th>MasVnrArea</th>\n",
       "      <th>BsmtFinSF1</th>\n",
       "      <th>...</th>\n",
       "      <th>WoodDeckSF</th>\n",
       "      <th>OpenPorchSF</th>\n",
       "      <th>EnclosedPorch</th>\n",
       "      <th>3SsnPorch</th>\n",
       "      <th>ScreenPorch</th>\n",
       "      <th>PoolArea</th>\n",
       "      <th>MiscVal</th>\n",
       "      <th>MoSold</th>\n",
       "      <th>YrSold</th>\n",
       "      <th>SalePrice</th>\n",
       "    </tr>\n",
       "  </thead>\n",
       "  <tbody>\n",
       "    <tr>\n",
       "      <th>count</th>\n",
       "      <td>1460.000000</td>\n",
       "      <td>1460.000000</td>\n",
       "      <td>1201.000000</td>\n",
       "      <td>1460.000000</td>\n",
       "      <td>1460.000000</td>\n",
       "      <td>1460.000000</td>\n",
       "      <td>1460.000000</td>\n",
       "      <td>1460.000000</td>\n",
       "      <td>1452.000000</td>\n",
       "      <td>1460.000000</td>\n",
       "      <td>...</td>\n",
       "      <td>1460.000000</td>\n",
       "      <td>1460.000000</td>\n",
       "      <td>1460.000000</td>\n",
       "      <td>1460.000000</td>\n",
       "      <td>1460.000000</td>\n",
       "      <td>1460.000000</td>\n",
       "      <td>1460.000000</td>\n",
       "      <td>1460.000000</td>\n",
       "      <td>1460.000000</td>\n",
       "      <td>1460.000000</td>\n",
       "    </tr>\n",
       "    <tr>\n",
       "      <th>mean</th>\n",
       "      <td>730.500000</td>\n",
       "      <td>56.897260</td>\n",
       "      <td>70.049958</td>\n",
       "      <td>10516.828082</td>\n",
       "      <td>6.099315</td>\n",
       "      <td>5.575342</td>\n",
       "      <td>1971.267808</td>\n",
       "      <td>1984.865753</td>\n",
       "      <td>103.685262</td>\n",
       "      <td>443.639726</td>\n",
       "      <td>...</td>\n",
       "      <td>94.244521</td>\n",
       "      <td>46.660274</td>\n",
       "      <td>21.954110</td>\n",
       "      <td>3.409589</td>\n",
       "      <td>15.060959</td>\n",
       "      <td>2.758904</td>\n",
       "      <td>43.489041</td>\n",
       "      <td>6.321918</td>\n",
       "      <td>2007.815753</td>\n",
       "      <td>180921.195890</td>\n",
       "    </tr>\n",
       "    <tr>\n",
       "      <th>std</th>\n",
       "      <td>421.610009</td>\n",
       "      <td>42.300571</td>\n",
       "      <td>24.284752</td>\n",
       "      <td>9981.264932</td>\n",
       "      <td>1.382997</td>\n",
       "      <td>1.112799</td>\n",
       "      <td>30.202904</td>\n",
       "      <td>20.645407</td>\n",
       "      <td>181.066207</td>\n",
       "      <td>456.098091</td>\n",
       "      <td>...</td>\n",
       "      <td>125.338794</td>\n",
       "      <td>66.256028</td>\n",
       "      <td>61.119149</td>\n",
       "      <td>29.317331</td>\n",
       "      <td>55.757415</td>\n",
       "      <td>40.177307</td>\n",
       "      <td>496.123024</td>\n",
       "      <td>2.703626</td>\n",
       "      <td>1.328095</td>\n",
       "      <td>79442.502883</td>\n",
       "    </tr>\n",
       "    <tr>\n",
       "      <th>min</th>\n",
       "      <td>1.000000</td>\n",
       "      <td>20.000000</td>\n",
       "      <td>21.000000</td>\n",
       "      <td>1300.000000</td>\n",
       "      <td>1.000000</td>\n",
       "      <td>1.000000</td>\n",
       "      <td>1872.000000</td>\n",
       "      <td>1950.000000</td>\n",
       "      <td>0.000000</td>\n",
       "      <td>0.000000</td>\n",
       "      <td>...</td>\n",
       "      <td>0.000000</td>\n",
       "      <td>0.000000</td>\n",
       "      <td>0.000000</td>\n",
       "      <td>0.000000</td>\n",
       "      <td>0.000000</td>\n",
       "      <td>0.000000</td>\n",
       "      <td>0.000000</td>\n",
       "      <td>1.000000</td>\n",
       "      <td>2006.000000</td>\n",
       "      <td>34900.000000</td>\n",
       "    </tr>\n",
       "    <tr>\n",
       "      <th>25%</th>\n",
       "      <td>365.750000</td>\n",
       "      <td>20.000000</td>\n",
       "      <td>59.000000</td>\n",
       "      <td>7553.500000</td>\n",
       "      <td>5.000000</td>\n",
       "      <td>5.000000</td>\n",
       "      <td>1954.000000</td>\n",
       "      <td>1967.000000</td>\n",
       "      <td>0.000000</td>\n",
       "      <td>0.000000</td>\n",
       "      <td>...</td>\n",
       "      <td>0.000000</td>\n",
       "      <td>0.000000</td>\n",
       "      <td>0.000000</td>\n",
       "      <td>0.000000</td>\n",
       "      <td>0.000000</td>\n",
       "      <td>0.000000</td>\n",
       "      <td>0.000000</td>\n",
       "      <td>5.000000</td>\n",
       "      <td>2007.000000</td>\n",
       "      <td>129975.000000</td>\n",
       "    </tr>\n",
       "    <tr>\n",
       "      <th>50%</th>\n",
       "      <td>730.500000</td>\n",
       "      <td>50.000000</td>\n",
       "      <td>69.000000</td>\n",
       "      <td>9478.500000</td>\n",
       "      <td>6.000000</td>\n",
       "      <td>5.000000</td>\n",
       "      <td>1973.000000</td>\n",
       "      <td>1994.000000</td>\n",
       "      <td>0.000000</td>\n",
       "      <td>383.500000</td>\n",
       "      <td>...</td>\n",
       "      <td>0.000000</td>\n",
       "      <td>25.000000</td>\n",
       "      <td>0.000000</td>\n",
       "      <td>0.000000</td>\n",
       "      <td>0.000000</td>\n",
       "      <td>0.000000</td>\n",
       "      <td>0.000000</td>\n",
       "      <td>6.000000</td>\n",
       "      <td>2008.000000</td>\n",
       "      <td>163000.000000</td>\n",
       "    </tr>\n",
       "    <tr>\n",
       "      <th>75%</th>\n",
       "      <td>1095.250000</td>\n",
       "      <td>70.000000</td>\n",
       "      <td>80.000000</td>\n",
       "      <td>11601.500000</td>\n",
       "      <td>7.000000</td>\n",
       "      <td>6.000000</td>\n",
       "      <td>2000.000000</td>\n",
       "      <td>2004.000000</td>\n",
       "      <td>166.000000</td>\n",
       "      <td>712.250000</td>\n",
       "      <td>...</td>\n",
       "      <td>168.000000</td>\n",
       "      <td>68.000000</td>\n",
       "      <td>0.000000</td>\n",
       "      <td>0.000000</td>\n",
       "      <td>0.000000</td>\n",
       "      <td>0.000000</td>\n",
       "      <td>0.000000</td>\n",
       "      <td>8.000000</td>\n",
       "      <td>2009.000000</td>\n",
       "      <td>214000.000000</td>\n",
       "    </tr>\n",
       "    <tr>\n",
       "      <th>max</th>\n",
       "      <td>1460.000000</td>\n",
       "      <td>190.000000</td>\n",
       "      <td>313.000000</td>\n",
       "      <td>215245.000000</td>\n",
       "      <td>10.000000</td>\n",
       "      <td>9.000000</td>\n",
       "      <td>2010.000000</td>\n",
       "      <td>2010.000000</td>\n",
       "      <td>1600.000000</td>\n",
       "      <td>5644.000000</td>\n",
       "      <td>...</td>\n",
       "      <td>857.000000</td>\n",
       "      <td>547.000000</td>\n",
       "      <td>552.000000</td>\n",
       "      <td>508.000000</td>\n",
       "      <td>480.000000</td>\n",
       "      <td>738.000000</td>\n",
       "      <td>15500.000000</td>\n",
       "      <td>12.000000</td>\n",
       "      <td>2010.000000</td>\n",
       "      <td>755000.000000</td>\n",
       "    </tr>\n",
       "  </tbody>\n",
       "</table>\n",
       "<p>8 rows × 38 columns</p>\n",
       "</div>"
      ],
      "text/plain": [
       "                Id   MSSubClass  LotFrontage        LotArea  OverallQual  \\\n",
       "count  1460.000000  1460.000000  1201.000000    1460.000000  1460.000000   \n",
       "mean    730.500000    56.897260    70.049958   10516.828082     6.099315   \n",
       "std     421.610009    42.300571    24.284752    9981.264932     1.382997   \n",
       "min       1.000000    20.000000    21.000000    1300.000000     1.000000   \n",
       "25%     365.750000    20.000000    59.000000    7553.500000     5.000000   \n",
       "50%     730.500000    50.000000    69.000000    9478.500000     6.000000   \n",
       "75%    1095.250000    70.000000    80.000000   11601.500000     7.000000   \n",
       "max    1460.000000   190.000000   313.000000  215245.000000    10.000000   \n",
       "\n",
       "       OverallCond    YearBuilt  YearRemodAdd   MasVnrArea   BsmtFinSF1  \\\n",
       "count  1460.000000  1460.000000   1460.000000  1452.000000  1460.000000   \n",
       "mean      5.575342  1971.267808   1984.865753   103.685262   443.639726   \n",
       "std       1.112799    30.202904     20.645407   181.066207   456.098091   \n",
       "min       1.000000  1872.000000   1950.000000     0.000000     0.000000   \n",
       "25%       5.000000  1954.000000   1967.000000     0.000000     0.000000   \n",
       "50%       5.000000  1973.000000   1994.000000     0.000000   383.500000   \n",
       "75%       6.000000  2000.000000   2004.000000   166.000000   712.250000   \n",
       "max       9.000000  2010.000000   2010.000000  1600.000000  5644.000000   \n",
       "\n",
       "           ...         WoodDeckSF  OpenPorchSF  EnclosedPorch    3SsnPorch  \\\n",
       "count      ...        1460.000000  1460.000000    1460.000000  1460.000000   \n",
       "mean       ...          94.244521    46.660274      21.954110     3.409589   \n",
       "std        ...         125.338794    66.256028      61.119149    29.317331   \n",
       "min        ...           0.000000     0.000000       0.000000     0.000000   \n",
       "25%        ...           0.000000     0.000000       0.000000     0.000000   \n",
       "50%        ...           0.000000    25.000000       0.000000     0.000000   \n",
       "75%        ...         168.000000    68.000000       0.000000     0.000000   \n",
       "max        ...         857.000000   547.000000     552.000000   508.000000   \n",
       "\n",
       "       ScreenPorch     PoolArea       MiscVal       MoSold       YrSold  \\\n",
       "count  1460.000000  1460.000000   1460.000000  1460.000000  1460.000000   \n",
       "mean     15.060959     2.758904     43.489041     6.321918  2007.815753   \n",
       "std      55.757415    40.177307    496.123024     2.703626     1.328095   \n",
       "min       0.000000     0.000000      0.000000     1.000000  2006.000000   \n",
       "25%       0.000000     0.000000      0.000000     5.000000  2007.000000   \n",
       "50%       0.000000     0.000000      0.000000     6.000000  2008.000000   \n",
       "75%       0.000000     0.000000      0.000000     8.000000  2009.000000   \n",
       "max     480.000000   738.000000  15500.000000    12.000000  2010.000000   \n",
       "\n",
       "           SalePrice  \n",
       "count    1460.000000  \n",
       "mean   180921.195890  \n",
       "std     79442.502883  \n",
       "min     34900.000000  \n",
       "25%    129975.000000  \n",
       "50%    163000.000000  \n",
       "75%    214000.000000  \n",
       "max    755000.000000  \n",
       "\n",
       "[8 rows x 38 columns]"
      ]
     },
     "execution_count": 2,
     "metadata": {},
     "output_type": "execute_result"
    }
   ],
   "source": [
    "iowa_data = pd.read_csv(main_file_path)\n",
    "iowa_data.describe()"
   ]
  },
  {
   "cell_type": "markdown",
   "metadata": {},
   "source": [
    "# Selecting and Filtering Data\n",
    "For datasets with too many variables to easily understand, (or easily print out) we can filter by \n",
    "- intuition\n",
    "- statistical methods"
   ]
  },
  {
   "cell_type": "code",
   "execution_count": 3,
   "metadata": {
    "scrolled": true
   },
   "outputs": [
    {
     "name": "stdout",
     "output_type": "stream",
     "text": [
      "<class 'pandas.core.frame.DataFrame'>\n",
      "RangeIndex: 1460 entries, 0 to 1459\n",
      "Data columns (total 81 columns):\n",
      "Id               1460 non-null int64\n",
      "MSSubClass       1460 non-null int64\n",
      "MSZoning         1460 non-null object\n",
      "LotFrontage      1201 non-null float64\n",
      "LotArea          1460 non-null int64\n",
      "Street           1460 non-null object\n",
      "Alley            91 non-null object\n",
      "LotShape         1460 non-null object\n",
      "LandContour      1460 non-null object\n",
      "Utilities        1460 non-null object\n",
      "LotConfig        1460 non-null object\n",
      "LandSlope        1460 non-null object\n",
      "Neighborhood     1460 non-null object\n",
      "Condition1       1460 non-null object\n",
      "Condition2       1460 non-null object\n",
      "BldgType         1460 non-null object\n",
      "HouseStyle       1460 non-null object\n",
      "OverallQual      1460 non-null int64\n",
      "OverallCond      1460 non-null int64\n",
      "YearBuilt        1460 non-null int64\n",
      "YearRemodAdd     1460 non-null int64\n",
      "RoofStyle        1460 non-null object\n",
      "RoofMatl         1460 non-null object\n",
      "Exterior1st      1460 non-null object\n",
      "Exterior2nd      1460 non-null object\n",
      "MasVnrType       1452 non-null object\n",
      "MasVnrArea       1452 non-null float64\n",
      "ExterQual        1460 non-null object\n",
      "ExterCond        1460 non-null object\n",
      "Foundation       1460 non-null object\n",
      "BsmtQual         1423 non-null object\n",
      "BsmtCond         1423 non-null object\n",
      "BsmtExposure     1422 non-null object\n",
      "BsmtFinType1     1423 non-null object\n",
      "BsmtFinSF1       1460 non-null int64\n",
      "BsmtFinType2     1422 non-null object\n",
      "BsmtFinSF2       1460 non-null int64\n",
      "BsmtUnfSF        1460 non-null int64\n",
      "TotalBsmtSF      1460 non-null int64\n",
      "Heating          1460 non-null object\n",
      "HeatingQC        1460 non-null object\n",
      "CentralAir       1460 non-null object\n",
      "Electrical       1459 non-null object\n",
      "1stFlrSF         1460 non-null int64\n",
      "2ndFlrSF         1460 non-null int64\n",
      "LowQualFinSF     1460 non-null int64\n",
      "GrLivArea        1460 non-null int64\n",
      "BsmtFullBath     1460 non-null int64\n",
      "BsmtHalfBath     1460 non-null int64\n",
      "FullBath         1460 non-null int64\n",
      "HalfBath         1460 non-null int64\n",
      "BedroomAbvGr     1460 non-null int64\n",
      "KitchenAbvGr     1460 non-null int64\n",
      "KitchenQual      1460 non-null object\n",
      "TotRmsAbvGrd     1460 non-null int64\n",
      "Functional       1460 non-null object\n",
      "Fireplaces       1460 non-null int64\n",
      "FireplaceQu      770 non-null object\n",
      "GarageType       1379 non-null object\n",
      "GarageYrBlt      1379 non-null float64\n",
      "GarageFinish     1379 non-null object\n",
      "GarageCars       1460 non-null int64\n",
      "GarageArea       1460 non-null int64\n",
      "GarageQual       1379 non-null object\n",
      "GarageCond       1379 non-null object\n",
      "PavedDrive       1460 non-null object\n",
      "WoodDeckSF       1460 non-null int64\n",
      "OpenPorchSF      1460 non-null int64\n",
      "EnclosedPorch    1460 non-null int64\n",
      "3SsnPorch        1460 non-null int64\n",
      "ScreenPorch      1460 non-null int64\n",
      "PoolArea         1460 non-null int64\n",
      "PoolQC           7 non-null object\n",
      "Fence            281 non-null object\n",
      "MiscFeature      54 non-null object\n",
      "MiscVal          1460 non-null int64\n",
      "MoSold           1460 non-null int64\n",
      "YrSold           1460 non-null int64\n",
      "SaleType         1460 non-null object\n",
      "SaleCondition    1460 non-null object\n",
      "SalePrice        1460 non-null int64\n",
      "dtypes: float64(3), int64(35), object(43)\n",
      "memory usage: 924.0+ KB\n"
     ]
    }
   ],
   "source": [
    "iowa_data.info()"
   ]
  },
  {
   "cell_type": "markdown",
   "metadata": {},
   "source": [
    "# Choosing the Prediction Target"
   ]
  },
  {
   "cell_type": "code",
   "execution_count": 4,
   "metadata": {
    "collapsed": true
   },
   "outputs": [],
   "source": [
    "y = iowa_data.SalePrice"
   ]
  },
  {
   "cell_type": "markdown",
   "metadata": {},
   "source": [
    "# Choosing Predictors"
   ]
  },
  {
   "cell_type": "code",
   "execution_count": 11,
   "metadata": {
    "collapsed": true
   },
   "outputs": [],
   "source": [
    "predictors = ['LotArea', 'YearBuilt', '1stFlrSF', \n",
    "              '2ndFlrSF', 'FullBath', 'BedroomAbvGr',\n",
    "             'TotRmsAbvGrd']\n",
    "X = iowa_data[predictors]"
   ]
  },
  {
   "cell_type": "code",
   "execution_count": 12,
   "metadata": {
    "collapsed": true
   },
   "outputs": [],
   "source": [
    "from sklearn.tree import DecisionTreeRegressor"
   ]
  },
  {
   "cell_type": "code",
   "execution_count": 13,
   "metadata": {},
   "outputs": [
    {
     "data": {
      "text/plain": [
       "DecisionTreeRegressor(criterion='mse', max_depth=None, max_features=None,\n",
       "           max_leaf_nodes=None, min_impurity_decrease=0.0,\n",
       "           min_impurity_split=None, min_samples_leaf=1,\n",
       "           min_samples_split=2, min_weight_fraction_leaf=0.0,\n",
       "           presort=False, random_state=42, splitter='best')"
      ]
     },
     "execution_count": 13,
     "metadata": {},
     "output_type": "execute_result"
    }
   ],
   "source": [
    "# Define model\n",
    "tree_model = DecisionTreeRegressor(random_state=42)\n",
    "\n",
    "# Fit model\n",
    "tree_model.fit(X, y)"
   ]
  },
  {
   "cell_type": "code",
   "execution_count": 14,
   "metadata": {},
   "outputs": [
    {
     "name": "stdout",
     "output_type": "stream",
     "text": [
      "Making predictions for the following 5 houses:\n",
      "   LotArea  YearBuilt  1stFlrSF  2ndFlrSF  FullBath  BedroomAbvGr  \\\n",
      "0     8450       2003       856       854         2             3   \n",
      "1     9600       1976      1262         0         2             3   \n",
      "2    11250       2001       920       866         2             3   \n",
      "3     9550       1915       961       756         1             3   \n",
      "4    14260       2000      1145      1053         2             4   \n",
      "\n",
      "   TotRmsAbvGrd  \n",
      "0             8  \n",
      "1             6  \n",
      "2             6  \n",
      "3             7  \n",
      "4             9  \n",
      "The predictions are\n",
      "[ 208500.  181500.  223500.  140000.  250000.]\n"
     ]
    }
   ],
   "source": [
    "print('Making predictions for the following 5 houses:')\n",
    "print(X.head())\n",
    "print(\"The predictions are\")\n",
    "print(tree_model.predict(X.head()))"
   ]
  },
  {
   "cell_type": "markdown",
   "metadata": {},
   "source": [
    "# Model Validation\n",
    "How good is the model we've just built?\n",
    "\n",
    "- Generally, the relevant measure of model quality is predictive accuracy. \n",
    "    - Compare the predictions on your training data, to the actual targert values of the training data.\n",
    "- **MAE** (Mean Absolute Error)\n",
    "    - error = actual - predicted\n",
    "    - take the absolute value\n",
    "    - compute the mean (we average the absolute values to prevent positive and negative errors from canceling eachother out in the calculation)."
   ]
  },
  {
   "cell_type": "code",
   "execution_count": 15,
   "metadata": {
    "collapsed": true
   },
   "outputs": [],
   "source": [
    "from sklearn.metrics import mean_absolute_error"
   ]
  },
  {
   "cell_type": "code",
   "execution_count": 16,
   "metadata": {},
   "outputs": [
    {
     "data": {
      "text/plain": [
       "62.354337899543388"
      ]
     },
     "execution_count": 16,
     "metadata": {},
     "output_type": "execute_result"
    }
   ],
   "source": [
    "predicted_home_prices = tree_model.predict(X)\n",
    "mean_absolute_error(y, predicted_home_prices)"
   ]
  },
  {
   "cell_type": "markdown",
   "metadata": {},
   "source": [
    "# The problem with \"In-Sample\" Scores\n",
    "The measure we just computed can be called an \"in-sample\" score. \n",
    "- We used a singe set of houses (data sample) for both building the model and for calculating it's MAE score.\n",
    "    - **This is bad**\n",
    "    - the model may interpret idiosyncratic coincidences in the sample data as generally valid predictive variables\n",
    "       - magine that, in the large real estate market, door color is unrelated to home price. However, in the sample of data you used to build the model, it may be that all homes with green doors were very expensive. The model's job is to find patterns that predict home prices, so it will see this pattern, and it will always predict high prices for homes with green doors.\n",
    "\n",
    "## Solution:\n",
    "Score the predictions on data not included in the training/fitting.\n",
    "- exclude a subset of the data from the model-building process\n",
    "- test the model's accuracy on the \"holdout data.\""
   ]
  },
  {
   "cell_type": "code",
   "execution_count": 17,
   "metadata": {
    "collapsed": true
   },
   "outputs": [],
   "source": [
    "from sklearn.model_selection import train_test_split"
   ]
  },
  {
   "cell_type": "code",
   "execution_count": 22,
   "metadata": {},
   "outputs": [
    {
     "name": "stdout",
     "output_type": "stream",
     "text": [
      "30160.7424658\n"
     ]
    }
   ],
   "source": [
    "train_X, val_X, train_y, val_y = train_test_split(X, y, random_state = 42)\n",
    "#the split is generated on a random generator seeded with the random state 42\n",
    "\n",
    "# Retrain the model on the training data\n",
    "tree_model.fit(train_X, train_y)\n",
    "\n",
    "val_predictions = tree_model.predict(val_X)\n",
    "print(mean_absolute_error(val_y, val_predictions))"
   ]
  },
  {
   "cell_type": "markdown",
   "metadata": {},
   "source": [
    "# Experimenting With Different Models\n",
    "Now we can experiment with alternative models and see which give the best predictions. \n",
    "\n",
    "## Avoiding overfitting\n",
    "In practice it's not uncommon for a decision tree to have 10 splits. \n",
    "- As the tree gets deeper the dataset gets sliced up into leaves with fewer houses. \n",
    "    - for n levels we end up with 2^n leaves (or categories)\n",
    "    - Leaves with few houses will make predictions that are quite close to those home's actual values, but they may make very unreliable predictions for new data (because each prediction is based on only a few houses)\n",
    "    - this is an example of **overfitting**\n",
    "![Mean Average Error](http://i.imgur.com/2q85n9s.png)"
   ]
  },
  {
   "cell_type": "markdown",
   "metadata": {},
   "source": [
    "## Modulating parameters\n",
    "#### Modulating Decision Tree parameters\n",
    "To control depth:\n",
    "- max_leaf_nodes - a sensible way to control overfitting vs underfitting.\n",
    "    - more leaves leads to more overfitting\n",
    "    \n",
    "## comparing MAE scores for different max_leaf_nodes values"
   ]
  },
  {
   "cell_type": "code",
   "execution_count": 23,
   "metadata": {
    "collapsed": true
   },
   "outputs": [],
   "source": [
    "# define a function to compute and return the MAE for given max_leaf_nodes on a decision tree regressor\n",
    "def get_mae(max_leaf_nodes, predictors_train, predictors_val,\n",
    "           targ_train, targ_val):\n",
    "    model = DecisionTreeRegressor(max_leaf_nodes = max_leaf_nodes,\n",
    "                                 random_state = 42)\n",
    "    model.fit(predictors_train, targ_train)\n",
    "    preds_val = model.predict(predictors_val)\n",
    "    mae = mean_absolute_error(targ_val, preds_val)\n",
    "    \n",
    "    return(mae)"
   ]
  },
  {
   "cell_type": "code",
   "execution_count": 24,
   "metadata": {},
   "outputs": [
    {
     "name": "stdout",
     "output_type": "stream",
     "text": [
      "Max leaf nodes: 5  \t\t Mean Absolute Error:  35244\n",
      "Max leaf nodes: 50  \t\t Mean Absolute Error:  27232\n",
      "Max leaf nodes: 500  \t\t Mean Absolute Error:  31450\n",
      "Max leaf nodes: 5000  \t\t Mean Absolute Error:  31724\n"
     ]
    }
   ],
   "source": [
    "# loop over different max_leaf_nodes values\n",
    "for max_leaf_nodes in [5, 50, 500, 5000]:\n",
    "    my_mae = get_mae(max_leaf_nodes, train_X, \n",
    "                    val_X, train_y, val_y)\n",
    "    print(\"Max leaf nodes: %d  \\t\\t Mean Absolute Error:  %d\" %(max_leaf_nodes, my_mae))"
   ]
  },
  {
   "cell_type": "markdown",
   "metadata": {},
   "source": [
    "# Conclusion\n",
    "Here's the takeaway: Models can suffer from either:\n",
    "\n",
    "- **Overfitting**: capturing spurious patterns that won't recur in the future, leading to less accurate predictions, or\n",
    "- **Underfitting**: failing to capture relevant patterns, again leading to less accurate predictions.\n",
    "We use **validation** data, which isn't used in model training, to measure a candidate model's accuracy. This lets us try many candidate models and keep the best one.\n",
    "\n",
    "But we're still using Decision Tree models, which are not very sophisticated by modern machine learning standards.\n",
    "\n",
    "- Decision trees leave you with a difficult decision. A deep tree with lots of leaves will overfit because each prediction is coming from historical data from only the few houses at its leaf. But a shallow tree with few leaves will perform poorly because it fails to capture as many distinctions in the raw data.\n",
    "\n",
    "- Even today's most sophisticated modeling techniques face this tension between underfitting and overfitting. But, many models have clever ideas that can lead to better performance. \n",
    "\n",
    "## Random Forest:\n",
    "\n",
    "The random forest uses many, trees and it makes a prediction by averaging the predictions of each component tree. \n",
    "- It generally has a much better predictive accuracy than a single decision tree \n",
    "- and it works well with default parameters. "
   ]
  },
  {
   "cell_type": "code",
   "execution_count": 25,
   "metadata": {
    "collapsed": true
   },
   "outputs": [],
   "source": [
    "from sklearn.ensemble import RandomForestRegressor"
   ]
  },
  {
   "cell_type": "code",
   "execution_count": 27,
   "metadata": {},
   "outputs": [
    {
     "name": "stdout",
     "output_type": "stream",
     "text": [
      "22287.1210046\n"
     ]
    }
   ],
   "source": [
    "forest_model = RandomForestRegressor()\n",
    "forest_model.fit(train_X, train_y)\n",
    "forest_preds = forest_model.predict(val_X)\n",
    "print(mean_absolute_error(val_y, forest_preds))"
   ]
  },
  {
   "cell_type": "markdown",
   "metadata": {},
   "source": [
    "Notice, \n",
    "- this 22,287 is an improvement from our last best pred output \n",
    "-   of 27,232\n",
    "\n",
    "### Random Forest Advantages:\n",
    "- can be further tuned\n",
    "- generally works reasonably well even without tuning"
   ]
  },
  {
   "cell_type": "markdown",
   "metadata": {},
   "source": [
    "## Submitting predictions in Kaggle competitions"
   ]
  },
  {
   "cell_type": "code",
   "execution_count": 28,
   "metadata": {
    "collapsed": true
   },
   "outputs": [],
   "source": [
    "import numpy as np"
   ]
  },
  {
   "cell_type": "code",
   "execution_count": 30,
   "metadata": {},
   "outputs": [
    {
     "name": "stdout",
     "output_type": "stream",
     "text": [
      "[ 135065.  155980.  185750. ...,  161760.  141350.  223040.]\n"
     ]
    }
   ],
   "source": [
    "# Read in the test data\n",
    "test = pd.read_csv('data/test.csv')\n",
    "# Trea the test data in the same way as the training data. i.e. pull the same columns\n",
    "test_X = test[predictors]\n",
    "# Use the model to make predictions\n",
    "predicted_prices = forest_model.predict(test_X)\n",
    "# We will look at the predicted prices to ensure we have something sensible. \n",
    "print(predicted_prices)"
   ]
  },
  {
   "cell_type": "markdown",
   "metadata": {},
   "source": [
    "# Prepare Submission File\n",
    "We make submissions in CSV files. Your submissions usually have two columns: an ID column and a prediction column. The ID field comes from the test data (keeping whatever name the ID field had in that data, which for the housing data is the string 'Id'). The prediction column will use the name of the target field.\n",
    "\n",
    "We will create a DataFrame with this data, and then use the dataframe's to_csv method to write our submission file. Explicitly include the argument index=False to prevent pandas from adding another column in our csv file."
   ]
  },
  {
   "cell_type": "code",
   "execution_count": 31,
   "metadata": {
    "collapsed": true
   },
   "outputs": [],
   "source": [
    "#my_submission = pd.DataFrame({'Id': test.Id, 'SalePrice': predicted_prices})\n",
    "\n",
    "#my_submission.to_csv('kaggle_ml_course_submission.csv', index = False)"
   ]
  },
  {
   "cell_type": "markdown",
   "metadata": {},
   "source": [
    "# Handling Missing Values\n",
    "There are many ways data can end up with missing values. For example\n",
    "\n",
    "- A 2 bedroom house wouldn't include an answer for How large is the third bedroom\n",
    "- Someone being surveyed may choose not to share their income\n",
    "\n",
    "Most libraries, (including scikit-learn) will give you an error if you try to build a model using data with missing values. So you'll need to choose one of the strategies below."
   ]
  },
  {
   "cell_type": "code",
   "execution_count": 33,
   "metadata": {
    "scrolled": true
   },
   "outputs": [
    {
     "data": {
      "text/plain": [
       "Id                  0\n",
       "MSSubClass          0\n",
       "MSZoning            0\n",
       "LotFrontage       259\n",
       "LotArea             0\n",
       "Street              0\n",
       "Alley            1369\n",
       "LotShape            0\n",
       "LandContour         0\n",
       "Utilities           0\n",
       "LotConfig           0\n",
       "LandSlope           0\n",
       "Neighborhood        0\n",
       "Condition1          0\n",
       "Condition2          0\n",
       "BldgType            0\n",
       "HouseStyle          0\n",
       "OverallQual         0\n",
       "OverallCond         0\n",
       "YearBuilt           0\n",
       "YearRemodAdd        0\n",
       "RoofStyle           0\n",
       "RoofMatl            0\n",
       "Exterior1st         0\n",
       "Exterior2nd         0\n",
       "MasVnrType          8\n",
       "MasVnrArea          8\n",
       "ExterQual           0\n",
       "ExterCond           0\n",
       "Foundation          0\n",
       "                 ... \n",
       "BedroomAbvGr        0\n",
       "KitchenAbvGr        0\n",
       "KitchenQual         0\n",
       "TotRmsAbvGrd        0\n",
       "Functional          0\n",
       "Fireplaces          0\n",
       "FireplaceQu       690\n",
       "GarageType         81\n",
       "GarageYrBlt        81\n",
       "GarageFinish       81\n",
       "GarageCars          0\n",
       "GarageArea          0\n",
       "GarageQual         81\n",
       "GarageCond         81\n",
       "PavedDrive          0\n",
       "WoodDeckSF          0\n",
       "OpenPorchSF         0\n",
       "EnclosedPorch       0\n",
       "3SsnPorch           0\n",
       "ScreenPorch         0\n",
       "PoolArea            0\n",
       "PoolQC           1453\n",
       "Fence            1179\n",
       "MiscFeature      1406\n",
       "MiscVal             0\n",
       "MoSold              0\n",
       "YrSold              0\n",
       "SaleType            0\n",
       "SaleCondition       0\n",
       "SalePrice           0\n",
       "Length: 81, dtype: int64"
      ]
     },
     "execution_count": 33,
     "metadata": {},
     "output_type": "execute_result"
    }
   ],
   "source": [
    "iowa_data.isnull().sum()"
   ]
  },
  {
   "cell_type": "markdown",
   "metadata": {},
   "source": [
    "## Solutions\n",
    "# 1)Drop Columns with Missing Values"
   ]
  },
  {
   "cell_type": "code",
   "execution_count": 34,
   "metadata": {
    "collapsed": true
   },
   "outputs": [],
   "source": [
    "iowa_data_drp_cols_with_nas = iowa_data.dropna(axis = 1)"
   ]
  },
  {
   "cell_type": "code",
   "execution_count": 35,
   "metadata": {
    "collapsed": true
   },
   "outputs": [],
   "source": [
    "#do the same to the test data\n",
    "cols_with_missing = [col for col in iowa_data.columns if iowa_data[col].isnull().any()]\n"
   ]
  },
  {
   "cell_type": "code",
   "execution_count": 36,
   "metadata": {
    "collapsed": true
   },
   "outputs": [],
   "source": [
    "reduced_original_data = iowa_data.drop(cols_with_missing,\n",
    "                                          axis = 1)\n",
    "reduced_test_data = test.drop(cols_with_missing, axis = 1)"
   ]
  },
  {
   "cell_type": "markdown",
   "metadata": {},
   "source": [
    "- But, the model looses access to this information when the column is dropped.\n",
    "- Also, if test data has missing values in places where your training data did not, this will result in an error.\n",
    "\n",
    "**So, usually, this is a terrible solution**"
   ]
  },
  {
   "cell_type": "markdown",
   "metadata": {},
   "source": [
    "# 2) A Better Option: Imputation\n",
    "Imputation fills in the missing value with some number."
   ]
  },
  {
   "cell_type": "code",
   "execution_count": 37,
   "metadata": {
    "collapsed": true
   },
   "outputs": [],
   "source": [
    "from sklearn.preprocessing import Imputer"
   ]
  },
  {
   "cell_type": "code",
   "execution_count": 40,
   "metadata": {},
   "outputs": [],
   "source": [
    "my_imputer = Imputer()"
   ]
  },
  {
   "cell_type": "markdown",
   "metadata": {},
   "source": [
    "This naive imputer can't handle categoricla data in strings, so... lets use it on the original subset of data"
   ]
  },
  {
   "cell_type": "code",
   "execution_count": 42,
   "metadata": {},
   "outputs": [
    {
     "data": {
      "text/plain": [
       "['LotArea',\n",
       " 'YearBuilt',\n",
       " '1stFlrSF',\n",
       " '2ndFlrSF',\n",
       " 'FullBath',\n",
       " 'BedroomAbvGr',\n",
       " 'TotRmsAbvGrd']"
      ]
     },
     "execution_count": 42,
     "metadata": {},
     "output_type": "execute_result"
    }
   ],
   "source": [
    "predictors"
   ]
  },
  {
   "cell_type": "code",
   "execution_count": null,
   "metadata": {
    "collapsed": true
   },
   "outputs": [],
   "source": [
    "# recall we defined X as\n",
    "# X = iowa_data[predictors]"
   ]
  },
  {
   "cell_type": "code",
   "execution_count": 43,
   "metadata": {},
   "outputs": [],
   "source": [
    "data_with_imputed_values = my_imputer.fit_transform(X)"
   ]
  },
  {
   "cell_type": "markdown",
   "metadata": {},
   "source": [
    "The default behavior fills in the mean value for imputation.\n",
    "- Statisticians have researched more complex strategies\n",
    "- **but, they typically give no benefit once you plug the results into sophisticated machine learning models!!!**\n",
    "\n",
    "A nice feature of imputation is that it can be **easily included in a scikit-learn Pipeline.** \n",
    "- Pipelines simplify model building, model validation and model deployment.\n",
    "\n",
    "# 3) An Extension To Imputation\n",
    "Imputation is the standard approach (and it usually works well).\n",
    "- However! Imputed values may be systematically aboe or below their actual values\n",
    "    - i.e. missing values for garage squarefootage, may actually mean that there is no garage on that property.\n",
    "    - These rows with missing values may be unique in some other way, they fall into the category of non-garage properties\n",
    "- In these cases, the model makes better predictions by considering which values were originally missing. "
   ]
  },
  {
   "cell_type": "code",
   "execution_count": 63,
   "metadata": {
    "collapsed": true
   },
   "outputs": [],
   "source": [
    "# make a copy to avoid changing original data (when Imputing)\n",
    "new_data = iowa_data.copy()"
   ]
  },
  {
   "cell_type": "code",
   "execution_count": 64,
   "metadata": {},
   "outputs": [
    {
     "data": {
      "text/html": [
       "<div>\n",
       "<style>\n",
       "    .dataframe thead tr:only-child th {\n",
       "        text-align: right;\n",
       "    }\n",
       "\n",
       "    .dataframe thead th {\n",
       "        text-align: left;\n",
       "    }\n",
       "\n",
       "    .dataframe tbody tr th {\n",
       "        vertical-align: top;\n",
       "    }\n",
       "</style>\n",
       "<table border=\"1\" class=\"dataframe\">\n",
       "  <thead>\n",
       "    <tr style=\"text-align: right;\">\n",
       "      <th></th>\n",
       "      <th>Id</th>\n",
       "      <th>MSSubClass</th>\n",
       "      <th>MSZoning</th>\n",
       "      <th>LotFrontage</th>\n",
       "      <th>LotArea</th>\n",
       "      <th>Street</th>\n",
       "      <th>Alley</th>\n",
       "      <th>LotShape</th>\n",
       "      <th>LandContour</th>\n",
       "      <th>Utilities</th>\n",
       "      <th>...</th>\n",
       "      <th>PoolArea</th>\n",
       "      <th>PoolQC</th>\n",
       "      <th>Fence</th>\n",
       "      <th>MiscFeature</th>\n",
       "      <th>MiscVal</th>\n",
       "      <th>MoSold</th>\n",
       "      <th>YrSold</th>\n",
       "      <th>SaleType</th>\n",
       "      <th>SaleCondition</th>\n",
       "      <th>SalePrice</th>\n",
       "    </tr>\n",
       "  </thead>\n",
       "  <tbody>\n",
       "    <tr>\n",
       "      <th>0</th>\n",
       "      <td>1</td>\n",
       "      <td>60</td>\n",
       "      <td>RL</td>\n",
       "      <td>65.0</td>\n",
       "      <td>8450</td>\n",
       "      <td>Pave</td>\n",
       "      <td>NaN</td>\n",
       "      <td>Reg</td>\n",
       "      <td>Lvl</td>\n",
       "      <td>AllPub</td>\n",
       "      <td>...</td>\n",
       "      <td>0</td>\n",
       "      <td>NaN</td>\n",
       "      <td>NaN</td>\n",
       "      <td>NaN</td>\n",
       "      <td>0</td>\n",
       "      <td>2</td>\n",
       "      <td>2008</td>\n",
       "      <td>WD</td>\n",
       "      <td>Normal</td>\n",
       "      <td>208500</td>\n",
       "    </tr>\n",
       "    <tr>\n",
       "      <th>1</th>\n",
       "      <td>2</td>\n",
       "      <td>20</td>\n",
       "      <td>RL</td>\n",
       "      <td>80.0</td>\n",
       "      <td>9600</td>\n",
       "      <td>Pave</td>\n",
       "      <td>NaN</td>\n",
       "      <td>Reg</td>\n",
       "      <td>Lvl</td>\n",
       "      <td>AllPub</td>\n",
       "      <td>...</td>\n",
       "      <td>0</td>\n",
       "      <td>NaN</td>\n",
       "      <td>NaN</td>\n",
       "      <td>NaN</td>\n",
       "      <td>0</td>\n",
       "      <td>5</td>\n",
       "      <td>2007</td>\n",
       "      <td>WD</td>\n",
       "      <td>Normal</td>\n",
       "      <td>181500</td>\n",
       "    </tr>\n",
       "    <tr>\n",
       "      <th>2</th>\n",
       "      <td>3</td>\n",
       "      <td>60</td>\n",
       "      <td>RL</td>\n",
       "      <td>68.0</td>\n",
       "      <td>11250</td>\n",
       "      <td>Pave</td>\n",
       "      <td>NaN</td>\n",
       "      <td>IR1</td>\n",
       "      <td>Lvl</td>\n",
       "      <td>AllPub</td>\n",
       "      <td>...</td>\n",
       "      <td>0</td>\n",
       "      <td>NaN</td>\n",
       "      <td>NaN</td>\n",
       "      <td>NaN</td>\n",
       "      <td>0</td>\n",
       "      <td>9</td>\n",
       "      <td>2008</td>\n",
       "      <td>WD</td>\n",
       "      <td>Normal</td>\n",
       "      <td>223500</td>\n",
       "    </tr>\n",
       "    <tr>\n",
       "      <th>3</th>\n",
       "      <td>4</td>\n",
       "      <td>70</td>\n",
       "      <td>RL</td>\n",
       "      <td>60.0</td>\n",
       "      <td>9550</td>\n",
       "      <td>Pave</td>\n",
       "      <td>NaN</td>\n",
       "      <td>IR1</td>\n",
       "      <td>Lvl</td>\n",
       "      <td>AllPub</td>\n",
       "      <td>...</td>\n",
       "      <td>0</td>\n",
       "      <td>NaN</td>\n",
       "      <td>NaN</td>\n",
       "      <td>NaN</td>\n",
       "      <td>0</td>\n",
       "      <td>2</td>\n",
       "      <td>2006</td>\n",
       "      <td>WD</td>\n",
       "      <td>Abnorml</td>\n",
       "      <td>140000</td>\n",
       "    </tr>\n",
       "    <tr>\n",
       "      <th>4</th>\n",
       "      <td>5</td>\n",
       "      <td>60</td>\n",
       "      <td>RL</td>\n",
       "      <td>84.0</td>\n",
       "      <td>14260</td>\n",
       "      <td>Pave</td>\n",
       "      <td>NaN</td>\n",
       "      <td>IR1</td>\n",
       "      <td>Lvl</td>\n",
       "      <td>AllPub</td>\n",
       "      <td>...</td>\n",
       "      <td>0</td>\n",
       "      <td>NaN</td>\n",
       "      <td>NaN</td>\n",
       "      <td>NaN</td>\n",
       "      <td>0</td>\n",
       "      <td>12</td>\n",
       "      <td>2008</td>\n",
       "      <td>WD</td>\n",
       "      <td>Normal</td>\n",
       "      <td>250000</td>\n",
       "    </tr>\n",
       "  </tbody>\n",
       "</table>\n",
       "<p>5 rows × 81 columns</p>\n",
       "</div>"
      ],
      "text/plain": [
       "   Id  MSSubClass MSZoning  LotFrontage  LotArea Street Alley LotShape  \\\n",
       "0   1          60       RL         65.0     8450   Pave   NaN      Reg   \n",
       "1   2          20       RL         80.0     9600   Pave   NaN      Reg   \n",
       "2   3          60       RL         68.0    11250   Pave   NaN      IR1   \n",
       "3   4          70       RL         60.0     9550   Pave   NaN      IR1   \n",
       "4   5          60       RL         84.0    14260   Pave   NaN      IR1   \n",
       "\n",
       "  LandContour Utilities    ...     PoolArea PoolQC Fence MiscFeature MiscVal  \\\n",
       "0         Lvl    AllPub    ...            0    NaN   NaN         NaN       0   \n",
       "1         Lvl    AllPub    ...            0    NaN   NaN         NaN       0   \n",
       "2         Lvl    AllPub    ...            0    NaN   NaN         NaN       0   \n",
       "3         Lvl    AllPub    ...            0    NaN   NaN         NaN       0   \n",
       "4         Lvl    AllPub    ...            0    NaN   NaN         NaN       0   \n",
       "\n",
       "  MoSold YrSold  SaleType  SaleCondition  SalePrice  \n",
       "0      2   2008        WD         Normal     208500  \n",
       "1      5   2007        WD         Normal     181500  \n",
       "2      9   2008        WD         Normal     223500  \n",
       "3      2   2006        WD        Abnorml     140000  \n",
       "4     12   2008        WD         Normal     250000  \n",
       "\n",
       "[5 rows x 81 columns]"
      ]
     },
     "execution_count": 64,
     "metadata": {},
     "output_type": "execute_result"
    }
   ],
   "source": [
    "new_data.head()"
   ]
  },
  {
   "cell_type": "code",
   "execution_count": 65,
   "metadata": {
    "scrolled": true
   },
   "outputs": [
    {
     "name": "stdout",
     "output_type": "stream",
     "text": [
      "<class 'pandas.core.frame.DataFrame'>\n",
      "RangeIndex: 1460 entries, 0 to 1459\n",
      "Data columns (total 81 columns):\n",
      "Id               1460 non-null int64\n",
      "MSSubClass       1460 non-null int64\n",
      "MSZoning         1460 non-null object\n",
      "LotFrontage      1201 non-null float64\n",
      "LotArea          1460 non-null int64\n",
      "Street           1460 non-null object\n",
      "Alley            91 non-null object\n",
      "LotShape         1460 non-null object\n",
      "LandContour      1460 non-null object\n",
      "Utilities        1460 non-null object\n",
      "LotConfig        1460 non-null object\n",
      "LandSlope        1460 non-null object\n",
      "Neighborhood     1460 non-null object\n",
      "Condition1       1460 non-null object\n",
      "Condition2       1460 non-null object\n",
      "BldgType         1460 non-null object\n",
      "HouseStyle       1460 non-null object\n",
      "OverallQual      1460 non-null int64\n",
      "OverallCond      1460 non-null int64\n",
      "YearBuilt        1460 non-null int64\n",
      "YearRemodAdd     1460 non-null int64\n",
      "RoofStyle        1460 non-null object\n",
      "RoofMatl         1460 non-null object\n",
      "Exterior1st      1460 non-null object\n",
      "Exterior2nd      1460 non-null object\n",
      "MasVnrType       1452 non-null object\n",
      "MasVnrArea       1452 non-null float64\n",
      "ExterQual        1460 non-null object\n",
      "ExterCond        1460 non-null object\n",
      "Foundation       1460 non-null object\n",
      "BsmtQual         1423 non-null object\n",
      "BsmtCond         1423 non-null object\n",
      "BsmtExposure     1422 non-null object\n",
      "BsmtFinType1     1423 non-null object\n",
      "BsmtFinSF1       1460 non-null int64\n",
      "BsmtFinType2     1422 non-null object\n",
      "BsmtFinSF2       1460 non-null int64\n",
      "BsmtUnfSF        1460 non-null int64\n",
      "TotalBsmtSF      1460 non-null int64\n",
      "Heating          1460 non-null object\n",
      "HeatingQC        1460 non-null object\n",
      "CentralAir       1460 non-null object\n",
      "Electrical       1459 non-null object\n",
      "1stFlrSF         1460 non-null int64\n",
      "2ndFlrSF         1460 non-null int64\n",
      "LowQualFinSF     1460 non-null int64\n",
      "GrLivArea        1460 non-null int64\n",
      "BsmtFullBath     1460 non-null int64\n",
      "BsmtHalfBath     1460 non-null int64\n",
      "FullBath         1460 non-null int64\n",
      "HalfBath         1460 non-null int64\n",
      "BedroomAbvGr     1460 non-null int64\n",
      "KitchenAbvGr     1460 non-null int64\n",
      "KitchenQual      1460 non-null object\n",
      "TotRmsAbvGrd     1460 non-null int64\n",
      "Functional       1460 non-null object\n",
      "Fireplaces       1460 non-null int64\n",
      "FireplaceQu      770 non-null object\n",
      "GarageType       1379 non-null object\n",
      "GarageYrBlt      1379 non-null float64\n",
      "GarageFinish     1379 non-null object\n",
      "GarageCars       1460 non-null int64\n",
      "GarageArea       1460 non-null int64\n",
      "GarageQual       1379 non-null object\n",
      "GarageCond       1379 non-null object\n",
      "PavedDrive       1460 non-null object\n",
      "WoodDeckSF       1460 non-null int64\n",
      "OpenPorchSF      1460 non-null int64\n",
      "EnclosedPorch    1460 non-null int64\n",
      "3SsnPorch        1460 non-null int64\n",
      "ScreenPorch      1460 non-null int64\n",
      "PoolArea         1460 non-null int64\n",
      "PoolQC           7 non-null object\n",
      "Fence            281 non-null object\n",
      "MiscFeature      54 non-null object\n",
      "MiscVal          1460 non-null int64\n",
      "MoSold           1460 non-null int64\n",
      "YrSold           1460 non-null int64\n",
      "SaleType         1460 non-null object\n",
      "SaleCondition    1460 non-null object\n",
      "SalePrice        1460 non-null int64\n",
      "dtypes: float64(3), int64(35), object(43)\n",
      "memory usage: 924.0+ KB\n"
     ]
    }
   ],
   "source": [
    "new_data.info()"
   ]
  },
  {
   "cell_type": "code",
   "execution_count": 66,
   "metadata": {},
   "outputs": [],
   "source": [
    "# make new columns indicating what will be imputed\n",
    "cols_with_missing = (col for col in new_data.columns \n",
    "                    if new_data[col].isnull().any())\n",
    "\n",
    "for col in cols_with_missing:\n",
    "    new_data[col + '_was_missing'] = new_data[col].isnull()\n",
    "    #creates 19 new boolean columns"
   ]
  },
  {
   "cell_type": "code",
   "execution_count": 67,
   "metadata": {
    "scrolled": true
   },
   "outputs": [
    {
     "ename": "ValueError",
     "evalue": "could not convert string to float: 'Normal'",
     "output_type": "error",
     "traceback": [
      "\u001b[0;31m---------------------------------------------------------------------------\u001b[0m",
      "\u001b[0;31mValueError\u001b[0m                                Traceback (most recent call last)",
      "\u001b[0;32m<ipython-input-67-cd79c4a12226>\u001b[0m in \u001b[0;36m<module>\u001b[0;34m()\u001b[0m\n\u001b[1;32m      1\u001b[0m \u001b[0;31m# Imputation\u001b[0m\u001b[0;34m\u001b[0m\u001b[0;34m\u001b[0m\u001b[0m\n\u001b[1;32m      2\u001b[0m \u001b[0mmy_imputer\u001b[0m \u001b[0;34m=\u001b[0m \u001b[0mImputer\u001b[0m\u001b[0;34m(\u001b[0m\u001b[0;34m)\u001b[0m\u001b[0;34m\u001b[0m\u001b[0m\n\u001b[0;32m----> 3\u001b[0;31m \u001b[0mnew_data\u001b[0m \u001b[0;34m=\u001b[0m \u001b[0mmy_imputer\u001b[0m\u001b[0;34m.\u001b[0m\u001b[0mfit_transform\u001b[0m\u001b[0;34m(\u001b[0m\u001b[0mnew_data\u001b[0m\u001b[0;34m)\u001b[0m\u001b[0;34m\u001b[0m\u001b[0m\n\u001b[0m",
      "\u001b[0;32m~/anaconda3/lib/python3.6/site-packages/sklearn/base.py\u001b[0m in \u001b[0;36mfit_transform\u001b[0;34m(self, X, y, **fit_params)\u001b[0m\n\u001b[1;32m    516\u001b[0m         \u001b[0;32mif\u001b[0m \u001b[0my\u001b[0m \u001b[0;32mis\u001b[0m \u001b[0;32mNone\u001b[0m\u001b[0;34m:\u001b[0m\u001b[0;34m\u001b[0m\u001b[0m\n\u001b[1;32m    517\u001b[0m             \u001b[0;31m# fit method of arity 1 (unsupervised transformation)\u001b[0m\u001b[0;34m\u001b[0m\u001b[0;34m\u001b[0m\u001b[0m\n\u001b[0;32m--> 518\u001b[0;31m             \u001b[0;32mreturn\u001b[0m \u001b[0mself\u001b[0m\u001b[0;34m.\u001b[0m\u001b[0mfit\u001b[0m\u001b[0;34m(\u001b[0m\u001b[0mX\u001b[0m\u001b[0;34m,\u001b[0m \u001b[0;34m**\u001b[0m\u001b[0mfit_params\u001b[0m\u001b[0;34m)\u001b[0m\u001b[0;34m.\u001b[0m\u001b[0mtransform\u001b[0m\u001b[0;34m(\u001b[0m\u001b[0mX\u001b[0m\u001b[0;34m)\u001b[0m\u001b[0;34m\u001b[0m\u001b[0m\n\u001b[0m\u001b[1;32m    519\u001b[0m         \u001b[0;32melse\u001b[0m\u001b[0;34m:\u001b[0m\u001b[0;34m\u001b[0m\u001b[0m\n\u001b[1;32m    520\u001b[0m             \u001b[0;31m# fit method of arity 2 (supervised transformation)\u001b[0m\u001b[0;34m\u001b[0m\u001b[0;34m\u001b[0m\u001b[0m\n",
      "\u001b[0;32m~/anaconda3/lib/python3.6/site-packages/sklearn/preprocessing/imputation.py\u001b[0m in \u001b[0;36mfit\u001b[0;34m(self, X, y)\u001b[0m\n\u001b[1;32m    153\u001b[0m         \u001b[0;32mif\u001b[0m \u001b[0mself\u001b[0m\u001b[0;34m.\u001b[0m\u001b[0maxis\u001b[0m \u001b[0;34m==\u001b[0m \u001b[0;36m0\u001b[0m\u001b[0;34m:\u001b[0m\u001b[0;34m\u001b[0m\u001b[0m\n\u001b[1;32m    154\u001b[0m             X = check_array(X, accept_sparse='csc', dtype=np.float64,\n\u001b[0;32m--> 155\u001b[0;31m                             force_all_finite=False)\n\u001b[0m\u001b[1;32m    156\u001b[0m \u001b[0;34m\u001b[0m\u001b[0m\n\u001b[1;32m    157\u001b[0m             \u001b[0;32mif\u001b[0m \u001b[0msparse\u001b[0m\u001b[0;34m.\u001b[0m\u001b[0missparse\u001b[0m\u001b[0;34m(\u001b[0m\u001b[0mX\u001b[0m\u001b[0;34m)\u001b[0m\u001b[0;34m:\u001b[0m\u001b[0;34m\u001b[0m\u001b[0m\n",
      "\u001b[0;32m~/anaconda3/lib/python3.6/site-packages/sklearn/utils/validation.py\u001b[0m in \u001b[0;36mcheck_array\u001b[0;34m(array, accept_sparse, dtype, order, copy, force_all_finite, ensure_2d, allow_nd, ensure_min_samples, ensure_min_features, warn_on_dtype, estimator)\u001b[0m\n\u001b[1;32m    400\u001b[0m                                       force_all_finite)\n\u001b[1;32m    401\u001b[0m     \u001b[0;32melse\u001b[0m\u001b[0;34m:\u001b[0m\u001b[0;34m\u001b[0m\u001b[0m\n\u001b[0;32m--> 402\u001b[0;31m         \u001b[0marray\u001b[0m \u001b[0;34m=\u001b[0m \u001b[0mnp\u001b[0m\u001b[0;34m.\u001b[0m\u001b[0marray\u001b[0m\u001b[0;34m(\u001b[0m\u001b[0marray\u001b[0m\u001b[0;34m,\u001b[0m \u001b[0mdtype\u001b[0m\u001b[0;34m=\u001b[0m\u001b[0mdtype\u001b[0m\u001b[0;34m,\u001b[0m \u001b[0morder\u001b[0m\u001b[0;34m=\u001b[0m\u001b[0morder\u001b[0m\u001b[0;34m,\u001b[0m \u001b[0mcopy\u001b[0m\u001b[0;34m=\u001b[0m\u001b[0mcopy\u001b[0m\u001b[0;34m)\u001b[0m\u001b[0;34m\u001b[0m\u001b[0m\n\u001b[0m\u001b[1;32m    403\u001b[0m \u001b[0;34m\u001b[0m\u001b[0m\n\u001b[1;32m    404\u001b[0m         \u001b[0;32mif\u001b[0m \u001b[0mensure_2d\u001b[0m\u001b[0;34m:\u001b[0m\u001b[0;34m\u001b[0m\u001b[0m\n",
      "\u001b[0;31mValueError\u001b[0m: could not convert string to float: 'Normal'"
     ]
    }
   ],
   "source": [
    "# Imputation\n",
    "my_imputer = Imputer()\n",
    "new_data = my_imputer.fit_transform(new_data)"
   ]
  },
  {
   "cell_type": "markdown",
   "metadata": {},
   "source": [
    "In some cases this approach will meaningfully improve results. In other cases, it doesn't help at all. \n",
    "\n",
    "* ⚠️ This is a terribly obscure statement. I have no Idea what the imputer is doing with these boolean columns!! ⚠️ *\n",
    "\n",
    "## Example (Comparing All Solutions)\n",
    "We will see an eample predicting housing prices with our iowa housing data."
   ]
  },
  {
   "cell_type": "code",
   "execution_count": 80,
   "metadata": {},
   "outputs": [],
   "source": [
    "iowa_data = pd.read_csv('data/train.csv')\n",
    "iowa_target = iowa_data.SalePrice\n",
    "iowa_predictors = iowa_data.drop(['SalePrice'], axis = 1)"
   ]
  },
  {
   "cell_type": "code",
   "execution_count": 81,
   "metadata": {},
   "outputs": [],
   "source": [
    "# for the sake of simplicity, we'll use only numeric predictors\n",
    "iowa_numeric_predictors = iowa_data.select_dtypes(exclude = ['object'])"
   ]
  },
  {
   "cell_type": "code",
   "execution_count": 82,
   "metadata": {
    "scrolled": true
   },
   "outputs": [
    {
     "data": {
      "text/html": [
       "<div>\n",
       "<style>\n",
       "    .dataframe thead tr:only-child th {\n",
       "        text-align: right;\n",
       "    }\n",
       "\n",
       "    .dataframe thead th {\n",
       "        text-align: left;\n",
       "    }\n",
       "\n",
       "    .dataframe tbody tr th {\n",
       "        vertical-align: top;\n",
       "    }\n",
       "</style>\n",
       "<table border=\"1\" class=\"dataframe\">\n",
       "  <thead>\n",
       "    <tr style=\"text-align: right;\">\n",
       "      <th></th>\n",
       "      <th>Id</th>\n",
       "      <th>MSSubClass</th>\n",
       "      <th>LotFrontage</th>\n",
       "      <th>LotArea</th>\n",
       "      <th>OverallQual</th>\n",
       "      <th>OverallCond</th>\n",
       "      <th>YearBuilt</th>\n",
       "      <th>YearRemodAdd</th>\n",
       "      <th>MasVnrArea</th>\n",
       "      <th>BsmtFinSF1</th>\n",
       "      <th>...</th>\n",
       "      <th>WoodDeckSF</th>\n",
       "      <th>OpenPorchSF</th>\n",
       "      <th>EnclosedPorch</th>\n",
       "      <th>3SsnPorch</th>\n",
       "      <th>ScreenPorch</th>\n",
       "      <th>PoolArea</th>\n",
       "      <th>MiscVal</th>\n",
       "      <th>MoSold</th>\n",
       "      <th>YrSold</th>\n",
       "      <th>SalePrice</th>\n",
       "    </tr>\n",
       "  </thead>\n",
       "  <tbody>\n",
       "    <tr>\n",
       "      <th>0</th>\n",
       "      <td>1</td>\n",
       "      <td>60</td>\n",
       "      <td>65.0</td>\n",
       "      <td>8450</td>\n",
       "      <td>7</td>\n",
       "      <td>5</td>\n",
       "      <td>2003</td>\n",
       "      <td>2003</td>\n",
       "      <td>196.0</td>\n",
       "      <td>706</td>\n",
       "      <td>...</td>\n",
       "      <td>0</td>\n",
       "      <td>61</td>\n",
       "      <td>0</td>\n",
       "      <td>0</td>\n",
       "      <td>0</td>\n",
       "      <td>0</td>\n",
       "      <td>0</td>\n",
       "      <td>2</td>\n",
       "      <td>2008</td>\n",
       "      <td>208500</td>\n",
       "    </tr>\n",
       "    <tr>\n",
       "      <th>1</th>\n",
       "      <td>2</td>\n",
       "      <td>20</td>\n",
       "      <td>80.0</td>\n",
       "      <td>9600</td>\n",
       "      <td>6</td>\n",
       "      <td>8</td>\n",
       "      <td>1976</td>\n",
       "      <td>1976</td>\n",
       "      <td>0.0</td>\n",
       "      <td>978</td>\n",
       "      <td>...</td>\n",
       "      <td>298</td>\n",
       "      <td>0</td>\n",
       "      <td>0</td>\n",
       "      <td>0</td>\n",
       "      <td>0</td>\n",
       "      <td>0</td>\n",
       "      <td>0</td>\n",
       "      <td>5</td>\n",
       "      <td>2007</td>\n",
       "      <td>181500</td>\n",
       "    </tr>\n",
       "    <tr>\n",
       "      <th>2</th>\n",
       "      <td>3</td>\n",
       "      <td>60</td>\n",
       "      <td>68.0</td>\n",
       "      <td>11250</td>\n",
       "      <td>7</td>\n",
       "      <td>5</td>\n",
       "      <td>2001</td>\n",
       "      <td>2002</td>\n",
       "      <td>162.0</td>\n",
       "      <td>486</td>\n",
       "      <td>...</td>\n",
       "      <td>0</td>\n",
       "      <td>42</td>\n",
       "      <td>0</td>\n",
       "      <td>0</td>\n",
       "      <td>0</td>\n",
       "      <td>0</td>\n",
       "      <td>0</td>\n",
       "      <td>9</td>\n",
       "      <td>2008</td>\n",
       "      <td>223500</td>\n",
       "    </tr>\n",
       "    <tr>\n",
       "      <th>3</th>\n",
       "      <td>4</td>\n",
       "      <td>70</td>\n",
       "      <td>60.0</td>\n",
       "      <td>9550</td>\n",
       "      <td>7</td>\n",
       "      <td>5</td>\n",
       "      <td>1915</td>\n",
       "      <td>1970</td>\n",
       "      <td>0.0</td>\n",
       "      <td>216</td>\n",
       "      <td>...</td>\n",
       "      <td>0</td>\n",
       "      <td>35</td>\n",
       "      <td>272</td>\n",
       "      <td>0</td>\n",
       "      <td>0</td>\n",
       "      <td>0</td>\n",
       "      <td>0</td>\n",
       "      <td>2</td>\n",
       "      <td>2006</td>\n",
       "      <td>140000</td>\n",
       "    </tr>\n",
       "    <tr>\n",
       "      <th>4</th>\n",
       "      <td>5</td>\n",
       "      <td>60</td>\n",
       "      <td>84.0</td>\n",
       "      <td>14260</td>\n",
       "      <td>8</td>\n",
       "      <td>5</td>\n",
       "      <td>2000</td>\n",
       "      <td>2000</td>\n",
       "      <td>350.0</td>\n",
       "      <td>655</td>\n",
       "      <td>...</td>\n",
       "      <td>192</td>\n",
       "      <td>84</td>\n",
       "      <td>0</td>\n",
       "      <td>0</td>\n",
       "      <td>0</td>\n",
       "      <td>0</td>\n",
       "      <td>0</td>\n",
       "      <td>12</td>\n",
       "      <td>2008</td>\n",
       "      <td>250000</td>\n",
       "    </tr>\n",
       "  </tbody>\n",
       "</table>\n",
       "<p>5 rows × 38 columns</p>\n",
       "</div>"
      ],
      "text/plain": [
       "   Id  MSSubClass  LotFrontage  LotArea  OverallQual  OverallCond  YearBuilt  \\\n",
       "0   1          60         65.0     8450            7            5       2003   \n",
       "1   2          20         80.0     9600            6            8       1976   \n",
       "2   3          60         68.0    11250            7            5       2001   \n",
       "3   4          70         60.0     9550            7            5       1915   \n",
       "4   5          60         84.0    14260            8            5       2000   \n",
       "\n",
       "   YearRemodAdd  MasVnrArea  BsmtFinSF1    ...      WoodDeckSF  OpenPorchSF  \\\n",
       "0          2003       196.0         706    ...               0           61   \n",
       "1          1976         0.0         978    ...             298            0   \n",
       "2          2002       162.0         486    ...               0           42   \n",
       "3          1970         0.0         216    ...               0           35   \n",
       "4          2000       350.0         655    ...             192           84   \n",
       "\n",
       "   EnclosedPorch  3SsnPorch  ScreenPorch  PoolArea  MiscVal  MoSold  YrSold  \\\n",
       "0              0          0            0         0        0       2    2008   \n",
       "1              0          0            0         0        0       5    2007   \n",
       "2              0          0            0         0        0       9    2008   \n",
       "3            272          0            0         0        0       2    2006   \n",
       "4              0          0            0         0        0      12    2008   \n",
       "\n",
       "   SalePrice  \n",
       "0     208500  \n",
       "1     181500  \n",
       "2     223500  \n",
       "3     140000  \n",
       "4     250000  \n",
       "\n",
       "[5 rows x 38 columns]"
      ]
     },
     "execution_count": 82,
     "metadata": {},
     "output_type": "execute_result"
    }
   ],
   "source": [
    "iowa_numeric_predictors.head()"
   ]
  },
  {
   "cell_type": "markdown",
   "metadata": {},
   "source": [
    "### Create Function to Measure Quality of An Approach\n",
    "\n",
    "We divide our data in **training** and **test**.\n",
    "\n",
    "Kaggle used a preloaded function socre_dataset(X_train, X_test, y_train, y_test) to compare the quality of different approaches to missing values. This function reports the out-of-sample MAE score from a Random Forest\n",
    "\n",
    "- *So, I guess it scores by comparing the predicted value to the known value in the training set.*\n",
    "\n"
   ]
  },
  {
   "cell_type": "code",
   "execution_count": null,
   "metadata": {
    "collapsed": true
   },
   "outputs": [],
   "source": []
  },
  {
   "cell_type": "code",
   "execution_count": 83,
   "metadata": {
    "collapsed": true
   },
   "outputs": [],
   "source": [
    "X_train, X_test, y_train, y_test = train_test_split(iowa_numeric_predictors, \n",
    "                                                  iowa_data.SalePrice, \n",
    "                                                  random_state = 42)"
   ]
  },
  {
   "cell_type": "markdown",
   "metadata": {},
   "source": [
    "### Get Model Score from Dropping Columns with Missing Values"
   ]
  },
  {
   "cell_type": "code",
   "execution_count": 84,
   "metadata": {
    "collapsed": true
   },
   "outputs": [],
   "source": [
    "cols_with_missing = [col for col in X_train.columns\n",
    "                    if X_train[col].isnull().any()]\n",
    "reduced_X_train = X_train.drop(cols_with_missing, axis = 1)\n",
    "reduced_X_test = X_test.drop(cols_with_missing, axis = 1)"
   ]
  },
  {
   "cell_type": "code",
   "execution_count": 85,
   "metadata": {},
   "outputs": [
    {
     "data": {
      "text/plain": [
       "RandomForestRegressor(bootstrap=True, criterion='mse', max_depth=None,\n",
       "           max_features='auto', max_leaf_nodes=None,\n",
       "           min_impurity_decrease=0.0, min_impurity_split=None,\n",
       "           min_samples_leaf=1, min_samples_split=2,\n",
       "           min_weight_fraction_leaf=0.0, n_estimators=10, n_jobs=1,\n",
       "           oob_score=False, random_state=None, verbose=0, warm_start=False)"
      ]
     },
     "execution_count": 85,
     "metadata": {},
     "output_type": "execute_result"
    }
   ],
   "source": [
    "# Kaggle did not publish the function they used, so I'll\n",
    "# just fit the current forest model\n",
    "\n",
    "forest_model.fit(reduced_X_train, y_train)"
   ]
  },
  {
   "cell_type": "code",
   "execution_count": 86,
   "metadata": {},
   "outputs": [
    {
     "data": {
      "text/plain": [
       "0.99058886639694632"
      ]
     },
     "execution_count": 86,
     "metadata": {},
     "output_type": "execute_result"
    }
   ],
   "source": [
    "forest_model.score(reduced_X_test, y_test)"
   ]
  },
  {
   "cell_type": "code",
   "execution_count": 87,
   "metadata": {},
   "outputs": [],
   "source": [
    "forest_preds = forest_model.predict(reduced_X_test)"
   ]
  },
  {
   "cell_type": "code",
   "execution_count": 88,
   "metadata": {},
   "outputs": [
    {
     "name": "stdout",
     "output_type": "stream",
     "text": [
      "Mean Absolute Error from dropping columns with Missing Values:\n",
      "1017.88821918\n"
     ]
    }
   ],
   "source": [
    "print('Mean Absolute Error from dropping columns with Missing Values:')\n",
    "print(mean_absolute_error(y_test, forest_preds))"
   ]
  },
  {
   "cell_type": "markdown",
   "metadata": {},
   "source": [
    "Compare the above mae of \n",
    "\n",
    "_1,017.89 mae of dropped columns with nas\n",
    "\n",
    "22,287.00\n",
    "That is a dramatic reduction in mean error. "
   ]
  },
  {
   "cell_type": "markdown",
   "metadata": {},
   "source": [
    "### make a submission with the reduced dataset"
   ]
  },
  {
   "cell_type": "code",
   "execution_count": 176,
   "metadata": {
    "scrolled": false
   },
   "outputs": [
    {
     "name": "stdout",
     "output_type": "stream",
     "text": [
      "in-sample forest_model.score: 0.920969244423\n",
      "Mean Absolute in-sample Error from dropping columns with Missing Values:\n",
      "16322.4405066\n"
     ]
    }
   ],
   "source": [
    "#read in test and train data\n",
    "train_data = pd.read_csv('data/train.csv')\n",
    "train_target = train_data.SalePrice\n",
    "train_predictors = train_data.drop(['SalePrice'], axis = 1)\n",
    "train_numeric_predictors = train_predictors.select_dtypes(exclude = ['object'])\n",
    "test = pd.read_csv('data/test.csv')\n",
    "test_numeric_predictors = test.select_dtypes(exclude = ['object'])\n",
    "\n",
    "#drop cols with missing values in train and test\n",
    "train_cols_with_missing = [col for col in train_numeric_predictors.columns\n",
    "                    if train_numeric_predictors[col].isnull().any()]\n",
    "test_cols_with_missing = [col for col in test_numeric_predictors.columns\n",
    "                         if test_numeric_predictors[col].isnull().any()]\n",
    "#make union of dropped cols\n",
    "results_list = [train_cols_with_missing, test_cols_with_missing]\n",
    "cols_with_missing = set().union(*results_list)\n",
    "reduced_X_train = train_numeric_predictors.drop(cols_with_missing, axis = 1)\n",
    "reduced_X_test = test_numeric_predictors.drop(cols_with_missing, axis = 1)\n",
    "\n",
    "#fit random forest\n",
    "forest_model = RandomForestRegressor(max_leaf_nodes=50)\n",
    "forest_model.fit(reduced_X_train, train_target)\n",
    "\n",
    "#generate in-sample predictions\n",
    "preds_on_reduced_numeric_data = forest_model.predict(reduced_X_train)\n",
    "\n",
    "#insample score\n",
    "print('in-sample forest_model.score:', forest_model.score(reduced_X_train, train_target))\n",
    "print('Mean Absolute in-sample Error from dropping columns with Missing Values:')\n",
    "print(mean_absolute_error(train_target, preds_on_reduced_numeric_data))\n",
    "\n",
    "#generate out-sample predictions\n",
    "preds_on_reduced_numeric_test_data = forest_model.predict(reduced_X_test)\n",
    "\n",
    "my_submission = pd.DataFrame({'Id': test.Id, 'SalePrice': preds_on_reduced_numeric_test_data})\n",
    "\n",
    "my_submission.to_csv('kaggle_ml_course_reduced_numeric.csv', index = False)"
   ]
  },
  {
   "cell_type": "code",
   "execution_count": 172,
   "metadata": {},
   "outputs": [
    {
     "data": {
      "text/plain": [
       "1460"
      ]
     },
     "execution_count": 172,
     "metadata": {},
     "output_type": "execute_result"
    }
   ],
   "source": [
    "len(preds_on_reduced_numeric_data)"
   ]
  },
  {
   "cell_type": "code",
   "execution_count": null,
   "metadata": {
    "collapsed": true
   },
   "outputs": [],
   "source": [
    "len(test)"
   ]
  },
  {
   "cell_type": "markdown",
   "metadata": {},
   "source": [
    "### Get Model Score from Imputation"
   ]
  },
  {
   "cell_type": "code",
   "execution_count": 89,
   "metadata": {
    "collapsed": true
   },
   "outputs": [],
   "source": [
    "my_imputer = Imputer()\n",
    "imputed_X_train = my_imputer.fit_transform(X_train)\n",
    "imputed_X_test = my_imputer.transform(X_test)"
   ]
  },
  {
   "cell_type": "code",
   "execution_count": 90,
   "metadata": {},
   "outputs": [
    {
     "data": {
      "text/plain": [
       "RandomForestRegressor(bootstrap=True, criterion='mse', max_depth=None,\n",
       "           max_features='auto', max_leaf_nodes=None,\n",
       "           min_impurity_decrease=0.0, min_impurity_split=None,\n",
       "           min_samples_leaf=1, min_samples_split=2,\n",
       "           min_weight_fraction_leaf=0.0, n_estimators=10, n_jobs=1,\n",
       "           oob_score=False, random_state=None, verbose=0, warm_start=False)"
      ]
     },
     "execution_count": 90,
     "metadata": {},
     "output_type": "execute_result"
    }
   ],
   "source": [
    "forest_model.fit(imputed_X_train, y_train)"
   ]
  },
  {
   "cell_type": "code",
   "execution_count": 91,
   "metadata": {},
   "outputs": [
    {
     "data": {
      "text/plain": [
       "0.99373992624303586"
      ]
     },
     "execution_count": 91,
     "metadata": {},
     "output_type": "execute_result"
    }
   ],
   "source": [
    "forest_model.score(imputed_X_test, y_test)"
   ]
  },
  {
   "cell_type": "code",
   "execution_count": 92,
   "metadata": {
    "collapsed": true
   },
   "outputs": [],
   "source": [
    "forest_preds = forest_model.predict(imputed_X_test)"
   ]
  },
  {
   "cell_type": "code",
   "execution_count": 93,
   "metadata": {},
   "outputs": [
    {
     "name": "stdout",
     "output_type": "stream",
     "text": [
      "Mean Absolute Error from Imputation:\n",
      "893.72\n"
     ]
    }
   ],
   "source": [
    "print('Mean Absolute Error from Imputation:')\n",
    "print(mean_absolute_error(y_test, forest_preds))"
   ]
  },
  {
   "cell_type": "markdown",
   "metadata": {},
   "source": [
    "Compare the above mae of \n",
    "\n",
    "___893.72 mae of imputed values \n",
    "\n",
    "_1,017.89 mae of dropped columns with nas\n",
    "\n",
    "22,287.00 the \"out-of-the-box\" random forest mae\n",
    "\n",
    "27,232.__ the best max_nodes = 50, tunded tree regressor mae\n",
    "\n",
    "30,160.74 the out of sample tree_regressor mae **underfit?**\n",
    "\n",
    "____62.35 the in-sample tree_regressor mae **overfit**\n",
    "\n",
    "That is a dramatic reduction in mean error. "
   ]
  },
  {
   "cell_type": "markdown",
   "metadata": {},
   "source": [
    "### make a submission with imputed dataset"
   ]
  },
  {
   "cell_type": "code",
   "execution_count": 178,
   "metadata": {},
   "outputs": [
    {
     "name": "stdout",
     "output_type": "stream",
     "text": [
      "in-sample forest_model.score: 0.931296484106\n",
      "Mean Absolute in-sample Error from dropping columns with Missing Values:\n",
      "14767.7396892\n"
     ]
    }
   ],
   "source": [
    "#read in test and train data\n",
    "train_data = pd.read_csv('data/train.csv')\n",
    "train_target = train_data.SalePrice\n",
    "train_predictors = train_data.drop(['SalePrice'], axis = 1)\n",
    "train_numeric_predictors = train_predictors.select_dtypes(exclude = ['object'])\n",
    "test = pd.read_csv('data/test.csv')\n",
    "test_numeric_predictors = test.select_dtypes(exclude = ['object'])\n",
    "\n",
    "#impute value to both test and train data\n",
    "my_imputer = Imputer()\n",
    "imputed_X_train = my_imputer.fit_transform(train_numeric_predictors)\n",
    "imputed_X_test = my_imputer.transform(test_numeric_predictors)\n",
    "\n",
    "#fit random forest\n",
    "forest_model = RandomForestRegressor(max_leaf_nodes=50)\n",
    "forest_model.fit(imputed_X_train, train_target)\n",
    "\n",
    "#generate in-sample predictions\n",
    "preds_on_imputed_numeric_data = forest_model.predict(imputed_X_train)\n",
    "\n",
    "#insample score\n",
    "print('in-sample forest_model.score:', forest_model.score(imputed_X_train, train_target))\n",
    "print('Mean Absolute in-sample Error from dropping columns with Missing Values:')\n",
    "print(mean_absolute_error(train_target, preds_on_imputed_numeric_data))\n",
    "\n",
    "#generate out-sample predictions\n",
    "preds_on_imputed_numeric_test_data = forest_model.predict(imputed_X_test)\n",
    "\n",
    "my_submission = pd.DataFrame({'Id': test.Id, 'SalePrice': preds_on_imputed_numeric_test_data})\n",
    "\n",
    "my_submission.to_csv('kaggle_ml_course_imputed_numeric.csv', index = False)"
   ]
  },
  {
   "cell_type": "markdown",
   "metadata": {},
   "source": [
    "### Get score from imputation with Extra Columns Showing What Was Imputed"
   ]
  },
  {
   "cell_type": "code",
   "execution_count": 94,
   "metadata": {
    "collapsed": true
   },
   "outputs": [],
   "source": [
    "imputed_X_train_plus = X_train.copy()\n",
    "imputed_X_test_plus = X_test.copy()"
   ]
  },
  {
   "cell_type": "code",
   "execution_count": 95,
   "metadata": {},
   "outputs": [
    {
     "data": {
      "text/plain": [
       "RandomForestRegressor(bootstrap=True, criterion='mse', max_depth=None,\n",
       "           max_features='auto', max_leaf_nodes=None,\n",
       "           min_impurity_decrease=0.0, min_impurity_split=None,\n",
       "           min_samples_leaf=1, min_samples_split=2,\n",
       "           min_weight_fraction_leaf=0.0, n_estimators=10, n_jobs=1,\n",
       "           oob_score=False, random_state=None, verbose=0, warm_start=False)"
      ]
     },
     "execution_count": 95,
     "metadata": {},
     "output_type": "execute_result"
    }
   ],
   "source": [
    "cols_with_missing = (col for col in X_train.columns\n",
    "                    if X_train[col].isnull().any())\n",
    "for col in cols_with_missing:\n",
    "    imputed_X_train_plus[col + '_was_missing'] = imputed_X_train_plus[col].isnull()\n",
    "    imputed_X_test_plus[col + '_was_missing'] = imputed_X_test_plus[col].isnull()\n",
    "    \n",
    "# Imputation\n",
    "my_imputer = Imputer()\n",
    "imputed_X_train_plus = my_imputer.fit_transform(imputed_X_train_plus)\n",
    "imputed_X_test_plus = my_imputer.transform(imputed_X_test_plus)\n",
    "\n",
    "forest_model.fit(imputed_X_train_plus, y_train)"
   ]
  },
  {
   "cell_type": "code",
   "execution_count": 97,
   "metadata": {},
   "outputs": [
    {
     "data": {
      "text/plain": [
       "0.99297195118742509"
      ]
     },
     "execution_count": 97,
     "metadata": {},
     "output_type": "execute_result"
    }
   ],
   "source": [
    "forest_model.score(imputed_X_test_plus, y_test)"
   ]
  },
  {
   "cell_type": "code",
   "execution_count": 98,
   "metadata": {
    "collapsed": true
   },
   "outputs": [],
   "source": [
    "forest_preds = forest_model.predict(imputed_X_test_plus)"
   ]
  },
  {
   "cell_type": "code",
   "execution_count": 99,
   "metadata": {},
   "outputs": [
    {
     "name": "stdout",
     "output_type": "stream",
     "text": [
      "Mean Absolute Error from Imputation while Tracking What Was Imputed:\n",
      "937.506849315\n"
     ]
    }
   ],
   "source": [
    "print('Mean Absolute Error from Imputation while Tracking What Was Imputed:')\n",
    "print(mean_absolute_error(y_test, forest_preds))"
   ]
  },
  {
   "cell_type": "markdown",
   "metadata": {},
   "source": [
    "Compare:\n",
    "\n",
    "___937.51 mae of imputed with tracking\n",
    "\n",
    "___893.72 mae of imputed values \n",
    "\n",
    "_1,017.89 mae of dropped columns with nas\n",
    "\n",
    "22,287.00 the \"out-of-the-box\" random forest mae\n",
    "\n",
    "27,232.__ the best max_nodes = 50, tunded tree regressor mae\n",
    "\n",
    "30,160.74 the out of sample tree_regressor mae **underfit?**\n",
    "\n",
    "____62.35 the in-sample tree_regressor mae **overfit**\n",
    "\n",
    "That is a dramatic reduction in mean error. "
   ]
  },
  {
   "cell_type": "markdown",
   "metadata": {},
   "source": [
    "### make submission tracking what was missing"
   ]
  },
  {
   "cell_type": "code",
   "execution_count": 180,
   "metadata": {},
   "outputs": [
    {
     "name": "stderr",
     "output_type": "stream",
     "text": [
      "/Users/paulomartinez/anaconda3/lib/python3.6/site-packages/ipykernel_launcher.py:20: SettingWithCopyWarning: \n",
      "A value is trying to be set on a copy of a slice from a DataFrame.\n",
      "Try using .loc[row_indexer,col_indexer] = value instead\n",
      "\n",
      "See the caveats in the documentation: http://pandas.pydata.org/pandas-docs/stable/indexing.html#indexing-view-versus-copy\n",
      "/Users/paulomartinez/anaconda3/lib/python3.6/site-packages/ipykernel_launcher.py:21: SettingWithCopyWarning: \n",
      "A value is trying to be set on a copy of a slice from a DataFrame.\n",
      "Try using .loc[row_indexer,col_indexer] = value instead\n",
      "\n",
      "See the caveats in the documentation: http://pandas.pydata.org/pandas-docs/stable/indexing.html#indexing-view-versus-copy\n"
     ]
    },
    {
     "name": "stdout",
     "output_type": "stream",
     "text": [
      "in-sample forest_model.score: 0.971075690954\n",
      "Mean Absolute in-sample Error from dropping columns with Missing Values:\n",
      "8055.4580137\n"
     ]
    }
   ],
   "source": [
    "#read in test and train data\n",
    "train_data = pd.read_csv('data/train.csv')\n",
    "train_target = train_data.SalePrice\n",
    "train_predictors = train_data.drop(['SalePrice'], axis = 1)\n",
    "train_numeric_predictors = train_predictors.select_dtypes(exclude = ['object'])\n",
    "test = pd.read_csv('data/test.csv')\n",
    "test_numeric_predictors = test.select_dtypes(exclude = ['object'])\n",
    "\n",
    "# track union of cols with misssing vals in train and test data\n",
    "train_cols_with_missing = [col for col in train_numeric_predictors.columns\n",
    "                    if train_numeric_predictors[col].isnull().any()]\n",
    "test_cols_with_missing = [col for col in test_numeric_predictors.columns\n",
    "                         if test_numeric_predictors[col].isnull().any()]\n",
    "#make union of dropped cols\n",
    "results_list = [train_cols_with_missing, test_cols_with_missing]\n",
    "cols_with_missing = set().union(*results_list)\n",
    "\n",
    "#track cols with missing data\n",
    "for col in cols_with_missing:\n",
    "    train_numeric_predictors[col + '_was_missing'] = train_numeric_predictors[col].isnull()\n",
    "    test_numeric_predictors[col + '_was_missing'] = test_numeric_predictors[col].isnull()\n",
    "\n",
    "#impute value to both test and train data\n",
    "my_imputer = Imputer()\n",
    "imputed_X_train = my_imputer.fit_transform(train_numeric_predictors)\n",
    "imputed_X_test = my_imputer.transform(test_numeric_predictors)\n",
    "                            #not sure why, but it is supposed to be .transform instead of the .fit_transform\n",
    "\n",
    "#fit random forest\n",
    "forest_model = RandomForestRegressor()\n",
    "forest_model.fit(imputed_X_train, train_target)\n",
    "\n",
    "#generate in-sample predictions\n",
    "preds_on_imputed_numeric_data = forest_model.predict(imputed_X_train)\n",
    "\n",
    "#insample score\n",
    "print('in-sample forest_model.score:', forest_model.score(imputed_X_train, train_target))\n",
    "print('Mean Absolute in-sample Error from dropping columns with Missing Values:')\n",
    "print(mean_absolute_error(train_target, preds_on_imputed_numeric_data))\n",
    "\n",
    "#generate out-sample predictions\n",
    "preds_on_imputed_numeric_test_data = forest_model.predict(imputed_X_test)\n",
    "\n",
    "my_submission = pd.DataFrame({'Id': test.Id, 'SalePrice': preds_on_imputed_numeric_test_data})\n",
    "\n",
    "my_submission.to_csv('kaggle_ml_course_tracked_imputed_numeric.csv', index = False)"
   ]
  },
  {
   "cell_type": "markdown",
   "metadata": {},
   "source": [
    "## Conclusion\n",
    "\n",
    "The benefits of this result can vary widely from one dataset to the next (largely dteremined by whether rows with missing values are intrinsically like or unlike those without missing values)."
   ]
  },
  {
   "cell_type": "markdown",
   "metadata": {},
   "source": [
    "# Using Categorical Data with One Hot Encoding\n",
    "\n",
    "## Introduction\n",
    "Categorical data is data that takes only a limited number of values\n",
    "\n",
    "- For example: makes of car: Honda, Toyota, Ford, None, etc\n",
    "\n",
    "You will get an error if you try to plug these variables into most machine learning models in Python without \"enodig\" them first. \n",
    "\n",
    "## One-Hot Encoding: The Standard Approach for Categorical Data\n",
    "One hot enconding is the most widespread approach, and it works very well unless your categorical variable takes on a large number of values (i.e. you generally won't fit for variables taking more than 15 different values. It'd be a poor choice in some cases with fewer values, though that varies.)\n",
    "\n",
    "One hot encoding creates new (binary) columns, indicating the presence of each possible value from the original data. Let's work through an example\n",
    "\n",
    "![](https://i.imgur.com/mtimFxh.png)\n",
    "\n",
    "The values in the original data are Red, Yellow and Green. We create a separate column for each possible value. Wherever the original value was Red, we put a 1 in the Red column."
   ]
  },
  {
   "cell_type": "code",
   "execution_count": 182,
   "metadata": {
    "collapsed": true
   },
   "outputs": [],
   "source": [
    "iowa_data = pd.read_csv('data/train.csv')\n",
    "target = iowa_data.SalePrice\n",
    "train_predictors = iowa_data.drop(['SalePrice'], axis = 1)\n",
    "\n",
    "test_predictors = pd.read_csv('data/test.csv')"
   ]
  },
  {
   "cell_type": "code",
   "execution_count": 183,
   "metadata": {},
   "outputs": [
    {
     "data": {
      "text/plain": [
       "FullBath        int64\n",
       "RoofStyle      object\n",
       "Exterior1st    object\n",
       "ExterQual      object\n",
       "ScreenPorch     int64\n",
       "LandSlope      object\n",
       "PoolQC         object\n",
       "MiscFeature    object\n",
       "MSZoning       object\n",
       "FireplaceQu    object\n",
       "dtype: object"
      ]
     },
     "execution_count": 183,
     "metadata": {},
     "output_type": "execute_result"
    }
   ],
   "source": [
    "train_predictors.dtypes.sample(10)"
   ]
  },
  {
   "cell_type": "markdown",
   "metadata": {},
   "source": [
    "**Object** indicates a column has text (there are other things it could be theoretically be, but that's unimportant for our purposes). It's most commont to one-hot encode these \"objects\" columns, since they can't be plugged directly into most models. Pandas offers a convenient function called **get_dummies** to get one-hot encodings. Call it like this:"
   ]
  },
  {
   "cell_type": "code",
   "execution_count": 184,
   "metadata": {
    "collapsed": true
   },
   "outputs": [],
   "source": [
    "one_hot_encoded_training_predictores = pd.get_dummies(train_predictors)"
   ]
  },
  {
   "cell_type": "code",
   "execution_count": 185,
   "metadata": {
    "collapsed": true
   },
   "outputs": [],
   "source": [
    "one_hot_encoded_test_predictors = pd.get_dummies(test_predictors)"
   ]
  },
  {
   "cell_type": "markdown",
   "metadata": {},
   "source": [
    "Alternatively, we could have dropped the categoricals. To see how the approaches compare, we can calulate the mean absolute error of models built with two alternative sets of predictors:\n",
    "1. One-hot encoded categoricals as well as numeric predictors\n",
    "2. Numerical predictors, where we drop categoricals. \n",
    "    - which we've done above\n",
    "One-hot encoding usually helps but it vaires on a case-by-case basis. In this case, there doesen't appear to be any meaningful benefit from using the one-hot encoded variables. "
   ]
  },
  {
   "cell_type": "code",
   "execution_count": 187,
   "metadata": {},
   "outputs": [],
   "source": [
    "# Handle missing values through untracked imputation\n",
    "my_imputer = Imputer()\n",
    "one_hot_encoded_training_predictores = my_imputer.fit_transform(one_hot_encoded_training_predictores)\n",
    "one_hot_encoded_test_predictors = my_imputer.fit_transform(one_hot_encoded_test_predictors)"
   ]
  },
  {
   "cell_type": "code",
   "execution_count": 188,
   "metadata": {
    "collapsed": true
   },
   "outputs": [],
   "source": [
    "from sklearn.model_selection import cross_val_score\n",
    "from sklearn.ensemble import RandomForestRegressor\n",
    "\n",
    "def get_mae(X, y):\n",
    "    '''multiple by -1 to make positive MAE score instead of neg value returned as sklearn convention'''\n",
    "    return -1* cross_val_score(RandomForestRegressor(max_leaf_nodes=50),\n",
    "                              X, y, \n",
    "                              scoring = 'neg_mean_absolute_error').mean()\n"
   ]
  },
  {
   "cell_type": "code",
   "execution_count": 189,
   "metadata": {
    "collapsed": true
   },
   "outputs": [],
   "source": [
    "predictors_without_categoricals = train_predictors.select_dtypes(exclude = ['object'])\n",
    "# handle missing values through untracked imputation\n",
    "predictors_without_categoricals = my_imputer.fit_transform(predictors_without_categoricals)"
   ]
  },
  {
   "cell_type": "code",
   "execution_count": 190,
   "metadata": {
    "collapsed": true
   },
   "outputs": [],
   "source": [
    "mae_without_categoricals = get_mae(predictors_without_categoricals,\n",
    "                                  target)"
   ]
  },
  {
   "cell_type": "code",
   "execution_count": 191,
   "metadata": {
    "collapsed": true
   },
   "outputs": [],
   "source": [
    "mae_one_hot_encoded = get_mae(one_hot_encoded_training_predictores,\n",
    "                             target)"
   ]
  },
  {
   "cell_type": "code",
   "execution_count": 192,
   "metadata": {},
   "outputs": [
    {
     "name": "stdout",
     "output_type": "stream",
     "text": [
      "Mean Absolute Error when Dropping Categoricals and imputing nas: 20852\n",
      "Mean Absolute Error with One-Hot Encoding and imputing nas: 20399\n"
     ]
    }
   ],
   "source": [
    "print('Mean Absolute Error when Dropping Categoricals and imputing nas: ' + str(int(mae_without_categoricals)))\n",
    "print('Mean Absolute Error with One-Hot Encoding and imputing nas: ' + str(int(mae_one_hot_encoded)))"
   ]
  },
  {
   "cell_type": "code",
   "execution_count": 193,
   "metadata": {},
   "outputs": [
    {
     "data": {
      "text/plain": [
       "20852.464541759018"
      ]
     },
     "execution_count": 193,
     "metadata": {},
     "output_type": "execute_result"
    }
   ],
   "source": [
    "mae_without_categoricals\n",
    "# 20,664"
   ]
  },
  {
   "cell_type": "code",
   "execution_count": 194,
   "metadata": {},
   "outputs": [
    {
     "data": {
      "text/plain": [
       "20399.917485257756"
      ]
     },
     "execution_count": 194,
     "metadata": {},
     "output_type": "execute_result"
    }
   ],
   "source": [
    "mae_one_hot_encoded\n",
    "# 20,514"
   ]
  },
  {
   "cell_type": "markdown",
   "metadata": {},
   "source": [
    "# Caution\n",
    "Scikit-learn is sensitive to the ordering of columns, so if the training dataset and test datasets get misaligned, your resultes will be nonesense. This could happen if a categorical had a different set of levels in the training data vs the test data.\n",
    "\n",
    "Ensure the test data is enoded in the same manner as the training data with the align command:"
   ]
  },
  {
   "cell_type": "code",
   "execution_count": 195,
   "metadata": {
    "collapsed": true
   },
   "outputs": [],
   "source": [
    "# reload original test and train data for certainty\n",
    "iowa_data = pd.read_csv('data/train.csv')\n",
    "target = iowa_data.SalePrice\n",
    "train_predictors = iowa_data.drop(['SalePrice'], axis = 1)\n",
    "test_predictors = pd.read_csv('data/test.csv')"
   ]
  },
  {
   "cell_type": "code",
   "execution_count": 196,
   "metadata": {
    "collapsed": true
   },
   "outputs": [],
   "source": [
    "one_hot_encoded_training_predictores = pd.get_dummies(train_predictors)\n",
    "\n",
    "one_hot_encoded_test_predictors = pd.get_dummies(test_predictors)"
   ]
  },
  {
   "cell_type": "code",
   "execution_count": 198,
   "metadata": {},
   "outputs": [],
   "source": [
    "#align categorical levels/columns\n",
    "final_train, final_test = one_hot_encoded_training_predictores.align(one_hot_encoded_test_predictors,\n",
    "                                                                    join = 'left',\n",
    "                                                                    axis = 1)"
   ]
  },
  {
   "cell_type": "code",
   "execution_count": 199,
   "metadata": {},
   "outputs": [],
   "source": [
    "final_train = my_imputer.fit_transform(final_train)\n",
    "final_test = my_imputer.fit_transform(final_test)"
   ]
  },
  {
   "cell_type": "code",
   "execution_count": 200,
   "metadata": {},
   "outputs": [
    {
     "data": {
      "text/plain": [
       "20974.262539237254"
      ]
     },
     "execution_count": 200,
     "metadata": {},
     "output_type": "execute_result"
    }
   ],
   "source": [
    "#mae of aligned one-hot encoded aligned left (i.e. to train)\n",
    "get_mae(final_train, target)"
   ]
  },
  {
   "cell_type": "markdown",
   "metadata": {},
   "source": [
    "the align command makes sure the columns show up the same order in both datasets (it uses column names to identify which columns line up in each dataset.) The argument `join = 'left'` specifies that we will do the equivalent of SQL's *left join*. Tat means, if there are ver colunms that show up in one dataset and not the other, we will keep exactly the columns from our training data. The argument `join = 'inner'` would do what SQL databases call an *inner join*, keeping only the columns showing up in both datasets. That's also a sensible choice."
   ]
  },
  {
   "cell_type": "code",
   "execution_count": 201,
   "metadata": {
    "collapsed": true
   },
   "outputs": [],
   "source": [
    "#align categorical levels/columns\n",
    "final_train, final_test = one_hot_encoded_training_predictores.align(one_hot_encoded_test_predictors,\n",
    "                                                                    join = 'inner',\n",
    "                                                                    axis = 1)"
   ]
  },
  {
   "cell_type": "code",
   "execution_count": 202,
   "metadata": {
    "collapsed": true
   },
   "outputs": [],
   "source": [
    "final_train = my_imputer.fit_transform(final_train)\n",
    "final_test = my_imputer.fit_transform(final_test)"
   ]
  },
  {
   "cell_type": "code",
   "execution_count": 203,
   "metadata": {},
   "outputs": [
    {
     "data": {
      "text/plain": [
       "20270.741890381945"
      ]
     },
     "execution_count": 203,
     "metadata": {},
     "output_type": "execute_result"
    }
   ],
   "source": [
    "#mae of aligned one-hot encoded aligned inner (i.e. to intersection of train and test)\n",
    "get_mae(final_train, target)"
   ]
  },
  {
   "cell_type": "markdown",
   "metadata": {},
   "source": [
    "## make submission with encoed categorical data"
   ]
  },
  {
   "cell_type": "code",
   "execution_count": 205,
   "metadata": {},
   "outputs": [],
   "source": [
    "## make submission with untracked imputation and inner alignment of dummy variables\n",
    "# define and fit model to the imputed and inner aligned encoded data\n",
    "forest_model = RandomForestRegressor()\n",
    "\n",
    "# score in-sample prediction\n",
    "forest_model.fit(final_train, train_target)\n",
    "\n",
    "#generate out-sample predictions\n",
    "prds_on_untr_imp_encodedcat_inner_align_test_data = forest_model.predict(final_test)\n",
    "\n",
    "my_submission = pd.DataFrame({'Id': test.Id, 'SalePrice': prds_on_untr_imp_encodedcat_inner_align_test_data})\n",
    "my_submission.to_csv('kaggle_ml_course_prds_on_untr_imp_encodedcat_inner_align_test_data.csv', index = False)"
   ]
  },
  {
   "cell_type": "markdown",
   "metadata": {},
   "source": [
    "## Further Resources for Categorical Data\n",
    "- **Pipelines:** Deploying models into production ready systems is a topic unto itself. While one-hot enconding is still a great approach, your code will need to be built in an especially robust way. Scikit-learn pipelines are a great tool for this. Scikit-learn offers a class for one-hot-encoding and this can be added to a Pipeline. Unfortunately, it doesn't handle text or object values, which is a common use case.\n",
    "- **Applications To Text For Deep Learning:** Keras and TensorFlow have functionality for one-hot encoding, which is useful for working with text.\n",
    "- **Categoricals with Many Values:** Scikit-learn's Feature Hashser uses the hasing trick to store high-dimensional data. This will add some complexity to your modeling code. "
   ]
  },
  {
   "cell_type": "markdown",
   "metadata": {},
   "source": [
    "# What is XGBoost?\n",
    "XGBoost is the leading model for working with standard tabular data. XGBoost models dominate many Kaggle competitions.\n",
    "\n",
    "To reach peak accuracy, XGBoost models require more knowledge and *model tuning* than tecchniques like Random Rofrest. This tutorial will:\n",
    "- Follow the full modeling workflow with XGBoost\n",
    "- Fine-tune XGBoost models for optimal performance\n",
    "XGBoost is an implementation of the **Gradient Boosted Decision Trees** Algorithm (scikit-learn has another version of this algorithm, but XGBoost has some technical advantages.)\n",
    "\n",
    "What are **Gradient Boosted Decision Trees**?\n",
    "![](https://i.imgur.com/e7MIgXk.png)\n",
    "\n",
    "We go through cycles that repeatedly build new models and combine them into an **ensemble** model. We start the cycle by calculating the errors for each observation in the dataset. We then build a new model to predict those. We add predictions from this error-predicting model to the \"ensemble of models.\"\n",
    "\n",
    "To make a prediction, we add the predictions from all previous models. We can use these predictions to calculate new errors, build the next model, and add it to the ensemble.\n",
    "\n",
    "There's one piece outside that cycle. We need some base prediction to start the cycle. In practice, the initial predictions can be pretty naive. Even if it's predictions are wildly inaccurate, subsequent additions to the ensemble will address those errors. \n",
    "\n",
    "This process may sound complicated, but the code to use it is straightfroward. [i.e. obscure and protective of scikit-learn's ip] We'll fill in some additional explanatory details in the **model tuning** section below."
   ]
  },
  {
   "cell_type": "code",
   "execution_count": 252,
   "metadata": {},
   "outputs": [
    {
     "data": {
      "text/plain": [
       "0"
      ]
     },
     "execution_count": 252,
     "metadata": {},
     "output_type": "execute_result"
    }
   ],
   "source": [
    "data = pd.read_csv('data/train.csv')\n",
    "data.SalePrice.isnull().sum()"
   ]
  },
  {
   "cell_type": "code",
   "execution_count": 253,
   "metadata": {
    "collapsed": true
   },
   "outputs": [],
   "source": [
    "data.dropna(axis = 0, subset = ['SalePrice'], inplace = True)\n",
    "#I think this is meant to drop only those rows for which there is no sale price"
   ]
  },
  {
   "cell_type": "code",
   "execution_count": 254,
   "metadata": {},
   "outputs": [
    {
     "data": {
      "text/plain": [
       "1460"
      ]
     },
     "execution_count": 254,
     "metadata": {},
     "output_type": "execute_result"
    }
   ],
   "source": [
    "len(data)"
   ]
  },
  {
   "cell_type": "code",
   "execution_count": 255,
   "metadata": {},
   "outputs": [
    {
     "data": {
      "text/plain": [
       "0"
      ]
     },
     "execution_count": 255,
     "metadata": {},
     "output_type": "execute_result"
    }
   ],
   "source": [
    "y = data.SalePrice\n",
    "y.isnull().sum()"
   ]
  },
  {
   "cell_type": "code",
   "execution_count": 256,
   "metadata": {},
   "outputs": [
    {
     "data": {
      "text/plain": [
       "1460"
      ]
     },
     "execution_count": 256,
     "metadata": {},
     "output_type": "execute_result"
    }
   ],
   "source": [
    "len(y)"
   ]
  },
  {
   "cell_type": "code",
   "execution_count": 257,
   "metadata": {
    "collapsed": true
   },
   "outputs": [],
   "source": [
    "X = data.drop(['SalePrice'], axis = 1).select_dtypes(exclude = ['object'])\n",
    "# it seems we're ignoring categorical data for now\n",
    "train_X, test_X, train_y, test_y = train_test_split(X.as_matrix(), \n",
    "                                                   y.as_matrix(), \n",
    "                                                   test_size = 0.25,\n",
    "                                                   random_state = 42)\n",
    "my_imputer = Imputer()\n",
    "train_X = my_imputer.fit_transform(train_X)\n",
    "test_X = my_imputer.transform(test_X)"
   ]
  },
  {
   "cell_type": "code",
   "execution_count": 258,
   "metadata": {},
   "outputs": [
    {
     "data": {
      "text/plain": [
       "1460"
      ]
     },
     "execution_count": 258,
     "metadata": {},
     "output_type": "execute_result"
    }
   ],
   "source": [
    "len(X)"
   ]
  },
  {
   "cell_type": "code",
   "execution_count": 259,
   "metadata": {},
   "outputs": [],
   "source": [
    "# build the model\n",
    "from xgboost import XGBRegressor"
   ]
  },
  {
   "cell_type": "code",
   "execution_count": 260,
   "metadata": {},
   "outputs": [
    {
     "data": {
      "text/plain": [
       "XGBRegressor(base_score=0.5, booster='gbtree', colsample_bylevel=1,\n",
       "       colsample_bytree=1, gamma=0, learning_rate=0.1, max_delta_step=0,\n",
       "       max_depth=3, min_child_weight=1, missing=None, n_estimators=100,\n",
       "       n_jobs=1, nthread=None, objective='reg:linear', random_state=0,\n",
       "       reg_alpha=0, reg_lambda=1, scale_pos_weight=1, seed=None,\n",
       "       silent=True, subsample=1)"
      ]
     },
     "execution_count": 260,
     "metadata": {},
     "output_type": "execute_result"
    }
   ],
   "source": [
    "my_model = XGBRegressor()\n",
    "# Add silent = True to avoid printing out updates with each cycle\n",
    "my_model.fit(train_X, train_y, verbose = False)"
   ]
  },
  {
   "cell_type": "code",
   "execution_count": 261,
   "metadata": {},
   "outputs": [
    {
     "name": "stdout",
     "output_type": "stream",
     "text": [
      "Mean Absolute Error : 17542.815229\n"
     ]
    }
   ],
   "source": [
    "predictions = my_model.predict(test_X)\n",
    "\n",
    "print(\"Mean Absolute Error : \" + str(mean_absolute_error(predictions, test_y)))"
   ]
  },
  {
   "cell_type": "markdown",
   "metadata": {},
   "source": [
    "## make submission"
   ]
  },
  {
   "cell_type": "code",
   "execution_count": 230,
   "metadata": {},
   "outputs": [],
   "source": [
    "# read in the test and train data \n",
    "# select numeric test and train features\n",
    "train = pd.read_csv('data/train.csv')\n",
    "train.dropna(axis = 0, subset = ['SalePrice'], inplace = True)\n",
    "train_y = train.SalePrice\n",
    "train_X = train.drop(['SalePrice'], axis = 1).select_dtypes(exclude = ['object'])\n",
    "\n",
    "test = pd.read_csv('data/test.csv')\n",
    "test_X = test.select_dtypes(exclude = ['object'])\n",
    "# impute any missing values in both test and train\n",
    "train_X = my_imputer.fit_transform(train_X)\n",
    "test_X = my_imputer.transform(test_X)\n",
    "# fit model to train\n",
    "my_model.fit(train_X, train_y)\n",
    "# predict on test\n",
    "xgb_numeric_preds = my_model.predict(test_X)"
   ]
  },
  {
   "cell_type": "code",
   "execution_count": 231,
   "metadata": {},
   "outputs": [],
   "source": [
    "#submit\n",
    "my_submission = pd.DataFrame({'Id': test.Id, 'SalePrice': xgb_numeric_preds})\n",
    "my_submission.to_csv('xgb_numeric_preds.csv', index = False)"
   ]
  },
  {
   "cell_type": "markdown",
   "metadata": {},
   "source": [
    "# XGB Model Tuning\n",
    "XGBoost has a few parameters that can dramatically affect your model's accuracy and training speed. The first parameters you should understand are:\n",
    "**n_estimators and early_stopping_rounds**\n",
    "- n_estimators specifies how many times to go through the modeling cycle described above. \n",
    "\n",
    "in the underfitting vs overfitting graph, n_estimators moves you further to the right.\n",
    "- Too low value causes underfitting, which is inaccurate predictions on both training data and new data.\n",
    "- Too large a value causes overfitting, \n",
    "    - which is accurate predictions on training data, but inaccurate predictions on new data\n",
    "Typical values range from 100-1000, though this depends a lot on the **learning rate** (discussed below).\n",
    "\n",
    "**early_stopping_rounds** offers a way to automatically find the ideal value. Early stopping causes the model to stop iterating when the validation score stops improving, even if we aren't at the hard stop for **n_estimators**. It's smart to set a high value for **n_estimators** and then use **early_stopping_rounds** to find the optimal time to stop iterating. \n",
    "\n",
    "Since random chance sometimes causes a single round where validation scores don't improve, you need to specify a number for how many rounds of straight deterioration to allow before stopping. **early_stopping_rounds = 5** is a reasonable value. Thus we stop after 5 straight rounds of deteriorating validation scores. \n",
    "\n",
    "Here is the code to fit with early_stopping:"
   ]
  },
  {
   "cell_type": "code",
   "execution_count": 262,
   "metadata": {},
   "outputs": [
    {
     "data": {
      "text/plain": [
       "XGBRegressor(base_score=0.5, booster='gbtree', colsample_bylevel=1,\n",
       "       colsample_bytree=1, gamma=0, learning_rate=0.1, max_delta_step=0,\n",
       "       max_depth=3, min_child_weight=1, missing=None, n_estimators=1000,\n",
       "       n_jobs=1, nthread=None, objective='reg:linear', random_state=0,\n",
       "       reg_alpha=0, reg_lambda=1, scale_pos_weight=1, seed=None,\n",
       "       silent=True, subsample=1)"
      ]
     },
     "execution_count": 262,
     "metadata": {},
     "output_type": "execute_result"
    }
   ],
   "source": [
    "my_model = XGBRegressor(n_estimators = 1000)\n",
    "\n",
    "my_model.fit(train_X, train_y, early_stopping_rounds=5,\n",
    "            eval_set=[(test_X, test_y)], verbose = False)"
   ]
  },
  {
   "cell_type": "code",
   "execution_count": 263,
   "metadata": {},
   "outputs": [
    {
     "name": "stdout",
     "output_type": "stream",
     "text": [
      "Mean Absolute Error : 17776.7281678\n"
     ]
    }
   ],
   "source": [
    "predictions = my_model.predict(test_X)\n",
    "\n",
    "print(\"Mean Absolute Error : \" + str(mean_absolute_error(predictions, test_y)))"
   ]
  },
  {
   "cell_type": "code",
   "execution_count": null,
   "metadata": {
    "collapsed": true
   },
   "outputs": [],
   "source": [
    "# mae of 17,776.73 is slightly worse, could be overfitting"
   ]
  },
  {
   "cell_type": "markdown",
   "metadata": {},
   "source": [
    "when using **early_stopping_rounds**, you need to set aside some of your data for checking the number of rounds to use. If you later want to fit a model with all of your data, set **n_estimtors** to whatever value you found to be optimal when run with early stopping. \n",
    "\n",
    "### learning_rate\n",
    "Here's a subtle but important trick for better XGBoost models:\n",
    "\n",
    "Instead of getting predictions by simply adding up the predictions from each component model, we will multiply the predictions from each model by a small number before adding them in. This means each tree we add to the ensemble helps us less. **In practice, this reduces the model's propensity to overfit.** \n",
    "\n",
    "So, you can use a higher value of **n_estimators** without overfitting. If you use early stopping, the appropriate number of trees will be set automatically. \n",
    "\n",
    "In general, a small learning rate (and a large number of estimators) will yield more accurate XGBoost models, though it will also take the model loner to train since it does more iterations through the cycle. \n",
    "\n",
    "Modifying the example above to include a learning rate would yield the following code:"
   ]
  },
  {
   "cell_type": "code",
   "execution_count": 264,
   "metadata": {},
   "outputs": [
    {
     "name": "stdout",
     "output_type": "stream",
     "text": [
      "[0]\tvalidation_0-rmse:108923\n",
      "Will train until validation_0-rmse hasn't improved in 5 rounds.\n",
      "[1]\tvalidation_0-rmse:66220.3\n",
      "[2]\tvalidation_0-rmse:46770\n",
      "[3]\tvalidation_0-rmse:38591.9\n",
      "[4]\tvalidation_0-rmse:35387.7\n",
      "[5]\tvalidation_0-rmse:34861.7\n",
      "[6]\tvalidation_0-rmse:33999.1\n",
      "[7]\tvalidation_0-rmse:33492.9\n",
      "[8]\tvalidation_0-rmse:32693.9\n",
      "[9]\tvalidation_0-rmse:31953.4\n",
      "[10]\tvalidation_0-rmse:31751.9\n",
      "[11]\tvalidation_0-rmse:31821.6\n",
      "[12]\tvalidation_0-rmse:31770.5\n",
      "[13]\tvalidation_0-rmse:31667.2\n",
      "[14]\tvalidation_0-rmse:31661.6\n",
      "[15]\tvalidation_0-rmse:31664\n",
      "[16]\tvalidation_0-rmse:31469.6\n",
      "[17]\tvalidation_0-rmse:32019\n",
      "[18]\tvalidation_0-rmse:32000.4\n",
      "[19]\tvalidation_0-rmse:32049.6\n",
      "[20]\tvalidation_0-rmse:31807.3\n",
      "[21]\tvalidation_0-rmse:31617.7\n",
      "Stopping. Best iteration:\n",
      "[16]\tvalidation_0-rmse:31469.6\n",
      "\n"
     ]
    },
    {
     "data": {
      "text/plain": [
       "XGBRegressor(base_score=0.5, booster='gbtree', colsample_bylevel=1,\n",
       "       colsample_bytree=1, gamma=0, learning_rate=0.5, max_delta_step=0,\n",
       "       max_depth=3, min_child_weight=1, missing=None, n_estimators=1000,\n",
       "       n_jobs=1, nthread=None, objective='reg:linear', random_state=0,\n",
       "       reg_alpha=0, reg_lambda=1, scale_pos_weight=1, seed=None,\n",
       "       silent=True, subsample=1)"
      ]
     },
     "execution_count": 264,
     "metadata": {},
     "output_type": "execute_result"
    }
   ],
   "source": [
    "my_model = XGBRegressor(n_estimators=1000, learning_rate = 0.5)\n",
    "my_model.fit(train_X, train_y, early_stopping_rounds = 5,\n",
    "            eval_set = [(test_X, test_y)], verbose = True)"
   ]
  },
  {
   "cell_type": "code",
   "execution_count": 265,
   "metadata": {},
   "outputs": [
    {
     "name": "stdout",
     "output_type": "stream",
     "text": [
      "Mean Absolute Error : 20305.7345248\n"
     ]
    }
   ],
   "source": [
    "predictions = my_model.predict(test_X)\n",
    "\n",
    "print(\"Mean Absolute Error : \" + str(mean_absolute_error(predictions, test_y)))"
   ]
  },
  {
   "cell_type": "code",
   "execution_count": null,
   "metadata": {
    "collapsed": true
   },
   "outputs": [],
   "source": [
    "# mae 20,305 is significantly worse, probably overfitting"
   ]
  },
  {
   "cell_type": "markdown",
   "metadata": {},
   "source": [
    "### n_jobs\n",
    "On larger datasets where runtime is a consideration, you can use parallelism to build your models faster. It's common to set the parameter **n_jobs** equal to the number of cores on your machine. On smaller datasets, this won't help.\n",
    "\n",
    "The resulting model won't be any better, so micro-optimizing for fitting time is typically nothing but a distraction. But, if it's useful in large datasets where you would otherwise spend a long time wiating during `fit` command. \n",
    "\n",
    "XGBoost has a multitude of other parameters, but these will go a very long way in helping you fine-tune your XGBoost model for optimal performance. "
   ]
  },
  {
   "cell_type": "markdown",
   "metadata": {},
   "source": [
    "## make a tuned xgboost submission"
   ]
  },
  {
   "cell_type": "code",
   "execution_count": 271,
   "metadata": {
    "scrolled": true
   },
   "outputs": [
    {
     "name": "stdout",
     "output_type": "stream",
     "text": [
      "[0]\tvalidation_0-rmse:106056\n",
      "Will train until validation_0-rmse hasn't improved in 5 rounds.\n",
      "[1]\tvalidation_0-rmse:61705.3\n",
      "[2]\tvalidation_0-rmse:40611.6\n",
      "[3]\tvalidation_0-rmse:31483.2\n",
      "[4]\tvalidation_0-rmse:27199.8\n",
      "[5]\tvalidation_0-rmse:24887.1\n",
      "[6]\tvalidation_0-rmse:23640.6\n",
      "[7]\tvalidation_0-rmse:23006.5\n",
      "[8]\tvalidation_0-rmse:22256.1\n",
      "[9]\tvalidation_0-rmse:21932.3\n",
      "[10]\tvalidation_0-rmse:21605.9\n",
      "[11]\tvalidation_0-rmse:21436.3\n",
      "[12]\tvalidation_0-rmse:21002.5\n",
      "[13]\tvalidation_0-rmse:20215.8\n",
      "[14]\tvalidation_0-rmse:19706.2\n",
      "[15]\tvalidation_0-rmse:19499\n",
      "[16]\tvalidation_0-rmse:19303.9\n",
      "[17]\tvalidation_0-rmse:18880.3\n",
      "[18]\tvalidation_0-rmse:18675.8\n",
      "[19]\tvalidation_0-rmse:18258.2\n",
      "[20]\tvalidation_0-rmse:17905\n",
      "[21]\tvalidation_0-rmse:17693.7\n",
      "[22]\tvalidation_0-rmse:17454.9\n",
      "[23]\tvalidation_0-rmse:17147.8\n",
      "[24]\tvalidation_0-rmse:16918.1\n",
      "[25]\tvalidation_0-rmse:16660.9\n",
      "[26]\tvalidation_0-rmse:16556.8\n",
      "[27]\tvalidation_0-rmse:16297.4\n",
      "[28]\tvalidation_0-rmse:15952.7\n",
      "[29]\tvalidation_0-rmse:15762.9\n",
      "[30]\tvalidation_0-rmse:15505.7\n",
      "[31]\tvalidation_0-rmse:15425.4\n",
      "[32]\tvalidation_0-rmse:15306.1\n",
      "[33]\tvalidation_0-rmse:15180.2\n",
      "[34]\tvalidation_0-rmse:14959.9\n",
      "[35]\tvalidation_0-rmse:14736.6\n",
      "[36]\tvalidation_0-rmse:14557\n",
      "[37]\tvalidation_0-rmse:14490.2\n",
      "[38]\tvalidation_0-rmse:14394.9\n",
      "[39]\tvalidation_0-rmse:14195.7\n",
      "[40]\tvalidation_0-rmse:14065.1\n",
      "[41]\tvalidation_0-rmse:13831.6\n",
      "[42]\tvalidation_0-rmse:13694.3\n",
      "[43]\tvalidation_0-rmse:13561.5\n",
      "[44]\tvalidation_0-rmse:13419.5\n",
      "[45]\tvalidation_0-rmse:13313.9\n",
      "[46]\tvalidation_0-rmse:13125\n",
      "[47]\tvalidation_0-rmse:12984.6\n",
      "[48]\tvalidation_0-rmse:12937\n",
      "[49]\tvalidation_0-rmse:12779.8\n",
      "[50]\tvalidation_0-rmse:12679.5\n",
      "[51]\tvalidation_0-rmse:12554.8\n",
      "[52]\tvalidation_0-rmse:12487\n",
      "[53]\tvalidation_0-rmse:12357.7\n",
      "[54]\tvalidation_0-rmse:12250.8\n",
      "[55]\tvalidation_0-rmse:12189.7\n",
      "[56]\tvalidation_0-rmse:12041.9\n",
      "[57]\tvalidation_0-rmse:11965.8\n",
      "[58]\tvalidation_0-rmse:11868.6\n",
      "[59]\tvalidation_0-rmse:11726.8\n",
      "[60]\tvalidation_0-rmse:11647.1\n",
      "[61]\tvalidation_0-rmse:11565.4\n",
      "[62]\tvalidation_0-rmse:11452.3\n",
      "[63]\tvalidation_0-rmse:11393.8\n",
      "[64]\tvalidation_0-rmse:11363.9\n",
      "[65]\tvalidation_0-rmse:11278.5\n",
      "[66]\tvalidation_0-rmse:11224.3\n",
      "[67]\tvalidation_0-rmse:11117.8\n",
      "[68]\tvalidation_0-rmse:11040.7\n",
      "[69]\tvalidation_0-rmse:10960.1\n",
      "[70]\tvalidation_0-rmse:10890.5\n",
      "[71]\tvalidation_0-rmse:10800.1\n",
      "[72]\tvalidation_0-rmse:10738.1\n",
      "[73]\tvalidation_0-rmse:10670.3\n",
      "[74]\tvalidation_0-rmse:10648\n",
      "[75]\tvalidation_0-rmse:10560.2\n",
      "[76]\tvalidation_0-rmse:10496.3\n",
      "[77]\tvalidation_0-rmse:10404.5\n",
      "[78]\tvalidation_0-rmse:10296.4\n",
      "[79]\tvalidation_0-rmse:10234.7\n",
      "[80]\tvalidation_0-rmse:10132.6\n",
      "[81]\tvalidation_0-rmse:10051.2\n",
      "[82]\tvalidation_0-rmse:9964.09\n",
      "[83]\tvalidation_0-rmse:9916.5\n",
      "[84]\tvalidation_0-rmse:9803.19\n",
      "[85]\tvalidation_0-rmse:9717.48\n",
      "[86]\tvalidation_0-rmse:9681.2\n",
      "[87]\tvalidation_0-rmse:9615.36\n",
      "[88]\tvalidation_0-rmse:9520.56\n",
      "[89]\tvalidation_0-rmse:9389.38\n",
      "[90]\tvalidation_0-rmse:9335.72\n",
      "[91]\tvalidation_0-rmse:9303.21\n",
      "[92]\tvalidation_0-rmse:9249.51\n",
      "[93]\tvalidation_0-rmse:9164.56\n",
      "[94]\tvalidation_0-rmse:9144.89\n",
      "[95]\tvalidation_0-rmse:9121.2\n",
      "[96]\tvalidation_0-rmse:9093.49\n",
      "[97]\tvalidation_0-rmse:9021.16\n",
      "[98]\tvalidation_0-rmse:8994.76\n",
      "[99]\tvalidation_0-rmse:8943.9\n",
      "[100]\tvalidation_0-rmse:8881.58\n",
      "[101]\tvalidation_0-rmse:8804.5\n",
      "[102]\tvalidation_0-rmse:8721.12\n",
      "[103]\tvalidation_0-rmse:8628.19\n",
      "[104]\tvalidation_0-rmse:8575.14\n",
      "[105]\tvalidation_0-rmse:8483.97\n",
      "[106]\tvalidation_0-rmse:8425.18\n",
      "[107]\tvalidation_0-rmse:8400.41\n",
      "[108]\tvalidation_0-rmse:8334.71\n",
      "[109]\tvalidation_0-rmse:8288.82\n",
      "[110]\tvalidation_0-rmse:8254.88\n",
      "[111]\tvalidation_0-rmse:8180.04\n",
      "[112]\tvalidation_0-rmse:8124.06\n",
      "[113]\tvalidation_0-rmse:8085.22\n",
      "[114]\tvalidation_0-rmse:8027\n",
      "[115]\tvalidation_0-rmse:7981.1\n",
      "[116]\tvalidation_0-rmse:7929.91\n",
      "[117]\tvalidation_0-rmse:7913.77\n",
      "[118]\tvalidation_0-rmse:7852.83\n",
      "[119]\tvalidation_0-rmse:7790.46\n",
      "[120]\tvalidation_0-rmse:7764.23\n",
      "[121]\tvalidation_0-rmse:7702.67\n",
      "[122]\tvalidation_0-rmse:7656.84\n",
      "[123]\tvalidation_0-rmse:7602.05\n",
      "[124]\tvalidation_0-rmse:7550.83\n",
      "[125]\tvalidation_0-rmse:7537.66\n",
      "[126]\tvalidation_0-rmse:7449.18\n",
      "[127]\tvalidation_0-rmse:7405.88\n",
      "[128]\tvalidation_0-rmse:7349.47\n",
      "[129]\tvalidation_0-rmse:7331.35\n",
      "[130]\tvalidation_0-rmse:7295.44\n",
      "[131]\tvalidation_0-rmse:7245.47\n",
      "[132]\tvalidation_0-rmse:7119.48\n",
      "[133]\tvalidation_0-rmse:7078.94\n",
      "[134]\tvalidation_0-rmse:7052.51\n",
      "[135]\tvalidation_0-rmse:6988.39\n",
      "[136]\tvalidation_0-rmse:6969.7\n",
      "[137]\tvalidation_0-rmse:6932.55\n",
      "[138]\tvalidation_0-rmse:6888.13\n",
      "[139]\tvalidation_0-rmse:6776.18\n",
      "[140]\tvalidation_0-rmse:6711.76\n",
      "[141]\tvalidation_0-rmse:6652.71\n",
      "[142]\tvalidation_0-rmse:6619.95\n",
      "[143]\tvalidation_0-rmse:6563.78\n",
      "[144]\tvalidation_0-rmse:6507.09\n",
      "[145]\tvalidation_0-rmse:6448.48\n",
      "[146]\tvalidation_0-rmse:6382.37\n",
      "[147]\tvalidation_0-rmse:6326.26\n",
      "[148]\tvalidation_0-rmse:6293.01\n",
      "[149]\tvalidation_0-rmse:6255.73\n",
      "[150]\tvalidation_0-rmse:6210.05\n",
      "[151]\tvalidation_0-rmse:6186.53\n",
      "[152]\tvalidation_0-rmse:6148.26\n",
      "[153]\tvalidation_0-rmse:6114.1\n",
      "[154]\tvalidation_0-rmse:6070.14\n",
      "[155]\tvalidation_0-rmse:6033.99\n",
      "[156]\tvalidation_0-rmse:5989.82\n",
      "[157]\tvalidation_0-rmse:5943.88\n",
      "[158]\tvalidation_0-rmse:5925.52\n",
      "[159]\tvalidation_0-rmse:5888.06\n",
      "[160]\tvalidation_0-rmse:5834.44\n",
      "[161]\tvalidation_0-rmse:5816.33\n",
      "[162]\tvalidation_0-rmse:5806.45\n",
      "[163]\tvalidation_0-rmse:5786.17\n",
      "[164]\tvalidation_0-rmse:5769.4\n",
      "[165]\tvalidation_0-rmse:5723.89\n",
      "[166]\tvalidation_0-rmse:5681.43\n",
      "[167]\tvalidation_0-rmse:5656.81\n",
      "[168]\tvalidation_0-rmse:5628.64\n",
      "[169]\tvalidation_0-rmse:5579.39\n",
      "[170]\tvalidation_0-rmse:5571.11\n",
      "[171]\tvalidation_0-rmse:5538.85\n",
      "[172]\tvalidation_0-rmse:5498.34\n",
      "[173]\tvalidation_0-rmse:5469.07\n",
      "[174]\tvalidation_0-rmse:5423.29\n",
      "[175]\tvalidation_0-rmse:5390.3\n",
      "[176]\tvalidation_0-rmse:5346.23\n",
      "[177]\tvalidation_0-rmse:5315.19\n",
      "[178]\tvalidation_0-rmse:5258.74\n",
      "[179]\tvalidation_0-rmse:5220.73\n",
      "[180]\tvalidation_0-rmse:5191.17\n",
      "[181]\tvalidation_0-rmse:5182.98\n",
      "[182]\tvalidation_0-rmse:5151.73\n",
      "[183]\tvalidation_0-rmse:5092.41\n",
      "[184]\tvalidation_0-rmse:5061.82\n",
      "[185]\tvalidation_0-rmse:5014.94\n",
      "[186]\tvalidation_0-rmse:4984.84\n",
      "[187]\tvalidation_0-rmse:4942.14\n",
      "[188]\tvalidation_0-rmse:4899.11\n",
      "[189]\tvalidation_0-rmse:4868.58\n",
      "[190]\tvalidation_0-rmse:4847.87\n",
      "[191]\tvalidation_0-rmse:4841.78\n",
      "[192]\tvalidation_0-rmse:4815.81\n",
      "[193]\tvalidation_0-rmse:4792.29\n",
      "[194]\tvalidation_0-rmse:4758.56\n",
      "[195]\tvalidation_0-rmse:4734.05\n",
      "[196]\tvalidation_0-rmse:4699.84\n",
      "[197]\tvalidation_0-rmse:4669.4\n",
      "[198]\tvalidation_0-rmse:4665.35\n",
      "[199]\tvalidation_0-rmse:4639.2\n",
      "[200]\tvalidation_0-rmse:4607.98\n",
      "[201]\tvalidation_0-rmse:4568.75\n",
      "[202]\tvalidation_0-rmse:4552.34\n",
      "[203]\tvalidation_0-rmse:4519.95\n",
      "[204]\tvalidation_0-rmse:4478.58\n",
      "[205]\tvalidation_0-rmse:4449.78\n",
      "[206]\tvalidation_0-rmse:4416.92\n",
      "[207]\tvalidation_0-rmse:4405.82\n",
      "[208]\tvalidation_0-rmse:4376.18\n",
      "[209]\tvalidation_0-rmse:4350.56\n",
      "[210]\tvalidation_0-rmse:4325.27\n",
      "[211]\tvalidation_0-rmse:4307.33\n",
      "[212]\tvalidation_0-rmse:4296.47\n",
      "[213]\tvalidation_0-rmse:4273.45\n",
      "[214]\tvalidation_0-rmse:4258.1\n",
      "[215]\tvalidation_0-rmse:4249.19\n",
      "[216]\tvalidation_0-rmse:4234.6\n",
      "[217]\tvalidation_0-rmse:4220.74\n",
      "[218]\tvalidation_0-rmse:4208.95\n",
      "[219]\tvalidation_0-rmse:4184.72\n",
      "[220]\tvalidation_0-rmse:4172.44\n",
      "[221]\tvalidation_0-rmse:4144.66\n",
      "[222]\tvalidation_0-rmse:4132.89\n",
      "[223]\tvalidation_0-rmse:4117.76\n",
      "[224]\tvalidation_0-rmse:4093.02\n",
      "[225]\tvalidation_0-rmse:4079.48\n",
      "[226]\tvalidation_0-rmse:4049.24\n",
      "[227]\tvalidation_0-rmse:4039.21\n",
      "[228]\tvalidation_0-rmse:4000.51\n",
      "[229]\tvalidation_0-rmse:3991.97\n",
      "[230]\tvalidation_0-rmse:3957.92\n",
      "[231]\tvalidation_0-rmse:3922.22\n",
      "[232]\tvalidation_0-rmse:3888.93\n",
      "[233]\tvalidation_0-rmse:3860.16\n",
      "[234]\tvalidation_0-rmse:3847.43\n",
      "[235]\tvalidation_0-rmse:3817.04\n",
      "[236]\tvalidation_0-rmse:3797.65\n",
      "[237]\tvalidation_0-rmse:3770.39\n",
      "[238]\tvalidation_0-rmse:3744.63\n",
      "[239]\tvalidation_0-rmse:3716.87\n",
      "[240]\tvalidation_0-rmse:3692.22\n",
      "[241]\tvalidation_0-rmse:3679.1\n",
      "[242]\tvalidation_0-rmse:3653.83\n",
      "[243]\tvalidation_0-rmse:3628.56\n",
      "[244]\tvalidation_0-rmse:3606.23\n",
      "[245]\tvalidation_0-rmse:3580.43\n",
      "[246]\tvalidation_0-rmse:3561.94\n",
      "[247]\tvalidation_0-rmse:3547.55\n",
      "[248]\tvalidation_0-rmse:3540.86\n",
      "[249]\tvalidation_0-rmse:3529.51\n",
      "[250]\tvalidation_0-rmse:3513.62\n",
      "[251]\tvalidation_0-rmse:3491.82\n",
      "[252]\tvalidation_0-rmse:3469.77\n",
      "[253]\tvalidation_0-rmse:3450.18\n",
      "[254]\tvalidation_0-rmse:3442.43\n",
      "[255]\tvalidation_0-rmse:3425.8\n",
      "[256]\tvalidation_0-rmse:3401.46\n",
      "[257]\tvalidation_0-rmse:3381.11\n",
      "[258]\tvalidation_0-rmse:3366.16\n"
     ]
    },
    {
     "name": "stdout",
     "output_type": "stream",
     "text": [
      "[259]\tvalidation_0-rmse:3354.07\n",
      "[260]\tvalidation_0-rmse:3339.75\n",
      "[261]\tvalidation_0-rmse:3321.65\n",
      "[262]\tvalidation_0-rmse:3300.42\n",
      "[263]\tvalidation_0-rmse:3274.4\n",
      "[264]\tvalidation_0-rmse:3248.24\n",
      "[265]\tvalidation_0-rmse:3230.01\n",
      "[266]\tvalidation_0-rmse:3211.15\n",
      "[267]\tvalidation_0-rmse:3200.92\n",
      "[268]\tvalidation_0-rmse:3176.99\n",
      "[269]\tvalidation_0-rmse:3150.37\n",
      "[270]\tvalidation_0-rmse:3129.04\n",
      "[271]\tvalidation_0-rmse:3113.24\n",
      "[272]\tvalidation_0-rmse:3090.42\n",
      "[273]\tvalidation_0-rmse:3075.46\n",
      "[274]\tvalidation_0-rmse:3055.07\n",
      "[275]\tvalidation_0-rmse:3045.78\n",
      "[276]\tvalidation_0-rmse:3031.88\n",
      "[277]\tvalidation_0-rmse:3011.36\n",
      "[278]\tvalidation_0-rmse:2987.01\n",
      "[279]\tvalidation_0-rmse:2968.68\n",
      "[280]\tvalidation_0-rmse:2951.28\n",
      "[281]\tvalidation_0-rmse:2935.6\n",
      "[282]\tvalidation_0-rmse:2916.82\n",
      "[283]\tvalidation_0-rmse:2894.18\n",
      "[284]\tvalidation_0-rmse:2874.52\n",
      "[285]\tvalidation_0-rmse:2858.89\n",
      "[286]\tvalidation_0-rmse:2850.15\n",
      "[287]\tvalidation_0-rmse:2830.06\n",
      "[288]\tvalidation_0-rmse:2824.53\n",
      "[289]\tvalidation_0-rmse:2812.38\n",
      "[290]\tvalidation_0-rmse:2794.15\n",
      "[291]\tvalidation_0-rmse:2777.61\n",
      "[292]\tvalidation_0-rmse:2760.43\n",
      "[293]\tvalidation_0-rmse:2746.63\n",
      "[294]\tvalidation_0-rmse:2732.8\n",
      "[295]\tvalidation_0-rmse:2724.89\n",
      "[296]\tvalidation_0-rmse:2720.56\n",
      "[297]\tvalidation_0-rmse:2711.08\n",
      "[298]\tvalidation_0-rmse:2693.3\n",
      "[299]\tvalidation_0-rmse:2670.9\n",
      "[300]\tvalidation_0-rmse:2657.31\n",
      "[301]\tvalidation_0-rmse:2645.04\n",
      "[302]\tvalidation_0-rmse:2639.68\n",
      "[303]\tvalidation_0-rmse:2622.92\n",
      "[304]\tvalidation_0-rmse:2606.94\n",
      "[305]\tvalidation_0-rmse:2604.27\n",
      "[306]\tvalidation_0-rmse:2599.57\n",
      "[307]\tvalidation_0-rmse:2584.45\n",
      "[308]\tvalidation_0-rmse:2570.17\n",
      "[309]\tvalidation_0-rmse:2562.08\n",
      "[310]\tvalidation_0-rmse:2556.73\n",
      "[311]\tvalidation_0-rmse:2554.16\n",
      "[312]\tvalidation_0-rmse:2546.35\n",
      "[313]\tvalidation_0-rmse:2535.56\n",
      "[314]\tvalidation_0-rmse:2520.26\n",
      "[315]\tvalidation_0-rmse:2506.22\n",
      "[316]\tvalidation_0-rmse:2494.96\n",
      "[317]\tvalidation_0-rmse:2475.84\n",
      "[318]\tvalidation_0-rmse:2452.27\n",
      "[319]\tvalidation_0-rmse:2443.35\n",
      "[320]\tvalidation_0-rmse:2421.39\n",
      "[321]\tvalidation_0-rmse:2401.41\n",
      "[322]\tvalidation_0-rmse:2398.7\n",
      "[323]\tvalidation_0-rmse:2383.41\n",
      "[324]\tvalidation_0-rmse:2375.59\n",
      "[325]\tvalidation_0-rmse:2367.33\n",
      "[326]\tvalidation_0-rmse:2359.84\n",
      "[327]\tvalidation_0-rmse:2348.48\n",
      "[328]\tvalidation_0-rmse:2338.09\n",
      "[329]\tvalidation_0-rmse:2323.86\n",
      "[330]\tvalidation_0-rmse:2315.84\n",
      "[331]\tvalidation_0-rmse:2308.12\n",
      "[332]\tvalidation_0-rmse:2291.39\n",
      "[333]\tvalidation_0-rmse:2277.06\n",
      "[334]\tvalidation_0-rmse:2268.58\n",
      "[335]\tvalidation_0-rmse:2247.71\n",
      "[336]\tvalidation_0-rmse:2240.31\n",
      "[337]\tvalidation_0-rmse:2226.55\n",
      "[338]\tvalidation_0-rmse:2210.59\n",
      "[339]\tvalidation_0-rmse:2192.29\n",
      "[340]\tvalidation_0-rmse:2179.31\n",
      "[341]\tvalidation_0-rmse:2169.51\n",
      "[342]\tvalidation_0-rmse:2159.08\n",
      "[343]\tvalidation_0-rmse:2148.15\n",
      "[344]\tvalidation_0-rmse:2137.99\n",
      "[345]\tvalidation_0-rmse:2116.43\n",
      "[346]\tvalidation_0-rmse:2112.26\n",
      "[347]\tvalidation_0-rmse:2106.42\n",
      "[348]\tvalidation_0-rmse:2089.57\n",
      "[349]\tvalidation_0-rmse:2074.02\n",
      "[350]\tvalidation_0-rmse:2067.46\n",
      "[351]\tvalidation_0-rmse:2064.24\n",
      "[352]\tvalidation_0-rmse:2049.01\n",
      "[353]\tvalidation_0-rmse:2038.6\n",
      "[354]\tvalidation_0-rmse:2029.91\n",
      "[355]\tvalidation_0-rmse:2020.72\n",
      "[356]\tvalidation_0-rmse:2015.58\n",
      "[357]\tvalidation_0-rmse:2010.38\n",
      "[358]\tvalidation_0-rmse:1999.01\n",
      "[359]\tvalidation_0-rmse:1985.17\n",
      "[360]\tvalidation_0-rmse:1983.42\n",
      "[361]\tvalidation_0-rmse:1971.8\n",
      "[362]\tvalidation_0-rmse:1957.2\n",
      "[363]\tvalidation_0-rmse:1954.56\n",
      "[364]\tvalidation_0-rmse:1950.87\n",
      "[365]\tvalidation_0-rmse:1943.12\n",
      "[366]\tvalidation_0-rmse:1930\n",
      "[367]\tvalidation_0-rmse:1919.25\n",
      "[368]\tvalidation_0-rmse:1906\n",
      "[369]\tvalidation_0-rmse:1901.88\n",
      "[370]\tvalidation_0-rmse:1890.06\n",
      "[371]\tvalidation_0-rmse:1876.1\n",
      "[372]\tvalidation_0-rmse:1866.45\n",
      "[373]\tvalidation_0-rmse:1855.28\n",
      "[374]\tvalidation_0-rmse:1852.65\n",
      "[375]\tvalidation_0-rmse:1847.96\n",
      "[376]\tvalidation_0-rmse:1837.3\n",
      "[377]\tvalidation_0-rmse:1823.87\n",
      "[378]\tvalidation_0-rmse:1813.33\n",
      "[379]\tvalidation_0-rmse:1810.13\n",
      "[380]\tvalidation_0-rmse:1793.9\n",
      "[381]\tvalidation_0-rmse:1778\n",
      "[382]\tvalidation_0-rmse:1760.92\n",
      "[383]\tvalidation_0-rmse:1752.43\n",
      "[384]\tvalidation_0-rmse:1747.99\n",
      "[385]\tvalidation_0-rmse:1735.67\n",
      "[386]\tvalidation_0-rmse:1726.51\n",
      "[387]\tvalidation_0-rmse:1717.35\n",
      "[388]\tvalidation_0-rmse:1706.84\n",
      "[389]\tvalidation_0-rmse:1692.01\n",
      "[390]\tvalidation_0-rmse:1676.13\n",
      "[391]\tvalidation_0-rmse:1665.75\n",
      "[392]\tvalidation_0-rmse:1656.49\n",
      "[393]\tvalidation_0-rmse:1648.22\n",
      "[394]\tvalidation_0-rmse:1639.25\n",
      "[395]\tvalidation_0-rmse:1634.35\n",
      "[396]\tvalidation_0-rmse:1625.29\n",
      "[397]\tvalidation_0-rmse:1617.37\n",
      "[398]\tvalidation_0-rmse:1608.29\n",
      "[399]\tvalidation_0-rmse:1597.96\n",
      "[400]\tvalidation_0-rmse:1587.01\n",
      "[401]\tvalidation_0-rmse:1569.04\n",
      "[402]\tvalidation_0-rmse:1561.72\n",
      "[403]\tvalidation_0-rmse:1553.28\n",
      "[404]\tvalidation_0-rmse:1542.8\n",
      "[405]\tvalidation_0-rmse:1538.6\n",
      "[406]\tvalidation_0-rmse:1528.19\n",
      "[407]\tvalidation_0-rmse:1518.52\n",
      "[408]\tvalidation_0-rmse:1515.73\n",
      "[409]\tvalidation_0-rmse:1508.01\n",
      "[410]\tvalidation_0-rmse:1498.12\n",
      "[411]\tvalidation_0-rmse:1488.68\n",
      "[412]\tvalidation_0-rmse:1478.64\n",
      "[413]\tvalidation_0-rmse:1477.5\n",
      "[414]\tvalidation_0-rmse:1471.59\n",
      "[415]\tvalidation_0-rmse:1470.34\n",
      "[416]\tvalidation_0-rmse:1465.66\n",
      "[417]\tvalidation_0-rmse:1459.61\n",
      "[418]\tvalidation_0-rmse:1453.87\n",
      "[419]\tvalidation_0-rmse:1451.27\n",
      "[420]\tvalidation_0-rmse:1445.84\n",
      "[421]\tvalidation_0-rmse:1435.59\n",
      "[422]\tvalidation_0-rmse:1429.11\n",
      "[423]\tvalidation_0-rmse:1426.85\n",
      "[424]\tvalidation_0-rmse:1423.32\n",
      "[425]\tvalidation_0-rmse:1418.86\n",
      "[426]\tvalidation_0-rmse:1413.34\n",
      "[427]\tvalidation_0-rmse:1403.36\n",
      "[428]\tvalidation_0-rmse:1392.48\n",
      "[429]\tvalidation_0-rmse:1382.7\n",
      "[430]\tvalidation_0-rmse:1376.32\n",
      "[431]\tvalidation_0-rmse:1367.67\n",
      "[432]\tvalidation_0-rmse:1361.14\n",
      "[433]\tvalidation_0-rmse:1354.59\n",
      "[434]\tvalidation_0-rmse:1351.51\n",
      "[435]\tvalidation_0-rmse:1344.85\n",
      "[436]\tvalidation_0-rmse:1338.2\n",
      "[437]\tvalidation_0-rmse:1333.36\n",
      "[438]\tvalidation_0-rmse:1323.82\n",
      "[439]\tvalidation_0-rmse:1321\n",
      "[440]\tvalidation_0-rmse:1313.75\n",
      "[441]\tvalidation_0-rmse:1311.24\n",
      "[442]\tvalidation_0-rmse:1306.78\n",
      "[443]\tvalidation_0-rmse:1297.01\n",
      "[444]\tvalidation_0-rmse:1294.63\n",
      "[445]\tvalidation_0-rmse:1289.75\n",
      "[446]\tvalidation_0-rmse:1280.5\n",
      "[447]\tvalidation_0-rmse:1273.5\n",
      "[448]\tvalidation_0-rmse:1269.14\n",
      "[449]\tvalidation_0-rmse:1259.16\n",
      "[450]\tvalidation_0-rmse:1250.26\n",
      "[451]\tvalidation_0-rmse:1243.7\n",
      "[452]\tvalidation_0-rmse:1241.63\n",
      "[453]\tvalidation_0-rmse:1231.5\n",
      "[454]\tvalidation_0-rmse:1224.88\n",
      "[455]\tvalidation_0-rmse:1219.76\n",
      "[456]\tvalidation_0-rmse:1211.56\n",
      "[457]\tvalidation_0-rmse:1204.8\n",
      "[458]\tvalidation_0-rmse:1193.29\n",
      "[459]\tvalidation_0-rmse:1190.75\n",
      "[460]\tvalidation_0-rmse:1189.22\n",
      "[461]\tvalidation_0-rmse:1181.54\n",
      "[462]\tvalidation_0-rmse:1174.48\n",
      "[463]\tvalidation_0-rmse:1170.15\n",
      "[464]\tvalidation_0-rmse:1161.34\n",
      "[465]\tvalidation_0-rmse:1159.88\n",
      "[466]\tvalidation_0-rmse:1154.62\n",
      "[467]\tvalidation_0-rmse:1143.35\n",
      "[468]\tvalidation_0-rmse:1135.63\n",
      "[469]\tvalidation_0-rmse:1131.42\n",
      "[470]\tvalidation_0-rmse:1126.64\n",
      "[471]\tvalidation_0-rmse:1121.51\n",
      "[472]\tvalidation_0-rmse:1117.69\n",
      "[473]\tvalidation_0-rmse:1116.15\n",
      "[474]\tvalidation_0-rmse:1113.1\n",
      "[475]\tvalidation_0-rmse:1109.92\n",
      "[476]\tvalidation_0-rmse:1104.31\n",
      "[477]\tvalidation_0-rmse:1100.34\n",
      "[478]\tvalidation_0-rmse:1094.03\n",
      "[479]\tvalidation_0-rmse:1083.07\n",
      "[480]\tvalidation_0-rmse:1076.49\n",
      "[481]\tvalidation_0-rmse:1075.8\n",
      "[482]\tvalidation_0-rmse:1070.92\n",
      "[483]\tvalidation_0-rmse:1064.94\n",
      "[484]\tvalidation_0-rmse:1059.46\n",
      "[485]\tvalidation_0-rmse:1050.07\n",
      "[486]\tvalidation_0-rmse:1043.37\n",
      "[487]\tvalidation_0-rmse:1035.95\n",
      "[488]\tvalidation_0-rmse:1030.77\n",
      "[489]\tvalidation_0-rmse:1023.78\n",
      "[490]\tvalidation_0-rmse:1016.71\n",
      "[491]\tvalidation_0-rmse:1011.53\n",
      "[492]\tvalidation_0-rmse:1007.75\n",
      "[493]\tvalidation_0-rmse:1002.26\n",
      "[494]\tvalidation_0-rmse:993.615\n",
      "[495]\tvalidation_0-rmse:989.654\n",
      "[496]\tvalidation_0-rmse:985.413\n",
      "[497]\tvalidation_0-rmse:980.61\n",
      "[498]\tvalidation_0-rmse:973.175\n",
      "[499]\tvalidation_0-rmse:968.267\n",
      "[500]\tvalidation_0-rmse:965.988\n",
      "[501]\tvalidation_0-rmse:964.122\n",
      "[502]\tvalidation_0-rmse:959.951\n",
      "[503]\tvalidation_0-rmse:954.064\n",
      "[504]\tvalidation_0-rmse:947.008\n",
      "[505]\tvalidation_0-rmse:941.081\n",
      "[506]\tvalidation_0-rmse:935.562\n",
      "[507]\tvalidation_0-rmse:929.075\n",
      "[508]\tvalidation_0-rmse:926.082\n",
      "[509]\tvalidation_0-rmse:924.909\n",
      "[510]\tvalidation_0-rmse:923.25\n",
      "[511]\tvalidation_0-rmse:921.727\n",
      "[512]\tvalidation_0-rmse:919.791\n",
      "[513]\tvalidation_0-rmse:914.821\n",
      "[514]\tvalidation_0-rmse:909.973\n",
      "[515]\tvalidation_0-rmse:904.987\n",
      "[516]\tvalidation_0-rmse:900.385\n"
     ]
    },
    {
     "name": "stdout",
     "output_type": "stream",
     "text": [
      "[517]\tvalidation_0-rmse:891.41\n",
      "[518]\tvalidation_0-rmse:888.045\n",
      "[519]\tvalidation_0-rmse:883.038\n",
      "[520]\tvalidation_0-rmse:880.461\n",
      "[521]\tvalidation_0-rmse:877.881\n",
      "[522]\tvalidation_0-rmse:871.532\n",
      "[523]\tvalidation_0-rmse:868.307\n",
      "[524]\tvalidation_0-rmse:864.513\n",
      "[525]\tvalidation_0-rmse:860.44\n",
      "[526]\tvalidation_0-rmse:859.579\n",
      "[527]\tvalidation_0-rmse:856.686\n",
      "[528]\tvalidation_0-rmse:855.82\n",
      "[529]\tvalidation_0-rmse:851.086\n",
      "[530]\tvalidation_0-rmse:847.024\n",
      "[531]\tvalidation_0-rmse:842.966\n",
      "[532]\tvalidation_0-rmse:838.233\n",
      "[533]\tvalidation_0-rmse:834.874\n",
      "[534]\tvalidation_0-rmse:831.714\n",
      "[535]\tvalidation_0-rmse:827.771\n",
      "[536]\tvalidation_0-rmse:821.279\n",
      "[537]\tvalidation_0-rmse:815.817\n",
      "[538]\tvalidation_0-rmse:814.344\n",
      "[539]\tvalidation_0-rmse:810.477\n",
      "[540]\tvalidation_0-rmse:805.444\n",
      "[541]\tvalidation_0-rmse:803.644\n",
      "[542]\tvalidation_0-rmse:800.255\n",
      "[543]\tvalidation_0-rmse:795.265\n",
      "[544]\tvalidation_0-rmse:789.427\n",
      "[545]\tvalidation_0-rmse:781.949\n",
      "[546]\tvalidation_0-rmse:776.598\n",
      "[547]\tvalidation_0-rmse:774.597\n",
      "[548]\tvalidation_0-rmse:770.604\n",
      "[549]\tvalidation_0-rmse:768.692\n",
      "[550]\tvalidation_0-rmse:763.15\n",
      "[551]\tvalidation_0-rmse:760.336\n",
      "[552]\tvalidation_0-rmse:755.335\n",
      "[553]\tvalidation_0-rmse:752.744\n",
      "[554]\tvalidation_0-rmse:749.955\n",
      "[555]\tvalidation_0-rmse:747.05\n",
      "[556]\tvalidation_0-rmse:743.596\n",
      "[557]\tvalidation_0-rmse:742.615\n",
      "[558]\tvalidation_0-rmse:737.71\n",
      "[559]\tvalidation_0-rmse:737.084\n",
      "[560]\tvalidation_0-rmse:735.228\n",
      "[561]\tvalidation_0-rmse:733.342\n",
      "[562]\tvalidation_0-rmse:730.319\n",
      "[563]\tvalidation_0-rmse:727.96\n",
      "[564]\tvalidation_0-rmse:726.983\n",
      "[565]\tvalidation_0-rmse:724.398\n",
      "[566]\tvalidation_0-rmse:719.174\n",
      "[567]\tvalidation_0-rmse:714.056\n",
      "[568]\tvalidation_0-rmse:708.003\n",
      "[569]\tvalidation_0-rmse:703.817\n",
      "[570]\tvalidation_0-rmse:701.611\n",
      "[571]\tvalidation_0-rmse:700.376\n",
      "[572]\tvalidation_0-rmse:697.945\n",
      "[573]\tvalidation_0-rmse:695.466\n",
      "[574]\tvalidation_0-rmse:693.974\n",
      "[575]\tvalidation_0-rmse:690.013\n",
      "[576]\tvalidation_0-rmse:685.843\n",
      "[577]\tvalidation_0-rmse:681.318\n",
      "[578]\tvalidation_0-rmse:677.36\n",
      "[579]\tvalidation_0-rmse:675.84\n",
      "[580]\tvalidation_0-rmse:675.133\n",
      "[581]\tvalidation_0-rmse:674.299\n",
      "[582]\tvalidation_0-rmse:673.43\n",
      "[583]\tvalidation_0-rmse:668.057\n",
      "[584]\tvalidation_0-rmse:662.996\n",
      "[585]\tvalidation_0-rmse:660.013\n",
      "[586]\tvalidation_0-rmse:656.773\n",
      "[587]\tvalidation_0-rmse:652.421\n",
      "[588]\tvalidation_0-rmse:648.281\n",
      "[589]\tvalidation_0-rmse:644.212\n",
      "[590]\tvalidation_0-rmse:639.656\n",
      "[591]\tvalidation_0-rmse:637.029\n",
      "[592]\tvalidation_0-rmse:632.438\n",
      "[593]\tvalidation_0-rmse:630.431\n",
      "[594]\tvalidation_0-rmse:628.278\n",
      "[595]\tvalidation_0-rmse:623.557\n",
      "[596]\tvalidation_0-rmse:621.438\n",
      "[597]\tvalidation_0-rmse:619.331\n",
      "[598]\tvalidation_0-rmse:616.633\n",
      "[599]\tvalidation_0-rmse:614.321\n",
      "[600]\tvalidation_0-rmse:610.113\n",
      "[601]\tvalidation_0-rmse:609.109\n",
      "[602]\tvalidation_0-rmse:606.021\n",
      "[603]\tvalidation_0-rmse:598.935\n",
      "[604]\tvalidation_0-rmse:595.035\n",
      "[605]\tvalidation_0-rmse:590.633\n",
      "[606]\tvalidation_0-rmse:587.469\n",
      "[607]\tvalidation_0-rmse:585.005\n",
      "[608]\tvalidation_0-rmse:582.243\n",
      "[609]\tvalidation_0-rmse:580.995\n",
      "[610]\tvalidation_0-rmse:576.483\n",
      "[611]\tvalidation_0-rmse:575.039\n",
      "[612]\tvalidation_0-rmse:572.058\n",
      "[613]\tvalidation_0-rmse:568.32\n",
      "[614]\tvalidation_0-rmse:565.919\n",
      "[615]\tvalidation_0-rmse:564.825\n",
      "[616]\tvalidation_0-rmse:564.003\n",
      "[617]\tvalidation_0-rmse:561.753\n",
      "[618]\tvalidation_0-rmse:556.289\n",
      "[619]\tvalidation_0-rmse:554.297\n",
      "[620]\tvalidation_0-rmse:550.588\n",
      "[621]\tvalidation_0-rmse:547.213\n",
      "[622]\tvalidation_0-rmse:544.21\n",
      "[623]\tvalidation_0-rmse:541.691\n",
      "[624]\tvalidation_0-rmse:539.409\n",
      "[625]\tvalidation_0-rmse:536.477\n",
      "[626]\tvalidation_0-rmse:532.696\n",
      "[627]\tvalidation_0-rmse:530.137\n",
      "[628]\tvalidation_0-rmse:528.58\n",
      "[629]\tvalidation_0-rmse:525.335\n",
      "[630]\tvalidation_0-rmse:521.427\n",
      "[631]\tvalidation_0-rmse:518.014\n",
      "[632]\tvalidation_0-rmse:516.223\n",
      "[633]\tvalidation_0-rmse:512.747\n",
      "[634]\tvalidation_0-rmse:509.434\n",
      "[635]\tvalidation_0-rmse:508.694\n",
      "[636]\tvalidation_0-rmse:506.167\n",
      "[637]\tvalidation_0-rmse:504.975\n",
      "[638]\tvalidation_0-rmse:501.416\n",
      "[639]\tvalidation_0-rmse:499.58\n",
      "[640]\tvalidation_0-rmse:499.346\n",
      "[641]\tvalidation_0-rmse:496.369\n",
      "[642]\tvalidation_0-rmse:495.372\n",
      "[643]\tvalidation_0-rmse:492.482\n",
      "[644]\tvalidation_0-rmse:490.495\n",
      "[645]\tvalidation_0-rmse:486.993\n",
      "[646]\tvalidation_0-rmse:484.334\n",
      "[647]\tvalidation_0-rmse:481.697\n",
      "[648]\tvalidation_0-rmse:479.937\n",
      "[649]\tvalidation_0-rmse:479.518\n",
      "[650]\tvalidation_0-rmse:477.035\n",
      "[651]\tvalidation_0-rmse:476.634\n",
      "[652]\tvalidation_0-rmse:474.947\n",
      "[653]\tvalidation_0-rmse:472.779\n",
      "[654]\tvalidation_0-rmse:470.492\n",
      "[655]\tvalidation_0-rmse:468.195\n",
      "[656]\tvalidation_0-rmse:466.621\n",
      "[657]\tvalidation_0-rmse:465.945\n",
      "[658]\tvalidation_0-rmse:462.13\n",
      "[659]\tvalidation_0-rmse:459.63\n",
      "[660]\tvalidation_0-rmse:457.008\n",
      "[661]\tvalidation_0-rmse:453.587\n",
      "[662]\tvalidation_0-rmse:451.95\n",
      "[663]\tvalidation_0-rmse:451\n",
      "[664]\tvalidation_0-rmse:448.572\n",
      "[665]\tvalidation_0-rmse:447.722\n",
      "[666]\tvalidation_0-rmse:446.936\n",
      "[667]\tvalidation_0-rmse:446.56\n",
      "[668]\tvalidation_0-rmse:443.721\n",
      "[669]\tvalidation_0-rmse:441.729\n",
      "[670]\tvalidation_0-rmse:439.774\n",
      "[671]\tvalidation_0-rmse:437.276\n",
      "[672]\tvalidation_0-rmse:434.069\n",
      "[673]\tvalidation_0-rmse:431.536\n",
      "[674]\tvalidation_0-rmse:429.993\n",
      "[675]\tvalidation_0-rmse:428.785\n",
      "[676]\tvalidation_0-rmse:426.893\n",
      "[677]\tvalidation_0-rmse:424.942\n",
      "[678]\tvalidation_0-rmse:423.867\n",
      "[679]\tvalidation_0-rmse:423.33\n",
      "[680]\tvalidation_0-rmse:421.156\n",
      "[681]\tvalidation_0-rmse:418.642\n",
      "[682]\tvalidation_0-rmse:416.751\n",
      "[683]\tvalidation_0-rmse:415.152\n",
      "[684]\tvalidation_0-rmse:413.784\n",
      "[685]\tvalidation_0-rmse:413.244\n",
      "[686]\tvalidation_0-rmse:411.869\n",
      "[687]\tvalidation_0-rmse:410.565\n",
      "[688]\tvalidation_0-rmse:409.377\n",
      "[689]\tvalidation_0-rmse:407.43\n",
      "[690]\tvalidation_0-rmse:405.484\n",
      "[691]\tvalidation_0-rmse:402.637\n",
      "[692]\tvalidation_0-rmse:399.888\n",
      "[693]\tvalidation_0-rmse:397.656\n",
      "[694]\tvalidation_0-rmse:396.152\n",
      "[695]\tvalidation_0-rmse:393.718\n",
      "[696]\tvalidation_0-rmse:393.226\n",
      "[697]\tvalidation_0-rmse:392.272\n",
      "[698]\tvalidation_0-rmse:390.322\n",
      "[699]\tvalidation_0-rmse:388.337\n",
      "[700]\tvalidation_0-rmse:386.127\n",
      "[701]\tvalidation_0-rmse:383.989\n",
      "[702]\tvalidation_0-rmse:383.128\n",
      "[703]\tvalidation_0-rmse:381.364\n",
      "[704]\tvalidation_0-rmse:380.43\n",
      "[705]\tvalidation_0-rmse:378.958\n",
      "[706]\tvalidation_0-rmse:377.448\n",
      "[707]\tvalidation_0-rmse:376.314\n",
      "[708]\tvalidation_0-rmse:375.177\n",
      "[709]\tvalidation_0-rmse:372.154\n",
      "[710]\tvalidation_0-rmse:370.83\n",
      "[711]\tvalidation_0-rmse:367.516\n",
      "[712]\tvalidation_0-rmse:365.784\n",
      "[713]\tvalidation_0-rmse:365.141\n",
      "[714]\tvalidation_0-rmse:364.057\n",
      "[715]\tvalidation_0-rmse:363.359\n",
      "[716]\tvalidation_0-rmse:362.344\n",
      "[717]\tvalidation_0-rmse:361.193\n",
      "[718]\tvalidation_0-rmse:360.048\n",
      "[719]\tvalidation_0-rmse:358.271\n",
      "[720]\tvalidation_0-rmse:356.417\n",
      "[721]\tvalidation_0-rmse:355.246\n",
      "[722]\tvalidation_0-rmse:353.512\n",
      "[723]\tvalidation_0-rmse:350.572\n",
      "[724]\tvalidation_0-rmse:348.399\n",
      "[725]\tvalidation_0-rmse:346.833\n",
      "[726]\tvalidation_0-rmse:344.823\n",
      "[727]\tvalidation_0-rmse:343.639\n",
      "[728]\tvalidation_0-rmse:342.222\n",
      "[729]\tvalidation_0-rmse:339.501\n",
      "[730]\tvalidation_0-rmse:338.917\n",
      "[731]\tvalidation_0-rmse:338.011\n",
      "[732]\tvalidation_0-rmse:337.369\n",
      "[733]\tvalidation_0-rmse:337.108\n",
      "[734]\tvalidation_0-rmse:334.415\n",
      "[735]\tvalidation_0-rmse:332.637\n",
      "[736]\tvalidation_0-rmse:330.977\n",
      "[737]\tvalidation_0-rmse:329.158\n",
      "[738]\tvalidation_0-rmse:328.423\n",
      "[739]\tvalidation_0-rmse:328.124\n",
      "[740]\tvalidation_0-rmse:326.485\n",
      "[741]\tvalidation_0-rmse:325.478\n",
      "[742]\tvalidation_0-rmse:324.611\n",
      "[743]\tvalidation_0-rmse:324.234\n",
      "[744]\tvalidation_0-rmse:322.896\n",
      "[745]\tvalidation_0-rmse:321.161\n",
      "[746]\tvalidation_0-rmse:319.909\n",
      "[747]\tvalidation_0-rmse:318.031\n",
      "[748]\tvalidation_0-rmse:316.027\n",
      "[749]\tvalidation_0-rmse:314.164\n",
      "[750]\tvalidation_0-rmse:311.886\n",
      "[751]\tvalidation_0-rmse:309.265\n",
      "[752]\tvalidation_0-rmse:308.819\n",
      "[753]\tvalidation_0-rmse:308.137\n",
      "[754]\tvalidation_0-rmse:306.873\n",
      "[755]\tvalidation_0-rmse:306.609\n",
      "[756]\tvalidation_0-rmse:304.667\n",
      "[757]\tvalidation_0-rmse:302.702\n",
      "[758]\tvalidation_0-rmse:301.348\n",
      "[759]\tvalidation_0-rmse:298.224\n",
      "[760]\tvalidation_0-rmse:296.881\n",
      "[761]\tvalidation_0-rmse:296.506\n",
      "[762]\tvalidation_0-rmse:294.815\n",
      "[763]\tvalidation_0-rmse:293.454\n",
      "[764]\tvalidation_0-rmse:292.568\n",
      "[765]\tvalidation_0-rmse:291.852\n",
      "[766]\tvalidation_0-rmse:291.699\n",
      "[767]\tvalidation_0-rmse:290.263\n",
      "[768]\tvalidation_0-rmse:289.943\n",
      "[769]\tvalidation_0-rmse:286.78\n",
      "[770]\tvalidation_0-rmse:285.351\n",
      "[771]\tvalidation_0-rmse:283.888\n",
      "[772]\tvalidation_0-rmse:283.333\n",
      "[773]\tvalidation_0-rmse:282.297\n"
     ]
    },
    {
     "name": "stdout",
     "output_type": "stream",
     "text": [
      "[774]\tvalidation_0-rmse:280.659\n",
      "[775]\tvalidation_0-rmse:279.395\n",
      "[776]\tvalidation_0-rmse:278.234\n",
      "[777]\tvalidation_0-rmse:277.416\n",
      "[778]\tvalidation_0-rmse:277.072\n",
      "[779]\tvalidation_0-rmse:275.676\n",
      "[780]\tvalidation_0-rmse:275.145\n",
      "[781]\tvalidation_0-rmse:274.665\n",
      "[782]\tvalidation_0-rmse:274.273\n",
      "[783]\tvalidation_0-rmse:273.09\n",
      "[784]\tvalidation_0-rmse:272.872\n",
      "[785]\tvalidation_0-rmse:272.108\n",
      "[786]\tvalidation_0-rmse:270.996\n",
      "[787]\tvalidation_0-rmse:269.728\n",
      "[788]\tvalidation_0-rmse:267.435\n",
      "[789]\tvalidation_0-rmse:265.422\n",
      "[790]\tvalidation_0-rmse:262.89\n",
      "[791]\tvalidation_0-rmse:261.762\n",
      "[792]\tvalidation_0-rmse:260.346\n",
      "[793]\tvalidation_0-rmse:259.105\n",
      "[794]\tvalidation_0-rmse:257.261\n",
      "[795]\tvalidation_0-rmse:255.919\n",
      "[796]\tvalidation_0-rmse:255.625\n",
      "[797]\tvalidation_0-rmse:254.728\n",
      "[798]\tvalidation_0-rmse:253.167\n",
      "[799]\tvalidation_0-rmse:252.401\n",
      "[800]\tvalidation_0-rmse:251.962\n",
      "[801]\tvalidation_0-rmse:250.963\n",
      "[802]\tvalidation_0-rmse:249.224\n",
      "[803]\tvalidation_0-rmse:248.774\n",
      "[804]\tvalidation_0-rmse:246.971\n",
      "[805]\tvalidation_0-rmse:246.256\n",
      "[806]\tvalidation_0-rmse:245.418\n",
      "[807]\tvalidation_0-rmse:243.204\n",
      "[808]\tvalidation_0-rmse:241.662\n",
      "[809]\tvalidation_0-rmse:241.223\n",
      "[810]\tvalidation_0-rmse:240.338\n",
      "[811]\tvalidation_0-rmse:239.507\n",
      "[812]\tvalidation_0-rmse:238.692\n",
      "[813]\tvalidation_0-rmse:238.543\n",
      "[814]\tvalidation_0-rmse:238.392\n",
      "[815]\tvalidation_0-rmse:236.981\n",
      "[816]\tvalidation_0-rmse:235.73\n",
      "[817]\tvalidation_0-rmse:233.485\n",
      "[818]\tvalidation_0-rmse:232.346\n",
      "[819]\tvalidation_0-rmse:230.954\n",
      "[820]\tvalidation_0-rmse:229.773\n",
      "[821]\tvalidation_0-rmse:228.87\n",
      "[822]\tvalidation_0-rmse:227.795\n",
      "[823]\tvalidation_0-rmse:226.778\n",
      "[824]\tvalidation_0-rmse:225.87\n",
      "[825]\tvalidation_0-rmse:224.413\n",
      "[826]\tvalidation_0-rmse:223.716\n",
      "[827]\tvalidation_0-rmse:222.913\n",
      "[828]\tvalidation_0-rmse:222.69\n",
      "[829]\tvalidation_0-rmse:222.168\n",
      "[830]\tvalidation_0-rmse:220.819\n",
      "[831]\tvalidation_0-rmse:220.586\n",
      "[832]\tvalidation_0-rmse:220.449\n",
      "[833]\tvalidation_0-rmse:220.318\n",
      "[834]\tvalidation_0-rmse:220.088\n",
      "[835]\tvalidation_0-rmse:218.871\n",
      "[836]\tvalidation_0-rmse:217.037\n",
      "[837]\tvalidation_0-rmse:215.514\n",
      "[838]\tvalidation_0-rmse:214.812\n",
      "[839]\tvalidation_0-rmse:213.664\n",
      "[840]\tvalidation_0-rmse:212.675\n",
      "[841]\tvalidation_0-rmse:212.002\n",
      "[842]\tvalidation_0-rmse:210.84\n",
      "[843]\tvalidation_0-rmse:209.814\n",
      "[844]\tvalidation_0-rmse:209.013\n",
      "[845]\tvalidation_0-rmse:208.565\n",
      "[846]\tvalidation_0-rmse:208.441\n",
      "[847]\tvalidation_0-rmse:207.252\n",
      "[848]\tvalidation_0-rmse:206.365\n",
      "[849]\tvalidation_0-rmse:206.149\n",
      "[850]\tvalidation_0-rmse:204.887\n",
      "[851]\tvalidation_0-rmse:203.746\n",
      "[852]\tvalidation_0-rmse:202.72\n",
      "[853]\tvalidation_0-rmse:201.131\n",
      "[854]\tvalidation_0-rmse:200.283\n",
      "[855]\tvalidation_0-rmse:198.87\n",
      "[856]\tvalidation_0-rmse:197.7\n",
      "[857]\tvalidation_0-rmse:195.725\n",
      "[858]\tvalidation_0-rmse:194.611\n",
      "[859]\tvalidation_0-rmse:193.674\n",
      "[860]\tvalidation_0-rmse:192.549\n",
      "[861]\tvalidation_0-rmse:192.067\n",
      "[862]\tvalidation_0-rmse:191.563\n",
      "[863]\tvalidation_0-rmse:191.095\n",
      "[864]\tvalidation_0-rmse:190.474\n",
      "[865]\tvalidation_0-rmse:189.65\n",
      "[866]\tvalidation_0-rmse:188.985\n",
      "[867]\tvalidation_0-rmse:188.647\n",
      "[868]\tvalidation_0-rmse:187.775\n",
      "[869]\tvalidation_0-rmse:186.864\n",
      "[870]\tvalidation_0-rmse:186.239\n",
      "[871]\tvalidation_0-rmse:183.923\n",
      "[872]\tvalidation_0-rmse:183.746\n",
      "[873]\tvalidation_0-rmse:183.596\n",
      "[874]\tvalidation_0-rmse:182.835\n",
      "[875]\tvalidation_0-rmse:181.826\n",
      "[876]\tvalidation_0-rmse:181.603\n",
      "[877]\tvalidation_0-rmse:181.449\n",
      "[878]\tvalidation_0-rmse:180.517\n",
      "[879]\tvalidation_0-rmse:179.287\n",
      "[880]\tvalidation_0-rmse:178.19\n",
      "[881]\tvalidation_0-rmse:177.172\n",
      "[882]\tvalidation_0-rmse:176.09\n",
      "[883]\tvalidation_0-rmse:175.083\n",
      "[884]\tvalidation_0-rmse:174.236\n",
      "[885]\tvalidation_0-rmse:173.856\n",
      "[886]\tvalidation_0-rmse:173.631\n",
      "[887]\tvalidation_0-rmse:172.559\n",
      "[888]\tvalidation_0-rmse:171.695\n",
      "[889]\tvalidation_0-rmse:171.603\n",
      "[890]\tvalidation_0-rmse:170.949\n",
      "[891]\tvalidation_0-rmse:170.322\n",
      "[892]\tvalidation_0-rmse:169.422\n",
      "[893]\tvalidation_0-rmse:168.897\n",
      "[894]\tvalidation_0-rmse:168.045\n",
      "[895]\tvalidation_0-rmse:167.731\n",
      "[896]\tvalidation_0-rmse:167.593\n",
      "[897]\tvalidation_0-rmse:166.526\n",
      "[898]\tvalidation_0-rmse:165.249\n",
      "[899]\tvalidation_0-rmse:164.281\n",
      "[900]\tvalidation_0-rmse:163.613\n",
      "[901]\tvalidation_0-rmse:162.611\n",
      "[902]\tvalidation_0-rmse:161.981\n",
      "[903]\tvalidation_0-rmse:161.742\n",
      "[904]\tvalidation_0-rmse:161.075\n",
      "[905]\tvalidation_0-rmse:160.31\n",
      "[906]\tvalidation_0-rmse:159.108\n",
      "[907]\tvalidation_0-rmse:158.209\n",
      "[908]\tvalidation_0-rmse:157.544\n",
      "[909]\tvalidation_0-rmse:156.895\n",
      "[910]\tvalidation_0-rmse:155.921\n",
      "[911]\tvalidation_0-rmse:155.504\n",
      "[912]\tvalidation_0-rmse:155.355\n",
      "[913]\tvalidation_0-rmse:154.636\n",
      "[914]\tvalidation_0-rmse:153.946\n",
      "[915]\tvalidation_0-rmse:153.115\n",
      "[916]\tvalidation_0-rmse:152.235\n",
      "[917]\tvalidation_0-rmse:151.515\n",
      "[918]\tvalidation_0-rmse:150.477\n",
      "[919]\tvalidation_0-rmse:149.808\n",
      "[920]\tvalidation_0-rmse:149.352\n",
      "[921]\tvalidation_0-rmse:148.495\n",
      "[922]\tvalidation_0-rmse:147.793\n",
      "[923]\tvalidation_0-rmse:147.511\n",
      "[924]\tvalidation_0-rmse:146.968\n",
      "[925]\tvalidation_0-rmse:146.782\n",
      "[926]\tvalidation_0-rmse:145.676\n",
      "[927]\tvalidation_0-rmse:144.795\n",
      "[928]\tvalidation_0-rmse:143.795\n",
      "[929]\tvalidation_0-rmse:142.734\n",
      "[930]\tvalidation_0-rmse:142.147\n",
      "[931]\tvalidation_0-rmse:141.557\n",
      "[932]\tvalidation_0-rmse:141.187\n",
      "[933]\tvalidation_0-rmse:141.05\n",
      "[934]\tvalidation_0-rmse:140.386\n",
      "[935]\tvalidation_0-rmse:140.208\n",
      "[936]\tvalidation_0-rmse:139.863\n",
      "[937]\tvalidation_0-rmse:139.166\n",
      "[938]\tvalidation_0-rmse:138.661\n",
      "[939]\tvalidation_0-rmse:137.424\n",
      "[940]\tvalidation_0-rmse:136.779\n",
      "[941]\tvalidation_0-rmse:136.362\n",
      "[942]\tvalidation_0-rmse:135.63\n",
      "[943]\tvalidation_0-rmse:135.259\n",
      "[944]\tvalidation_0-rmse:134.071\n",
      "[945]\tvalidation_0-rmse:133.779\n",
      "[946]\tvalidation_0-rmse:133.526\n",
      "[947]\tvalidation_0-rmse:132.879\n",
      "[948]\tvalidation_0-rmse:131.876\n",
      "[949]\tvalidation_0-rmse:131.666\n",
      "[950]\tvalidation_0-rmse:131.262\n",
      "[951]\tvalidation_0-rmse:130.313\n",
      "[952]\tvalidation_0-rmse:129.726\n",
      "[953]\tvalidation_0-rmse:129.129\n",
      "[954]\tvalidation_0-rmse:128.763\n",
      "[955]\tvalidation_0-rmse:128.678\n",
      "[956]\tvalidation_0-rmse:127.987\n",
      "[957]\tvalidation_0-rmse:127.044\n",
      "[958]\tvalidation_0-rmse:126.172\n",
      "[959]\tvalidation_0-rmse:125.778\n",
      "[960]\tvalidation_0-rmse:125.063\n",
      "[961]\tvalidation_0-rmse:124.629\n",
      "[962]\tvalidation_0-rmse:123.955\n",
      "[963]\tvalidation_0-rmse:123.508\n",
      "[964]\tvalidation_0-rmse:122.847\n",
      "[965]\tvalidation_0-rmse:122.074\n",
      "[966]\tvalidation_0-rmse:121.656\n",
      "[967]\tvalidation_0-rmse:121.585\n",
      "[968]\tvalidation_0-rmse:121.001\n",
      "[969]\tvalidation_0-rmse:120.46\n",
      "[970]\tvalidation_0-rmse:120.072\n",
      "[971]\tvalidation_0-rmse:119.947\n",
      "[972]\tvalidation_0-rmse:119.334\n",
      "[973]\tvalidation_0-rmse:119.162\n",
      "[974]\tvalidation_0-rmse:118.026\n",
      "[975]\tvalidation_0-rmse:117.785\n",
      "[976]\tvalidation_0-rmse:117.155\n",
      "[977]\tvalidation_0-rmse:116.915\n",
      "[978]\tvalidation_0-rmse:116.666\n",
      "[979]\tvalidation_0-rmse:116.367\n",
      "[980]\tvalidation_0-rmse:116.103\n",
      "[981]\tvalidation_0-rmse:115.776\n",
      "[982]\tvalidation_0-rmse:115.53\n",
      "[983]\tvalidation_0-rmse:115.021\n",
      "[984]\tvalidation_0-rmse:114.355\n",
      "[985]\tvalidation_0-rmse:113.286\n",
      "[986]\tvalidation_0-rmse:112.766\n",
      "[987]\tvalidation_0-rmse:112.124\n",
      "[988]\tvalidation_0-rmse:111.379\n",
      "[989]\tvalidation_0-rmse:110.753\n",
      "[990]\tvalidation_0-rmse:110.268\n",
      "[991]\tvalidation_0-rmse:109.69\n",
      "[992]\tvalidation_0-rmse:109.356\n",
      "[993]\tvalidation_0-rmse:108.743\n",
      "[994]\tvalidation_0-rmse:108.084\n",
      "[995]\tvalidation_0-rmse:107.714\n",
      "[996]\tvalidation_0-rmse:107.326\n",
      "[997]\tvalidation_0-rmse:107.007\n",
      "[998]\tvalidation_0-rmse:106.403\n",
      "[999]\tvalidation_0-rmse:105.902\n"
     ]
    }
   ],
   "source": [
    "# read in the test and train data \n",
    "# select numeric test and train features\n",
    "train = pd.read_csv('data/train.csv')\n",
    "train.dropna(axis = 0, subset = ['SalePrice'], inplace = True)\n",
    "train_y = train.SalePrice\n",
    "train_X = train.drop(['SalePrice'], axis = 1).select_dtypes(exclude = ['object'])\n",
    "\n",
    "test = pd.read_csv('data/test.csv')\n",
    "test_X = test.select_dtypes(exclude = ['object'])\n",
    "\n",
    "# impute any missing values in both test and train\n",
    "train_X = my_imputer.fit_transform(train_X)\n",
    "test_X = my_imputer.transform(test_X)\n",
    "\n",
    "# fit tuned model to train\n",
    "my_model = XGBRegressor(n_estimators=1000, learning_rate = 0.5)\n",
    "my_model.fit(train_X, train_y, early_stopping_rounds = 5,\n",
    "             eval_set = [(train_X, train_y)],\n",
    "             verbose = True)\n",
    "\n",
    "# predict on test\n",
    "tuned_xgb_numeric_preds = my_model.predict(test_X)"
   ]
  },
  {
   "cell_type": "code",
   "execution_count": 268,
   "metadata": {
    "collapsed": true
   },
   "outputs": [],
   "source": [
    "#submit\n",
    "my_submission = pd.DataFrame({'Id': test.Id, 'SalePrice': tuned_xgb_numeric_preds})\n",
    "my_submission.to_csv('loosely_tuned_xgb_numeric_preds.csv', index = False)"
   ]
  },
  {
   "cell_type": "code",
   "execution_count": null,
   "metadata": {
    "collapsed": true
   },
   "outputs": [],
   "source": [
    "## make an xgboost prediction on encoded data"
   ]
  },
  {
   "cell_type": "code",
   "execution_count": null,
   "metadata": {
    "collapsed": true
   },
   "outputs": [],
   "source": []
  },
  {
   "cell_type": "code",
   "execution_count": null,
   "metadata": {
    "collapsed": true
   },
   "outputs": [],
   "source": []
  }
 ],
 "metadata": {
  "kernelspec": {
   "display_name": "Python 3",
   "language": "python",
   "name": "python3"
  },
  "language_info": {
   "codemirror_mode": {
    "name": "ipython",
    "version": 3
   },
   "file_extension": ".py",
   "mimetype": "text/x-python",
   "name": "python",
   "nbconvert_exporter": "python",
   "pygments_lexer": "ipython3",
   "version": "3.6.2"
  }
 },
 "nbformat": 4,
 "nbformat_minor": 2
}
